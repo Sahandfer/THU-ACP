{
 "cells": [
  {
   "cell_type": "code",
   "execution_count": 8,
   "metadata": {},
   "outputs": [
    {
     "ename": "TypeError",
     "evalue": "unsupported operand type(s) for +: 'dict' and 'list'",
     "output_type": "error",
     "traceback": [
      "\u001b[0;31m---------------------------------------------------------------------------\u001b[0m",
      "\u001b[0;31mTypeError\u001b[0m                                 Traceback (most recent call last)",
      "\u001b[1;32m/Users/sahandsabour/Desktop/Tsinghua/Introduction to Big Data Systems/Assignments/Assignment 9/temp.ipynb Cell 1\u001b[0m in \u001b[0;36m<module>\u001b[0;34m\u001b[0m\n\u001b[1;32m      <a href='vscode-notebook-cell:/Users/sahandsabour/Desktop/Tsinghua/Introduction%20to%20Big%20Data%20Systems/Assignments/Assignment%209/temp.ipynb#Y100sZmlsZQ%3D%3D?line=1'>2</a>\u001b[0m e \u001b[39m=\u001b[39m (\u001b[39m\"\u001b[39m\u001b[39mhello there\u001b[39m\u001b[39m\"\u001b[39m, \u001b[39m\"\u001b[39m\u001b[39mhow are you\u001b[39m\u001b[39m\"\u001b[39m)\n\u001b[1;32m      <a href='vscode-notebook-cell:/Users/sahandsabour/Desktop/Tsinghua/Introduction%20to%20Big%20Data%20Systems/Assignments/Assignment%209/temp.ipynb#Y100sZmlsZQ%3D%3D?line=2'>3</a>\u001b[0m dst_v\u001b[39m=\u001b[39m (\u001b[39m1\u001b[39m, \u001b[39m\"\u001b[39m\u001b[39m1\u001b[39m\u001b[39m\"\u001b[39m, \u001b[39m0\u001b[39m)\n\u001b[0;32m----> <a href='vscode-notebook-cell:/Users/sahandsabour/Desktop/Tsinghua/Introduction%20to%20Big%20Data%20Systems/Assignments/Assignment%209/temp.ipynb#Y100sZmlsZQ%3D%3D?line=3'>4</a>\u001b[0m graph[dst_v[\u001b[39m0\u001b[39m]] \u001b[39m=\u001b[39m graph\u001b[39m.\u001b[39;49mget(dst_v[\u001b[39m0\u001b[39;49m], {\u001b[39m\"\u001b[39;49m\u001b[39moutgoing\u001b[39;49m\u001b[39m\"\u001b[39;49m: [], \u001b[39m\"\u001b[39;49m\u001b[39mincoming\u001b[39;49m\u001b[39m\"\u001b[39;49m: []}) \u001b[39m+\u001b[39;49m [e]\n",
      "\u001b[0;31mTypeError\u001b[0m: unsupported operand type(s) for +: 'dict' and 'list'"
     ]
    }
   ],
   "source": [
    "graph = {}\n",
    "e = (\"hello there\", \"how are you\")\n",
    "dst_v= (1, \"1\", 0)\n",
    "graph[dst_v[0]] = graph.get(dst_v[0], {\"outgoing\": [], \"incoming\": []})[\"incoming\"] + [e] "
   ]
  },
  {
   "cell_type": "code",
   "execution_count": 7,
   "metadata": {},
   "outputs": [
    {
     "data": {
      "text/plain": [
       "{1: [('hello there', 'how are you')]}"
      ]
     },
     "execution_count": 7,
     "metadata": {},
     "output_type": "execute_result"
    }
   ],
   "source": [
    "graph"
   ]
  },
  {
   "cell_type": "code",
   "execution_count": 3,
   "metadata": {},
   "outputs": [],
   "source": [
    "import pandas as pd"
   ]
  },
  {
   "cell_type": "code",
   "execution_count": 48,
   "metadata": {},
   "outputs": [],
   "source": [
    "card_dict = {}\n",
    "with open('data/account') as f:\n",
    "    for line in f:\n",
    "        id, name, _, _ = line.split(\",\")\n",
    "        card_dict[id] = name"
   ]
  },
  {
   "cell_type": "code",
   "execution_count": 41,
   "metadata": {},
   "outputs": [
    {
     "data": {
      "text/plain": [
       "'Jobs'"
      ]
     },
     "execution_count": 41,
     "metadata": {},
     "output_type": "execute_result"
    }
   ],
   "source": [
    "card_dict[\"799999\"]\n",
    "684821"
   ]
  },
  {
   "cell_type": "code",
   "execution_count": 47,
   "metadata": {},
   "outputs": [
    {
     "data": {
      "text/html": [
       "<div>\n",
       "<style scoped>\n",
       "    .dataframe tbody tr th:only-of-type {\n",
       "        vertical-align: middle;\n",
       "    }\n",
       "\n",
       "    .dataframe tbody tr th {\n",
       "        vertical-align: top;\n",
       "    }\n",
       "\n",
       "    .dataframe thead th {\n",
       "        text-align: right;\n",
       "    }\n",
       "</style>\n",
       "<table border=\"1\" class=\"dataframe\">\n",
       "  <thead>\n",
       "    <tr style=\"text-align: right;\">\n",
       "      <th></th>\n",
       "      <th>src</th>\n",
       "      <th>tgt</th>\n",
       "      <th>_1</th>\n",
       "      <th>amt</th>\n",
       "      <th>strategy</th>\n",
       "      <th>_2</th>\n",
       "      <th>bus</th>\n",
       "      <th>_3</th>\n",
       "      <th>_4</th>\n",
       "      <th>_5</th>\n",
       "      <th>_6</th>\n",
       "      <th>_7</th>\n",
       "      <th>_8</th>\n",
       "    </tr>\n",
       "  </thead>\n",
       "  <tbody>\n",
       "    <tr>\n",
       "      <th>0</th>\n",
       "      <td>284452</td>\n",
       "      <td>734522</td>\n",
       "      <td>1591541159105</td>\n",
       "      <td>0.0</td>\n",
       "      <td>strategy_name-2</td>\n",
       "      <td>1591541151019206</td>\n",
       "      <td>buscode2</td>\n",
       "      <td>NaN</td>\n",
       "      <td>NaN</td>\n",
       "      <td>NaN</td>\n",
       "      <td>NaN</td>\n",
       "      <td>NaN</td>\n",
       "      <td>NaN</td>\n",
       "    </tr>\n",
       "    <tr>\n",
       "      <th>1</th>\n",
       "      <td>734522</td>\n",
       "      <td>284452</td>\n",
       "      <td>1589444855487</td>\n",
       "      <td>50.0</td>\n",
       "      <td>strategy_name-1</td>\n",
       "      <td>1589444851198131</td>\n",
       "      <td>buscode2</td>\n",
       "      <td>NaN</td>\n",
       "      <td>NaN</td>\n",
       "      <td>NaN</td>\n",
       "      <td>NaN</td>\n",
       "      <td>NaN</td>\n",
       "      <td>NaN</td>\n",
       "    </tr>\n",
       "    <tr>\n",
       "      <th>2</th>\n",
       "      <td>785045</td>\n",
       "      <td>318621</td>\n",
       "      <td>1591480309180</td>\n",
       "      <td>9.0</td>\n",
       "      <td>strategy_name-2</td>\n",
       "      <td>1591480301104093</td>\n",
       "      <td>buscode2</td>\n",
       "      <td>NaN</td>\n",
       "      <td>NaN</td>\n",
       "      <td>NaN</td>\n",
       "      <td>NaN</td>\n",
       "      <td>NaN</td>\n",
       "      <td>NaN</td>\n",
       "    </tr>\n",
       "    <tr>\n",
       "      <th>3</th>\n",
       "      <td>318621</td>\n",
       "      <td>785045</td>\n",
       "      <td>1588981218768</td>\n",
       "      <td>11.0</td>\n",
       "      <td>strategy_name-1</td>\n",
       "      <td>158898121665402</td>\n",
       "      <td>buscode3</td>\n",
       "      <td>NaN</td>\n",
       "      <td>NaN</td>\n",
       "      <td>NaN</td>\n",
       "      <td>NaN</td>\n",
       "      <td>NaN</td>\n",
       "      <td>NaN</td>\n",
       "    </tr>\n",
       "    <tr>\n",
       "      <th>4</th>\n",
       "      <td>785045</td>\n",
       "      <td>318621</td>\n",
       "      <td>1590596558466</td>\n",
       "      <td>3.0</td>\n",
       "      <td>strategy_name-3</td>\n",
       "      <td>159059655704811</td>\n",
       "      <td>buscode3</td>\n",
       "      <td>NaN</td>\n",
       "      <td>NaN</td>\n",
       "      <td>NaN</td>\n",
       "      <td>NaN</td>\n",
       "      <td>NaN</td>\n",
       "      <td>NaN</td>\n",
       "    </tr>\n",
       "    <tr>\n",
       "      <th>...</th>\n",
       "      <td>...</td>\n",
       "      <td>...</td>\n",
       "      <td>...</td>\n",
       "      <td>...</td>\n",
       "      <td>...</td>\n",
       "      <td>...</td>\n",
       "      <td>...</td>\n",
       "      <td>...</td>\n",
       "      <td>...</td>\n",
       "      <td>...</td>\n",
       "      <td>...</td>\n",
       "      <td>...</td>\n",
       "      <td>...</td>\n",
       "    </tr>\n",
       "    <tr>\n",
       "      <th>6010507</th>\n",
       "      <td>292418</td>\n",
       "      <td>353258</td>\n",
       "      <td>1590538003773</td>\n",
       "      <td>5.0</td>\n",
       "      <td>strategy_name-2</td>\n",
       "      <td>159053800382330</td>\n",
       "      <td>buscode1</td>\n",
       "      <td>NaN</td>\n",
       "      <td>NaN</td>\n",
       "      <td>NaN</td>\n",
       "      <td>NaN</td>\n",
       "      <td>NaN</td>\n",
       "      <td>NaN</td>\n",
       "    </tr>\n",
       "    <tr>\n",
       "      <th>6010508</th>\n",
       "      <td>309564</td>\n",
       "      <td>163379</td>\n",
       "      <td>1590887473301</td>\n",
       "      <td>0.0</td>\n",
       "      <td>strategy_name-3</td>\n",
       "      <td>159088747473330</td>\n",
       "      <td>buscode3</td>\n",
       "      <td>NaN</td>\n",
       "      <td>NaN</td>\n",
       "      <td>NaN</td>\n",
       "      <td>NaN</td>\n",
       "      <td>NaN</td>\n",
       "      <td>NaN</td>\n",
       "    </tr>\n",
       "    <tr>\n",
       "      <th>6010509</th>\n",
       "      <td>163379</td>\n",
       "      <td>309564</td>\n",
       "      <td>1591576808257</td>\n",
       "      <td>50.0</td>\n",
       "      <td>strategy_name-1</td>\n",
       "      <td>1591576801122775</td>\n",
       "      <td>buscode1</td>\n",
       "      <td>NaN</td>\n",
       "      <td>NaN</td>\n",
       "      <td>NaN</td>\n",
       "      <td>NaN</td>\n",
       "      <td>NaN</td>\n",
       "      <td>NaN</td>\n",
       "    </tr>\n",
       "    <tr>\n",
       "      <th>6010510</th>\n",
       "      <td>540919</td>\n",
       "      <td>727046</td>\n",
       "      <td>1591476332783</td>\n",
       "      <td>0.0</td>\n",
       "      <td>strategy_name-2</td>\n",
       "      <td>1591476331268538</td>\n",
       "      <td>buscode3</td>\n",
       "      <td>NaN</td>\n",
       "      <td>NaN</td>\n",
       "      <td>NaN</td>\n",
       "      <td>NaN</td>\n",
       "      <td>NaN</td>\n",
       "      <td>NaN</td>\n",
       "    </tr>\n",
       "    <tr>\n",
       "      <th>6010511</th>\n",
       "      <td>727046</td>\n",
       "      <td>540919</td>\n",
       "      <td>1590041015350</td>\n",
       "      <td>4.0</td>\n",
       "      <td>strategy_name-1</td>\n",
       "      <td>1590041011161547</td>\n",
       "      <td>buscode4</td>\n",
       "      <td>NaN</td>\n",
       "      <td>NaN</td>\n",
       "      <td>NaN</td>\n",
       "      <td>NaN</td>\n",
       "      <td>NaN</td>\n",
       "      <td>NaN</td>\n",
       "    </tr>\n",
       "  </tbody>\n",
       "</table>\n",
       "<p>6010512 rows × 13 columns</p>\n",
       "</div>"
      ],
      "text/plain": [
       "            src     tgt             _1   amt         strategy  \\\n",
       "0        284452  734522  1591541159105   0.0  strategy_name-2   \n",
       "1        734522  284452  1589444855487  50.0  strategy_name-1   \n",
       "2        785045  318621  1591480309180   9.0  strategy_name-2   \n",
       "3        318621  785045  1588981218768  11.0  strategy_name-1   \n",
       "4        785045  318621  1590596558466   3.0  strategy_name-3   \n",
       "...         ...     ...            ...   ...              ...   \n",
       "6010507  292418  353258  1590538003773   5.0  strategy_name-2   \n",
       "6010508  309564  163379  1590887473301   0.0  strategy_name-3   \n",
       "6010509  163379  309564  1591576808257  50.0  strategy_name-1   \n",
       "6010510  540919  727046  1591476332783   0.0  strategy_name-2   \n",
       "6010511  727046  540919  1590041015350   4.0  strategy_name-1   \n",
       "\n",
       "                       _2       bus  _3  _4  _5  _6  _7  _8  \n",
       "0        1591541151019206  buscode2 NaN NaN NaN NaN NaN NaN  \n",
       "1        1589444851198131  buscode2 NaN NaN NaN NaN NaN NaN  \n",
       "2        1591480301104093  buscode2 NaN NaN NaN NaN NaN NaN  \n",
       "3         158898121665402  buscode3 NaN NaN NaN NaN NaN NaN  \n",
       "4         159059655704811  buscode3 NaN NaN NaN NaN NaN NaN  \n",
       "...                   ...       ...  ..  ..  ..  ..  ..  ..  \n",
       "6010507   159053800382330  buscode1 NaN NaN NaN NaN NaN NaN  \n",
       "6010508   159088747473330  buscode3 NaN NaN NaN NaN NaN NaN  \n",
       "6010509  1591576801122775  buscode1 NaN NaN NaN NaN NaN NaN  \n",
       "6010510  1591476331268538  buscode3 NaN NaN NaN NaN NaN NaN  \n",
       "6010511  1590041011161547  buscode4 NaN NaN NaN NaN NaN NaN  \n",
       "\n",
       "[6010512 rows x 13 columns]"
      ]
     },
     "execution_count": 47,
     "metadata": {},
     "output_type": "execute_result"
    }
   ],
   "source": [
    "df = pd.read_csv('data/account_to_account', sep=\",\", names=[\"src\", \"tgt\",\"_1\", \"amt\", \"strategy\",\"_2\", \"bus\",\"_3\",\"_4\",\"_5\",\"_6\",\"_7\",\"_8\"], header=None)\n",
    "df"
   ]
  },
  {
   "cell_type": "code",
   "execution_count": 52,
   "metadata": {},
   "outputs": [],
   "source": [
    "df = df[[\"src\", \"tgt\", \"amt\", \"strategy\", \"bus\"]]"
   ]
  },
  {
   "cell_type": "code",
   "execution_count": 53,
   "metadata": {},
   "outputs": [
    {
     "name": "stderr",
     "output_type": "stream",
     "text": [
      "/var/folders/_m/blpl95d53ns5nqzldymg2s940000gn/T/ipykernel_10867/410251005.py:1: SettingWithCopyWarning: \n",
      "A value is trying to be set on a copy of a slice from a DataFrame.\n",
      "Try using .loc[row_indexer,col_indexer] = value instead\n",
      "\n",
      "See the caveats in the documentation: https://pandas.pydata.org/pandas-docs/stable/user_guide/indexing.html#returning-a-view-versus-a-copy\n",
      "  df[\"src_name\"] = df[\"src\"].apply(lambda x: card_dict[str(x)])\n"
     ]
    }
   ],
   "source": [
    "df[\"src_name\"] = df[\"src\"].apply(lambda x: card_dict[str(x)])"
   ]
  },
  {
   "cell_type": "code",
   "execution_count": 54,
   "metadata": {},
   "outputs": [
    {
     "name": "stderr",
     "output_type": "stream",
     "text": [
      "/var/folders/_m/blpl95d53ns5nqzldymg2s940000gn/T/ipykernel_10867/3467949693.py:1: SettingWithCopyWarning: \n",
      "A value is trying to be set on a copy of a slice from a DataFrame.\n",
      "Try using .loc[row_indexer,col_indexer] = value instead\n",
      "\n",
      "See the caveats in the documentation: https://pandas.pydata.org/pandas-docs/stable/user_guide/indexing.html#returning-a-view-versus-a-copy\n",
      "  df[\"tgt_name\"] = df[\"tgt\"].apply(lambda x: card_dict[str(x)])\n"
     ]
    }
   ],
   "source": [
    "df[\"tgt_name\"] = df[\"tgt\"].apply(lambda x: card_dict[str(x)])"
   ]
  },
  {
   "cell_type": "code",
   "execution_count": 58,
   "metadata": {},
   "outputs": [],
   "source": [
    "df.to_csv(\"data/acc2acc.csv\", index=False)"
   ]
  },
  {
   "cell_type": "code",
   "execution_count": 61,
   "metadata": {},
   "outputs": [
    {
     "data": {
      "text/plain": [
       "array(['John', 'Jobs', 'Mike'], dtype=object)"
      ]
     },
     "execution_count": 61,
     "metadata": {},
     "output_type": "execute_result"
    }
   ],
   "source": [
    "df[\"tgt_name\"].unique()"
   ]
  },
  {
   "cell_type": "code",
   "execution_count": null,
   "metadata": {},
   "outputs": [],
   "source": [
    "# account ids are 0-799999\n",
    "# card ids are from 0-599999\n",
    "\n",
    "# Types = 0 (card) 1 (account)\n",
    "# names = ['John', 'Jobs', 'Mike'] (0, 1, 2)"
   ]
  },
  {
   "cell_type": "code",
   "execution_count": null,
   "metadata": {},
   "outputs": [],
   "source": []
  },
  {
   "cell_type": "code",
   "execution_count": 62,
   "metadata": {},
   "outputs": [],
   "source": [
    "dft = pd.read_csv(\"data/acc2card.csv\")"
   ]
  },
  {
   "cell_type": "code",
   "execution_count": 68,
   "metadata": {},
   "outputs": [
    {
     "name": "stderr",
     "output_type": "stream",
     "text": [
      "/var/folders/_m/blpl95d53ns5nqzldymg2s940000gn/T/ipykernel_10867/1493206207.py:1: SettingWithCopyWarning: \n",
      "A value is trying to be set on a copy of a slice from a DataFrame.\n",
      "Try using .loc[row_indexer,col_indexer] = value instead\n",
      "\n",
      "See the caveats in the documentation: https://pandas.pydata.org/pandas-docs/stable/user_guide/indexing.html#returning-a-view-versus-a-copy\n",
      "  df[\"strategy\"] = df[\"strategy\"].apply(lambda x: int(x.replace(\"strategy_name-\", \"\")))\n",
      "/var/folders/_m/blpl95d53ns5nqzldymg2s940000gn/T/ipykernel_10867/1493206207.py:2: SettingWithCopyWarning: \n",
      "A value is trying to be set on a copy of a slice from a DataFrame.\n",
      "Try using .loc[row_indexer,col_indexer] = value instead\n",
      "\n",
      "See the caveats in the documentation: https://pandas.pydata.org/pandas-docs/stable/user_guide/indexing.html#returning-a-view-versus-a-copy\n",
      "  df[\"bus\"] = df[\"bus\"].apply(lambda x: int(x.replace(\"buscode\", \"\")))\n"
     ]
    }
   ],
   "source": [
    "df[\"strategy\"] = df[\"strategy\"].apply(lambda x: int(x.replace(\"strategy_name-\", \"\")))\n",
    "df[\"bus\"] = df[\"bus\"].apply(lambda x: int(x.replace(\"buscode\", \"\")))"
   ]
  },
  {
   "cell_type": "code",
   "execution_count": 70,
   "metadata": {},
   "outputs": [
    {
     "name": "stderr",
     "output_type": "stream",
     "text": [
      "/var/folders/_m/blpl95d53ns5nqzldymg2s940000gn/T/ipykernel_10867/2765373401.py:1: SettingWithCopyWarning: \n",
      "A value is trying to be set on a copy of a slice from a DataFrame.\n",
      "Try using .loc[row_indexer,col_indexer] = value instead\n",
      "\n",
      "See the caveats in the documentation: https://pandas.pydata.org/pandas-docs/stable/user_guide/indexing.html#returning-a-view-versus-a-copy\n",
      "  df[\"type\"] = 1\n"
     ]
    }
   ],
   "source": [
    "df[\"type\"] = 1\n",
    "dft[\"type\"] = 0"
   ]
  },
  {
   "cell_type": "code",
   "execution_count": 72,
   "metadata": {},
   "outputs": [],
   "source": [
    "df = pd.concat([dft, df])"
   ]
  },
  {
   "cell_type": "code",
   "execution_count": 27,
   "metadata": {},
   "outputs": [],
   "source": [
    "df.to_csv(\"data/full.csv\", index=False)"
   ]
  },
  {
   "cell_type": "code",
   "execution_count": 1,
   "metadata": {},
   "outputs": [
    {
     "ename": "NameError",
     "evalue": "name 'df' is not defined",
     "output_type": "error",
     "traceback": [
      "\u001b[0;31m---------------------------------------------------------------------------\u001b[0m",
      "\u001b[0;31mNameError\u001b[0m                                 Traceback (most recent call last)",
      "\u001b[1;32m/Users/sahandsabour/Desktop/Tsinghua/Introduction to Big Data Systems/Assignments/Assignment 9/temp.ipynb Cell 16\u001b[0m in \u001b[0;36m<module>\u001b[0;34m\u001b[0m\n\u001b[0;32m----> <a href='vscode-notebook-cell:/Users/sahandsabour/Desktop/Tsinghua/Introduction%20to%20Big%20Data%20Systems/Assignments/Assignment%209/temp.ipynb#X21sZmlsZQ%3D%3D?line=0'>1</a>\u001b[0m \u001b[39mlen\u001b[39m(df)\n",
      "\u001b[0;31mNameError\u001b[0m: name 'df' is not defined"
     ]
    }
   ],
   "source": [
    "len(df)"
   ]
  },
  {
   "cell_type": "code",
   "execution_count": 81,
   "metadata": {},
   "outputs": [],
   "source": [
    "a = (1, 2,3)\n",
    "b = (1, 3, 2)"
   ]
  },
  {
   "cell_type": "code",
   "execution_count": 82,
   "metadata": {},
   "outputs": [
    {
     "data": {
      "text/plain": [
       "False"
      ]
     },
     "execution_count": 82,
     "metadata": {},
     "output_type": "execute_result"
    }
   ],
   "source": [
    "a == b"
   ]
  },
  {
   "cell_type": "code",
   "execution_count": 89,
   "metadata": {},
   "outputs": [
    {
     "data": {
      "text/plain": [
       "False"
      ]
     },
     "execution_count": 89,
     "metadata": {},
     "output_type": "execute_result"
    }
   ],
   "source": [
    "a[:1] < b[:1]"
   ]
  },
  {
   "cell_type": "code",
   "execution_count": 93,
   "metadata": {},
   "outputs": [
    {
     "data": {
      "text/plain": [
       "[1, 3]"
      ]
     },
     "execution_count": 93,
     "metadata": {},
     "output_type": "execute_result"
    }
   ],
   "source": [
    "t = [1, 2, 3]\n",
    "\n",
    "[h for h in t if h%2]"
   ]
  },
  {
   "cell_type": "code",
   "execution_count": 94,
   "metadata": {},
   "outputs": [
    {
     "data": {
      "text/plain": [
       "44"
      ]
     },
     "execution_count": 94,
     "metadata": {},
     "output_type": "execute_result"
    }
   ],
   "source": [
    "import math\n",
    "\n",
    "math.floor(44.0)"
   ]
  },
  {
   "cell_type": "code",
   "execution_count": 96,
   "metadata": {},
   "outputs": [
    {
     "data": {
      "text/plain": [
       "Index(['src', 'tgt', 'amt', 'strategy', 'bus', 'src_name', 'tgt_name', 'type'], dtype='object')"
      ]
     },
     "execution_count": 96,
     "metadata": {},
     "output_type": "execute_result"
    }
   ],
   "source": [
    "df.columns"
   ]
  },
  {
   "cell_type": "code",
   "execution_count": 4,
   "metadata": {},
   "outputs": [],
   "source": [
    "df = pd.read_csv(\"data/full.csv\")"
   ]
  },
  {
   "cell_type": "code",
   "execution_count": 21,
   "metadata": {},
   "outputs": [
    {
     "data": {
      "text/plain": [
       "src     tgt     amt   strategy  bus\n",
       "0       83648   20.0  6         3      1\n",
       "532435  778555  0.0   3         2      1\n",
       "        230823  10.0  5         2      1\n",
       "        249537  2.0   3         1      1\n",
       "                20.0  3         3      1\n",
       "                                      ..\n",
       "265970  71182   13.0  5         2      1\n",
       "                0.0   6         2      1\n",
       "265969  753648  7.0   3         1      1\n",
       "        584464  0.0   3         2      1\n",
       "799999  758964  0.0   3         1      1\n",
       "Length: 9278130, dtype: int64"
      ]
     },
     "execution_count": 21,
     "metadata": {},
     "output_type": "execute_result"
    }
   ],
   "source": [
    "df[[\"src\", \"tgt\", \"amt\", \"strategy\", \"bus\"]].value_counts()"
   ]
  },
  {
   "cell_type": "code",
   "execution_count": 26,
   "metadata": {},
   "outputs": [
    {
     "data": {
      "text/plain": [
       "Mike    4644499\n",
       "John    2778945\n",
       "Jobs    1854686\n",
       "Name: src_name, dtype: int64"
      ]
     },
     "execution_count": 26,
     "metadata": {},
     "output_type": "execute_result"
    }
   ],
   "source": [
    "df[\"src_name\"].value_counts()"
   ]
  },
  {
   "cell_type": "code",
   "execution_count": 27,
   "metadata": {},
   "outputs": [
    {
     "data": {
      "text/html": [
       "<div>\n",
       "<style scoped>\n",
       "    .dataframe tbody tr th:only-of-type {\n",
       "        vertical-align: middle;\n",
       "    }\n",
       "\n",
       "    .dataframe tbody tr th {\n",
       "        vertical-align: top;\n",
       "    }\n",
       "\n",
       "    .dataframe thead th {\n",
       "        text-align: right;\n",
       "    }\n",
       "</style>\n",
       "<table border=\"1\" class=\"dataframe\">\n",
       "  <thead>\n",
       "    <tr style=\"text-align: right;\">\n",
       "      <th></th>\n",
       "      <th>src</th>\n",
       "      <th>tgt</th>\n",
       "      <th>amt</th>\n",
       "      <th>strategy</th>\n",
       "      <th>bus</th>\n",
       "      <th>src_name</th>\n",
       "      <th>tgt_name</th>\n",
       "      <th>type</th>\n",
       "    </tr>\n",
       "  </thead>\n",
       "  <tbody>\n",
       "    <tr>\n",
       "      <th>3229699</th>\n",
       "      <td>39508</td>\n",
       "      <td>39508</td>\n",
       "      <td>1.0</td>\n",
       "      <td>4</td>\n",
       "      <td>3</td>\n",
       "      <td>Mike</td>\n",
       "      <td>John</td>\n",
       "      <td>0</td>\n",
       "    </tr>\n",
       "    <tr>\n",
       "      <th>3229700</th>\n",
       "      <td>39508</td>\n",
       "      <td>39508</td>\n",
       "      <td>0.0</td>\n",
       "      <td>4</td>\n",
       "      <td>1</td>\n",
       "      <td>Mike</td>\n",
       "      <td>John</td>\n",
       "      <td>0</td>\n",
       "    </tr>\n",
       "    <tr>\n",
       "      <th>3229701</th>\n",
       "      <td>39508</td>\n",
       "      <td>39508</td>\n",
       "      <td>2.0</td>\n",
       "      <td>4</td>\n",
       "      <td>1</td>\n",
       "      <td>Mike</td>\n",
       "      <td>John</td>\n",
       "      <td>0</td>\n",
       "    </tr>\n",
       "  </tbody>\n",
       "</table>\n",
       "</div>"
      ],
      "text/plain": [
       "           src    tgt  amt  strategy  bus src_name tgt_name  type\n",
       "3229699  39508  39508  1.0         4    3     Mike     John     0\n",
       "3229700  39508  39508  0.0         4    1     Mike     John     0\n",
       "3229701  39508  39508  2.0         4    1     Mike     John     0"
      ]
     },
     "execution_count": 27,
     "metadata": {},
     "output_type": "execute_result"
    }
   ],
   "source": [
    "df[df[\"src\"]==df[\"tgt\"]]"
   ]
  },
  {
   "cell_type": "code",
   "execution_count": 24,
   "metadata": {},
   "outputs": [
    {
     "name": "stderr",
     "output_type": "stream",
     "text": [
      "/var/folders/_m/blpl95d53ns5nqzldymg2s940000gn/T/ipykernel_50209/4243612061.py:1: UserWarning: Boolean Series key will be reindexed to match DataFrame index.\n",
      "  df[df[\"src\"]==158998][df[\"tgt\"] == 237912]\n"
     ]
    },
    {
     "data": {
      "text/html": [
       "<div>\n",
       "<style scoped>\n",
       "    .dataframe tbody tr th:only-of-type {\n",
       "        vertical-align: middle;\n",
       "    }\n",
       "\n",
       "    .dataframe tbody tr th {\n",
       "        vertical-align: top;\n",
       "    }\n",
       "\n",
       "    .dataframe thead th {\n",
       "        text-align: right;\n",
       "    }\n",
       "</style>\n",
       "<table border=\"1\" class=\"dataframe\">\n",
       "  <thead>\n",
       "    <tr style=\"text-align: right;\">\n",
       "      <th></th>\n",
       "      <th>src</th>\n",
       "      <th>tgt</th>\n",
       "      <th>amt</th>\n",
       "      <th>strategy</th>\n",
       "      <th>bus</th>\n",
       "      <th>src_name</th>\n",
       "      <th>tgt_name</th>\n",
       "      <th>type</th>\n",
       "    </tr>\n",
       "  </thead>\n",
       "  <tbody>\n",
       "    <tr>\n",
       "      <th>50</th>\n",
       "      <td>158998</td>\n",
       "      <td>237912</td>\n",
       "      <td>0.0</td>\n",
       "      <td>4</td>\n",
       "      <td>2</td>\n",
       "      <td>John</td>\n",
       "      <td>Jobs</td>\n",
       "      <td>0</td>\n",
       "    </tr>\n",
       "    <tr>\n",
       "      <th>51</th>\n",
       "      <td>158998</td>\n",
       "      <td>237912</td>\n",
       "      <td>1.0</td>\n",
       "      <td>4</td>\n",
       "      <td>1</td>\n",
       "      <td>John</td>\n",
       "      <td>Jobs</td>\n",
       "      <td>0</td>\n",
       "    </tr>\n",
       "    <tr>\n",
       "      <th>52</th>\n",
       "      <td>158998</td>\n",
       "      <td>237912</td>\n",
       "      <td>30.0</td>\n",
       "      <td>4</td>\n",
       "      <td>3</td>\n",
       "      <td>John</td>\n",
       "      <td>Jobs</td>\n",
       "      <td>0</td>\n",
       "    </tr>\n",
       "    <tr>\n",
       "      <th>53</th>\n",
       "      <td>158998</td>\n",
       "      <td>237912</td>\n",
       "      <td>0.0</td>\n",
       "      <td>4</td>\n",
       "      <td>2</td>\n",
       "      <td>John</td>\n",
       "      <td>Jobs</td>\n",
       "      <td>0</td>\n",
       "    </tr>\n",
       "    <tr>\n",
       "      <th>54</th>\n",
       "      <td>158998</td>\n",
       "      <td>237912</td>\n",
       "      <td>22.0</td>\n",
       "      <td>4</td>\n",
       "      <td>1</td>\n",
       "      <td>John</td>\n",
       "      <td>Jobs</td>\n",
       "      <td>0</td>\n",
       "    </tr>\n",
       "  </tbody>\n",
       "</table>\n",
       "</div>"
      ],
      "text/plain": [
       "       src     tgt   amt  strategy  bus src_name tgt_name  type\n",
       "50  158998  237912   0.0         4    2     John     Jobs     0\n",
       "51  158998  237912   1.0         4    1     John     Jobs     0\n",
       "52  158998  237912  30.0         4    3     John     Jobs     0\n",
       "53  158998  237912   0.0         4    2     John     Jobs     0\n",
       "54  158998  237912  22.0         4    1     John     Jobs     0"
      ]
     },
     "execution_count": 24,
     "metadata": {},
     "output_type": "execute_result"
    }
   ],
   "source": [
    "df[df[\"src\"]==158998][df[\"tgt\"] == 237912]"
   ]
  },
  {
   "cell_type": "code",
   "execution_count": 26,
   "metadata": {},
   "outputs": [],
   "source": [
    "df = df.drop_duplicates()"
   ]
  },
  {
   "cell_type": "code",
   "execution_count": 1,
   "metadata": {},
   "outputs": [],
   "source": [
    "import numpy as np\n",
    "import pandas as pd"
   ]
  },
  {
   "cell_type": "code",
   "execution_count": 42,
   "metadata": {},
   "outputs": [],
   "source": [
    "df = pd.read_csv(\"data/full.csv\")"
   ]
  },
  {
   "cell_type": "code",
   "execution_count": 43,
   "metadata": {},
   "outputs": [],
   "source": [
    "df[\"edge\"] = df[\"src_name\"].astype(str) + \"-\" + df[\"tgt_name\"].astype(str) + \"-\" + df[\"type\"].astype(str) + \"-\" + df[\"strategy\"].astype(str) + \"-\" + df[\"bus\"].astype(str) + \"-\" + df[\"amt\"].astype(str)"
   ]
  },
  {
   "cell_type": "code",
   "execution_count": 65,
   "metadata": {},
   "outputs": [],
   "source": [
    "df[\"edge_cnt\"] = df.groupby(['edge'])[\"src\"].transform('count')"
   ]
  },
  {
   "cell_type": "code",
   "execution_count": 71,
   "metadata": {},
   "outputs": [],
   "source": [
    "df = df[df[\"edge_cnt\"] >= 10000]"
   ]
  },
  {
   "cell_type": "code",
   "execution_count": 73,
   "metadata": {},
   "outputs": [
    {
     "data": {
      "text/html": [
       "<div>\n",
       "<style scoped>\n",
       "    .dataframe tbody tr th:only-of-type {\n",
       "        vertical-align: middle;\n",
       "    }\n",
       "\n",
       "    .dataframe tbody tr th {\n",
       "        vertical-align: top;\n",
       "    }\n",
       "\n",
       "    .dataframe thead th {\n",
       "        text-align: right;\n",
       "    }\n",
       "</style>\n",
       "<table border=\"1\" class=\"dataframe\">\n",
       "  <thead>\n",
       "    <tr style=\"text-align: right;\">\n",
       "      <th></th>\n",
       "      <th>src</th>\n",
       "      <th>tgt</th>\n",
       "      <th>amt</th>\n",
       "      <th>strategy</th>\n",
       "      <th>bus</th>\n",
       "      <th>src_name</th>\n",
       "      <th>tgt_name</th>\n",
       "      <th>type</th>\n",
       "      <th>edge</th>\n",
       "      <th>edge_cnt</th>\n",
       "    </tr>\n",
       "  </thead>\n",
       "  <tbody>\n",
       "    <tr>\n",
       "      <th>1</th>\n",
       "      <td>684821</td>\n",
       "      <td>434860</td>\n",
       "      <td>0.0</td>\n",
       "      <td>4</td>\n",
       "      <td>3</td>\n",
       "      <td>John</td>\n",
       "      <td>Jobs</td>\n",
       "      <td>0</td>\n",
       "      <td>John-Jobs-0-4-3-0.0</td>\n",
       "      <td>17835</td>\n",
       "    </tr>\n",
       "    <tr>\n",
       "      <th>14</th>\n",
       "      <td>560748</td>\n",
       "      <td>335543</td>\n",
       "      <td>1.0</td>\n",
       "      <td>4</td>\n",
       "      <td>2</td>\n",
       "      <td>Mike</td>\n",
       "      <td>John</td>\n",
       "      <td>0</td>\n",
       "      <td>Mike-John-0-4-2-1.0</td>\n",
       "      <td>12760</td>\n",
       "    </tr>\n",
       "    <tr>\n",
       "      <th>15</th>\n",
       "      <td>318441</td>\n",
       "      <td>596574</td>\n",
       "      <td>0.0</td>\n",
       "      <td>4</td>\n",
       "      <td>3</td>\n",
       "      <td>Mike</td>\n",
       "      <td>Jobs</td>\n",
       "      <td>0</td>\n",
       "      <td>Mike-Jobs-0-4-3-0.0</td>\n",
       "      <td>29878</td>\n",
       "    </tr>\n",
       "    <tr>\n",
       "      <th>16</th>\n",
       "      <td>355194</td>\n",
       "      <td>383388</td>\n",
       "      <td>1.0</td>\n",
       "      <td>4</td>\n",
       "      <td>3</td>\n",
       "      <td>Mike</td>\n",
       "      <td>John</td>\n",
       "      <td>0</td>\n",
       "      <td>Mike-John-0-4-3-1.0</td>\n",
       "      <td>12642</td>\n",
       "    </tr>\n",
       "    <tr>\n",
       "      <th>18</th>\n",
       "      <td>519856</td>\n",
       "      <td>469818</td>\n",
       "      <td>0.0</td>\n",
       "      <td>4</td>\n",
       "      <td>1</td>\n",
       "      <td>Mike</td>\n",
       "      <td>Jobs</td>\n",
       "      <td>0</td>\n",
       "      <td>Mike-Jobs-0-4-1-0.0</td>\n",
       "      <td>29886</td>\n",
       "    </tr>\n",
       "    <tr>\n",
       "      <th>...</th>\n",
       "      <td>...</td>\n",
       "      <td>...</td>\n",
       "      <td>...</td>\n",
       "      <td>...</td>\n",
       "      <td>...</td>\n",
       "      <td>...</td>\n",
       "      <td>...</td>\n",
       "      <td>...</td>\n",
       "      <td>...</td>\n",
       "      <td>...</td>\n",
       "    </tr>\n",
       "    <tr>\n",
       "      <th>9278117</th>\n",
       "      <td>722091</td>\n",
       "      <td>702589</td>\n",
       "      <td>0.0</td>\n",
       "      <td>3</td>\n",
       "      <td>1</td>\n",
       "      <td>Jobs</td>\n",
       "      <td>Mike</td>\n",
       "      <td>1</td>\n",
       "      <td>Jobs-Mike-1-3-1-0.0</td>\n",
       "      <td>47839</td>\n",
       "    </tr>\n",
       "    <tr>\n",
       "      <th>9278119</th>\n",
       "      <td>102535</td>\n",
       "      <td>81149</td>\n",
       "      <td>3.0</td>\n",
       "      <td>3</td>\n",
       "      <td>1</td>\n",
       "      <td>Mike</td>\n",
       "      <td>Mike</td>\n",
       "      <td>1</td>\n",
       "      <td>Mike-Mike-1-3-1-3.0</td>\n",
       "      <td>13547</td>\n",
       "    </tr>\n",
       "    <tr>\n",
       "      <th>9278120</th>\n",
       "      <td>232061</td>\n",
       "      <td>559376</td>\n",
       "      <td>0.0</td>\n",
       "      <td>3</td>\n",
       "      <td>2</td>\n",
       "      <td>Jobs</td>\n",
       "      <td>Jobs</td>\n",
       "      <td>1</td>\n",
       "      <td>Jobs-Jobs-1-3-2-0.0</td>\n",
       "      <td>19267</td>\n",
       "    </tr>\n",
       "    <tr>\n",
       "      <th>9278126</th>\n",
       "      <td>309564</td>\n",
       "      <td>163379</td>\n",
       "      <td>0.0</td>\n",
       "      <td>3</td>\n",
       "      <td>3</td>\n",
       "      <td>Mike</td>\n",
       "      <td>Jobs</td>\n",
       "      <td>1</td>\n",
       "      <td>Mike-Jobs-1-3-3-0.0</td>\n",
       "      <td>48242</td>\n",
       "    </tr>\n",
       "    <tr>\n",
       "      <th>9278128</th>\n",
       "      <td>540919</td>\n",
       "      <td>727046</td>\n",
       "      <td>0.0</td>\n",
       "      <td>2</td>\n",
       "      <td>3</td>\n",
       "      <td>Jobs</td>\n",
       "      <td>Mike</td>\n",
       "      <td>1</td>\n",
       "      <td>Jobs-Mike-1-2-3-0.0</td>\n",
       "      <td>24423</td>\n",
       "    </tr>\n",
       "  </tbody>\n",
       "</table>\n",
       "<p>4422630 rows × 10 columns</p>\n",
       "</div>"
      ],
      "text/plain": [
       "            src     tgt  amt  strategy  bus src_name tgt_name  type  \\\n",
       "1        684821  434860  0.0         4    3     John     Jobs     0   \n",
       "14       560748  335543  1.0         4    2     Mike     John     0   \n",
       "15       318441  596574  0.0         4    3     Mike     Jobs     0   \n",
       "16       355194  383388  1.0         4    3     Mike     John     0   \n",
       "18       519856  469818  0.0         4    1     Mike     Jobs     0   \n",
       "...         ...     ...  ...       ...  ...      ...      ...   ...   \n",
       "9278117  722091  702589  0.0         3    1     Jobs     Mike     1   \n",
       "9278119  102535   81149  3.0         3    1     Mike     Mike     1   \n",
       "9278120  232061  559376  0.0         3    2     Jobs     Jobs     1   \n",
       "9278126  309564  163379  0.0         3    3     Mike     Jobs     1   \n",
       "9278128  540919  727046  0.0         2    3     Jobs     Mike     1   \n",
       "\n",
       "                        edge  edge_cnt  \n",
       "1        John-Jobs-0-4-3-0.0     17835  \n",
       "14       Mike-John-0-4-2-1.0     12760  \n",
       "15       Mike-Jobs-0-4-3-0.0     29878  \n",
       "16       Mike-John-0-4-3-1.0     12642  \n",
       "18       Mike-Jobs-0-4-1-0.0     29886  \n",
       "...                      ...       ...  \n",
       "9278117  Jobs-Mike-1-3-1-0.0     47839  \n",
       "9278119  Mike-Mike-1-3-1-3.0     13547  \n",
       "9278120  Jobs-Jobs-1-3-2-0.0     19267  \n",
       "9278126  Mike-Jobs-1-3-3-0.0     48242  \n",
       "9278128  Jobs-Mike-1-2-3-0.0     24423  \n",
       "\n",
       "[4422630 rows x 10 columns]"
      ]
     },
     "execution_count": 73,
     "metadata": {},
     "output_type": "execute_result"
    }
   ],
   "source": [
    "df"
   ]
  },
  {
   "cell_type": "code",
   "execution_count": 74,
   "metadata": {},
   "outputs": [],
   "source": [
    "df[[\"src\", \"tgt\", \"amt\", \"strategy\", \"bus\", \"src_name\", \"tgt_name\", \"type\"]].to_csv(\"data/new_full.csv\", index=False)"
   ]
  },
  {
   "cell_type": "code",
   "execution_count": 29,
   "metadata": {},
   "outputs": [
    {
     "data": {
      "text/html": [
       "<div>\n",
       "<style scoped>\n",
       "    .dataframe tbody tr th:only-of-type {\n",
       "        vertical-align: middle;\n",
       "    }\n",
       "\n",
       "    .dataframe tbody tr th {\n",
       "        vertical-align: top;\n",
       "    }\n",
       "\n",
       "    .dataframe thead th {\n",
       "        text-align: right;\n",
       "    }\n",
       "</style>\n",
       "<table border=\"1\" class=\"dataframe\">\n",
       "  <thead>\n",
       "    <tr style=\"text-align: right;\">\n",
       "      <th></th>\n",
       "      <th>src</th>\n",
       "      <th>tgt</th>\n",
       "      <th>amt</th>\n",
       "      <th>strategy</th>\n",
       "      <th>bus</th>\n",
       "      <th>src_name</th>\n",
       "      <th>tgt_name</th>\n",
       "      <th>type</th>\n",
       "    </tr>\n",
       "  </thead>\n",
       "  <tbody>\n",
       "  </tbody>\n",
       "</table>\n",
       "</div>"
      ],
      "text/plain": [
       "Empty DataFrame\n",
       "Columns: [src, tgt, amt, strategy, bus, src_name, tgt_name, type]\n",
       "Index: []"
      ]
     },
     "execution_count": 29,
     "metadata": {},
     "output_type": "execute_result"
    }
   ],
   "source": [
    "df[df[\"src\"] == 434860]"
   ]
  },
  {
   "cell_type": "code",
   "execution_count": null,
   "metadata": {},
   "outputs": [],
   "source": []
  },
  {
   "cell_type": "code",
   "execution_count": 32,
   "metadata": {},
   "outputs": [],
   "source": [
    "src_ids = set(df[\"src\"])\n",
    "dst_ids = set(df[\"tgt\"])"
   ]
  },
  {
   "cell_type": "code",
   "execution_count": 33,
   "metadata": {},
   "outputs": [
    {
     "data": {
      "text/plain": [
       "27291"
      ]
     },
     "execution_count": 33,
     "metadata": {},
     "output_type": "execute_result"
    }
   ],
   "source": [
    "len(dst_ids)"
   ]
  },
  {
   "cell_type": "code",
   "execution_count": 35,
   "metadata": {},
   "outputs": [
    {
     "data": {
      "text/plain": [
       "25528"
      ]
     },
     "execution_count": 35,
     "metadata": {},
     "output_type": "execute_result"
    }
   ],
   "source": [
    "len([id for id in dst_ids if id in src_ids])"
   ]
  },
  {
   "cell_type": "code",
   "execution_count": 43,
   "metadata": {},
   "outputs": [
    {
     "data": {
      "text/plain": [
       "1534800"
      ]
     },
     "execution_count": 43,
     "metadata": {},
     "output_type": "execute_result"
    }
   ],
   "source": [
    "len(df[\"src\"].unique()) + len(df[\"tgt\"].unique())"
   ]
  },
  {
   "cell_type": "code",
   "execution_count": 39,
   "metadata": {},
   "outputs": [
    {
     "ename": "ValueError",
     "evalue": "could not convert string to float: 'hello'",
     "output_type": "error",
     "traceback": [
      "\u001b[0;31m---------------------------------------------------------------------------\u001b[0m",
      "\u001b[0;31mValueError\u001b[0m                                Traceback (most recent call last)",
      "\u001b[1;32m/Users/sahandsabour/Desktop/Tsinghua/Introduction to Big Data Systems/Assignments/Assignment 9/temp.ipynb Cell 31\u001b[0m in \u001b[0;36m<module>\u001b[0;34m\u001b[0m\n\u001b[1;32m      <a href='vscode-notebook-cell:/Users/sahandsabour/Desktop/Tsinghua/Introduction%20to%20Big%20Data%20Systems/Assignments/Assignment%209/temp.ipynb#X41sZmlsZQ%3D%3D?line=0'>1</a>\u001b[0m edges \u001b[39m=\u001b[39m np\u001b[39m.\u001b[39mzeros((\u001b[39m2\u001b[39m,\u001b[39m2\u001b[39m ))\n\u001b[0;32m----> <a href='vscode-notebook-cell:/Users/sahandsabour/Desktop/Tsinghua/Introduction%20to%20Big%20Data%20Systems/Assignments/Assignment%209/temp.ipynb#X41sZmlsZQ%3D%3D?line=1'>2</a>\u001b[0m edges[\u001b[39m0\u001b[39m] \u001b[39m=\u001b[39m \u001b[39m\"\u001b[39m\u001b[39mhello\u001b[39m\u001b[39m\"\u001b[39m\n",
      "\u001b[0;31mValueError\u001b[0m: could not convert string to float: 'hello'"
     ]
    }
   ],
   "source": [
    "edges = np.zeros((2,2))"
   ]
  },
  {
   "cell_type": "code",
   "execution_count": 1,
   "metadata": {},
   "outputs": [],
   "source": [
    "import json\n"
   ]
  },
  {
   "cell_type": "code",
   "execution_count": 80,
   "metadata": {},
   "outputs": [],
   "source": [
    "# Data to be written\n",
    "dictionary = {\n",
    "    \"name\": \"sathiyajith\",\n",
    "    \"rollno\": 56,\n",
    "    \"cgpa\": 8.6,\n",
    "    \"phonenumber\": \"9976770500\"\n",
    "}\n",
    " \n",
    "# Serializing json\n",
    "json_object = json.dumps([dictionary, dictionary], indent=4)\n",
    " \n",
    "# Writing to sample.json\n",
    "with open(\"sample.json\", \"w\") as outfile:\n",
    "    outfile.write(json_object)"
   ]
  },
  {
   "cell_type": "code",
   "execution_count": 93,
   "metadata": {},
   "outputs": [
    {
     "name": "stdout",
     "output_type": "stream",
     "text": [
      "{'frequency': 12198, 'orig': [(536637, 584924, 'Mike', 'John', '0.0-5-3-0'), (584924, 189831, 'John', 'Mike', '2.0-3-2-1'), (189831, 48282, 'Mike', 'Mike', '2.0-4-1-0')]}\n",
      "{'frequency': 12198, 'nodes': [{'node_id': 0, 'name': 'Mike'}, {'node_id': 1, 'name': 'John'}, {'node_id': 2, 'name': 'Mike'}, {'id': 3, 'name': 'Mike'}], 'edges': [{'source_node_id': 536637, 'target_node_id': 584924, 'amt': 0, 'strategy_name': '5', 'buscode': '3', 'type': 'account-to-account'}, {'source_node_id': 584924, 'target_node_id': 189831, 'amt': 2, 'strategy_name': '3', 'buscode': '2', 'type': 'account-to-card'}, {'source_node_id': 189831, 'target_node_id': 48282, 'amt': 2, 'strategy_name': '4', 'buscode': '1', 'type': 'account-to-account'}]}\n"
     ]
    }
   ],
   "source": [
    "obj = {'frequency': 12198, 'orig': [(536637, 584924, 'Mike', 'John', '0.0-5-3-0'), (584924, 189831, 'John', 'Mike', '2.0-3-2-1'), (189831, 48282, 'Mike', 'Mike', '2.0-4-1-0')]}\n",
    "newobj = {'frequency': obj['frequency'], \"nodes\": [], \"edges\": []}\n",
    "for i, e in enumerate(obj['orig']):\n",
    "    newobj[\"nodes\"].append({\"node_id\": i, \"name\": e[2]})\n",
    "    amt, strategy, bus, type = e[4].split(\"-\")\n",
    "    newobj[\"edges\"].append({\"source_node_id\": e[0], \"target_node_id\": e[1], \"amt\": int(float(amt)), \"strategy_name\": strategy, \"buscode\": bus, \"type\": \"account-to-card\" if int(type) else \"account-to-account\"})\n",
    "    if i == 2:\n",
    "        newobj[\"nodes\"].append({\"id\": i+1, \"name\": e[3]})\n",
    "\n",
    "print(obj)\n",
    "print(newobj)"
   ]
  },
  {
   "cell_type": "code",
   "execution_count": 94,
   "metadata": {},
   "outputs": [],
   "source": [
    "# Serializing json\n",
    "json_object = json.dumps([newobj], indent=4)\n",
    " \n",
    "# Writing to sample.json\n",
    "with open(\"sample.json\", \"w\") as outfile:\n",
    "    outfile.write(json_object)"
   ]
  },
  {
   "cell_type": "code",
   "execution_count": 1,
   "metadata": {},
   "outputs": [
    {
     "data": {
      "text/plain": [
       "15034"
      ]
     },
     "execution_count": 1,
     "metadata": {},
     "output_type": "execute_result"
    }
   ],
   "source": [
    "import json\n",
    "with open(\"res.json\", \"r\") as f:\n",
    "    data = json.load(f)\n",
    "len(data)"
   ]
  },
  {
   "cell_type": "code",
   "execution_count": 2,
   "metadata": {},
   "outputs": [],
   "source": [
    "temp = []\n",
    "pats = []\n",
    "for d in data:\n",
    "    vertices = set()\n",
    "    pat = \"\"\n",
    "    first = d[\"edges\"][0][\"source_node_id\"]\n",
    "    last = d[\"edges\"][-1][\"source_node_id\"]\n",
    "    for e in d[\"edges\"]:\n",
    "        vertices.add(e[\"source_node_id\"])\n",
    "        vertices.add(e[\"target_node_id\"])\n",
    "        pat += (\"l\" if e[\"source_node_id\"] > e[\"target_node_id\"] else \"r\")\n",
    "    if len(vertices) == 3 and first == last:\n",
    "        temp.append(d)\n",
    "        pats.append(pat)\n"
   ]
  },
  {
   "cell_type": "code",
   "execution_count": 3,
   "metadata": {},
   "outputs": [],
   "source": [
    "import networkx as nx\n",
    "import matplotlib.pyplot as plt"
   ]
  },
  {
   "cell_type": "code",
   "execution_count": 4,
   "metadata": {},
   "outputs": [
    {
     "data": {
      "text/plain": [
       "291"
      ]
     },
     "execution_count": 4,
     "metadata": {},
     "output_type": "execute_result"
    }
   ],
   "source": [
    "len(temp)"
   ]
  },
  {
   "cell_type": "code",
   "execution_count": 24,
   "metadata": {},
   "outputs": [
    {
     "name": "stdout",
     "output_type": "stream",
     "text": [
      "[{'source_node_id': 1010, 'target_node_id': 684821, 'amt': 0, 'strategy_name': '3', 'buscode': '1', 'type': 'account-to-account'}, {'source_node_id': 1010, 'target_node_id': 190387, 'amt': 0, 'strategy_name': '3', 'buscode': '3', 'type': 'account-to-account'}, {'source_node_id': 1010, 'target_node_id': 190387, 'amt': 0, 'strategy_name': '2', 'buscode': '3', 'type': 'account-to-account'}]\n"
     ]
    },
    {
     "data": {
      "image/png": "[encoded data removed]",
      "text/plain": [
       "<Figure size 360x360 with 1 Axes>"
      ]
     },
     "metadata": {},
     "output_type": "display_data"
    }
   ],
   "source": [
    "for j, t in enumerate(temp):\n",
    "    graph = nx.DiGraph()\n",
    "    edges = t[\"edges\"]\n",
    "    vs = {}\n",
    "    t = False\n",
    "    idx = 0\n",
    "    for i,e in enumerate(edges):\n",
    "        graph.add_edge(e[\"source_node_id\"], e[\"target_node_id\"], label={\"amt\": e[\"amt\"], \"bus\": e[\"buscode\"], \"strategy\": e[\"strategy_name\"]})\n",
    "        graph.add_node(e[\"source_node_id\"])\n",
    "        graph.add_node(e[\"target_node_id\"])\n",
    "    idx = 0\n",
    "\n",
    "    if j == 12:\n",
    "        print(edges)\n",
    "        fsize = (5, 5)\n",
    "        plt.figure(figsize=fsize)\n",
    "        pos = nx.spectral_layout(graph)\n",
    "        nx.draw_networkx(graph, pos, arrows=True)\n",
    "        nx.draw_networkx_edge_labels(graph,pos)\n",
    "        # plt.savefig(f\"figs/{j}.png\")\n",
    "        plt.show()\n",
    "\n"
   ]
  },
  {
   "cell_type": "code",
   "execution_count": 91,
   "metadata": {},
   "outputs": [
    {
     "data": {
      "text/plain": [
       "359"
      ]
     },
     "execution_count": 91,
     "metadata": {},
     "output_type": "execute_result"
    }
   ],
   "source": [
    "len(temp)"
   ]
  },
  {
   "cell_type": "code",
   "execution_count": null,
   "metadata": {},
   "outputs": [],
   "source": []
  }
 ],
 "metadata": {
  "kernelspec": {
   "display_name": "Python 3.9.10",
   "language": "python",
   "name": "python3"
  },
  "language_info": {
   "codemirror_mode": {
    "name": "ipython",
    "version": 3
   },
   "file_extension": ".py",
   "mimetype": "text/x-python",
   "name": "python",
   "nbconvert_exporter": "python",
   "pygments_lexer": "ipython3",
   "version": "3.9.10"
  },
  "orig_nbformat": 4,
  "vscode": {
   "interpreter": {
    "hash": "bb3f2114c670f5bec2d926b665f3e281beb9796a7e9b7268de55810a8060f8f6"
   }
  }
 },
 "nbformat": 4,
 "nbformat_minor": 2
}
