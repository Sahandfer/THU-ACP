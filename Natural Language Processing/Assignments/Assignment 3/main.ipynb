{
 "metadata": {
  "language_info": {
   "codemirror_mode": {
    "name": "ipython",
    "version": 3
   },
   "file_extension": ".py",
   "mimetype": "text/x-python",
   "name": "python",
   "nbconvert_exporter": "python",
   "pygments_lexer": "ipython3",
   "version": "3.8.5"
  },
  "orig_nbformat": 2,
  "kernelspec": {
   "name": "python361264bitdonutcondad95a3912f57c46d7a60540e6fae9691f",
   "display_name": "Python 3.8.5 64-bit"
  },
  "metadata": {
   "interpreter": {
    "hash": "43a47cbf8391b3ad19eb6e4412e9a0df564a28f628205ac6247f55929365ed7c"
   }
  }
 },
 "nbformat": 4,
 "nbformat_minor": 2,
 "cells": [
  {
   "cell_type": "code",
   "execution_count": 37,
   "metadata": {},
   "outputs": [],
   "source": [
    "import re\n",
    "\n",
    "import nltk\n",
    "def read_data():\n",
    "    data_dir = \"trees/\"\n",
    "    files = [\"train.txt\", \"dev.txt\", \"test.txt\"]\n",
    "    out_files = [\"train.csv\", \"dev.csv\", \"test.csv\"]\n",
    "    for i, file in enumerate(files):\n",
    "        sentences = []\n",
    "        labels = []\n",
    "        for line in open(data_dir + file):\n",
    "            tokenizer = nltk.RegexpTokenizer(r\"\\w+\")\n",
    "\n",
    "            sentence = re.sub(\"\\d+\", \"\", line)\n",
    "            sentence = tokenizer.tokenize(sentence)\n",
    "            sentence = ' '.join(sentence)\n",
    "            sentences.append(sentence)\n",
    "\n",
    "            label = line[1]\n",
    "            labels.append(label)\n",
    "        df = pd.DataFrame(list(zip(sentences, labels)), columns =['sentence', 'label'])\n",
    "        df.to_csv(data_dir + out_files[i], index=False)\n",
    "\n",
    "read_data()"
   ]
  },
  {
   "cell_type": "code",
   "execution_count": 31,
   "metadata": {},
   "outputs": [
    {
     "output_type": "execute_result",
     "data": {
      "text/plain": [
       "       Name  val\n",
       "0  [hi, hi]    1"
      ],
      "text/html": "<div>\n<style scoped>\n    .dataframe tbody tr th:only-of-type {\n        vertical-align: middle;\n    }\n\n    .dataframe tbody tr th {\n        vertical-align: top;\n    }\n\n    .dataframe thead th {\n        text-align: right;\n    }\n</style>\n<table border=\"1\" class=\"dataframe\">\n  <thead>\n    <tr style=\"text-align: right;\">\n      <th></th>\n      <th>Name</th>\n      <th>val</th>\n    </tr>\n  </thead>\n  <tbody>\n    <tr>\n      <th>0</th>\n      <td>[hi, hi]</td>\n      <td>1</td>\n    </tr>\n  </tbody>\n</table>\n</div>"
     },
     "metadata": {},
     "execution_count": 31
    }
   ],
   "source": [
    "sent = [[\"hi\", \"hi\"]]\n",
    "labels = [1]\n",
    "\n",
    "import pandas as pd\n",
    "\n",
    "pd.DataFrame(list(zip(sent, labels)),\n",
    "               columns =['sentence', 'label'])"
   ]
  },
  {
   "cell_type": "code",
   "execution_count": null,
   "metadata": {},
   "outputs": [],
   "source": []
  }
 ]
}