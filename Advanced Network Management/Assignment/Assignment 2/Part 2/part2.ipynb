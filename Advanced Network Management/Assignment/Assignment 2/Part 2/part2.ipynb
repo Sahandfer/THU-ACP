{
 "cells": [
  {
   "cell_type": "code",
   "execution_count": 1,
   "metadata": {},
   "outputs": [],
   "source": [
    "import os\n",
    "import sys\n",
    "\n",
    "import pandas as pd\n",
    "import numpy as np\n",
    "import matplotlib.pyplot as plt\n",
    "%matplotlib inline\n"
   ]
  },
  {
   "cell_type": "code",
   "execution_count": 2,
   "metadata": {},
   "outputs": [],
   "source": [
    "from loglizer.loglizer import dataloader, preprocessing\n",
    "from loglizer.loglizer.models import PCA, InvariantsMiner"
   ]
  },
  {
   "cell_type": "code",
   "execution_count": 3,
   "metadata": {},
   "outputs": [],
   "source": [
    "struct_log = 'Data/HDFS.log_structured.csv' # The structured log file\n",
    "label_file = 'Data/Label.csv' # The anomaly label file"
   ]
  },
  {
   "cell_type": "code",
   "execution_count": 4,
   "metadata": {},
   "outputs": [
    {
     "name": "stdout",
     "output_type": "stream",
     "text": [
      "====== Input data summary ======\n",
      "Loading Data/HDFS.log_structured.csv\n",
      "13470 3368\n",
      "Total: 575061 instances, 16838 anomaly, 558223 normal\n",
      "Train: 460048 instances, 13470 anomaly, 446578 normal\n",
      "Test: 115013 instances, 3368 anomaly, 111645 normal\n",
      "\n",
      "====== Transformed train data summary ======\n",
      "Train data shape: 460048-by-44\n",
      "\n",
      "====== Transformed test data summary ======\n",
      "Test data shape: 115013-by-44\n",
      "\n"
     ]
    }
   ],
   "source": [
    "# Uniform\n",
    "\n",
    "(x_train, y_train), (x_test, y_test) = dataloader.load_HDFS(struct_log,\n",
    "                                                                label_file=label_file,\n",
    "                                                                window='session', \n",
    "                                                                train_ratio=0.8,\n",
    "                                                                split_type='uniform')\n",
    "feature_extractor = preprocessing.FeatureExtractor()\n",
    "x_train = feature_extractor.fit_transform(x_train, term_weighting='tf-idf', \n",
    "                                            normalization='zero-mean')\n",
    "x_test = feature_extractor.transform(x_test)\n"
   ]
  },
  {
   "cell_type": "code",
   "execution_count": 73,
   "metadata": {},
   "outputs": [
    {
     "name": "stdout",
     "output_type": "stream",
     "text": [
      "====== Input data summary ======\n",
      "Loading Data/HDFS.log_structured.csv\n",
      "15159 1679\n",
      "Total: 575061 instances, 16838 anomaly, 558223 normal\n",
      "Train: 460048 instances, 15159 anomaly, 444889 normal\n",
      "Test: 115013 instances, 1679 anomaly, 113334 normal\n",
      "\n",
      "====== Transformed train data summary ======\n",
      "Train data shape: 460048-by-45\n",
      "\n",
      "====== Transformed test data summary ======\n",
      "Test data shape: 115013-by-45\n",
      "\n"
     ]
    }
   ],
   "source": [
    "epsilon = 0.5\n",
    "\n",
    "(x_train_1, y_train_1), (x_test_1, y_test_1) = dataloader.load_HDFS(struct_log,\n",
    "                                                                label_file=label_file,\n",
    "                                                                window='session', \n",
    "                                                                train_ratio=0.8,\n",
    "                                                                split_type='sequential')\n",
    "feature_extractor = preprocessing.FeatureExtractor()\n",
    "x_train_1 = feature_extractor.fit_transform(x_train_1)\n",
    "x_test_1 = feature_extractor.transform(x_test_1)"
   ]
  },
  {
   "cell_type": "code",
   "execution_count": 7,
   "metadata": {},
   "outputs": [
    {
     "name": "stdout",
     "output_type": "stream",
     "text": [
      "====== Model summary ======\n",
      "n_components: 6\n",
      "Project matrix shape: 44-by-44\n",
      "SPE threshold: 3.56228593339237\n",
      "\n",
      "Runtime 1:  0.02712106704711914\n",
      "Train validation 1:\n",
      "====== Evaluation summary ======\n",
      "Precision: 0.966, recall: 0.627, F1-measure: 0.761\n",
      "\n",
      "Test validation 1:\n",
      "====== Evaluation summary ======\n",
      "Precision: 0.998, recall: 0.673, F1-measure: 0.804\n",
      "\n",
      "====== Model summary ======\n",
      "n_components: 3\n",
      "Project matrix shape: 45-by-45\n",
      "SPE threshold: 17.9798237857941\n",
      "\n",
      "Runtime 2:  0.02366352081298828\n",
      "Train validation 2:\n",
      "====== Evaluation summary ======\n",
      "Precision: 0.445, recall: 0.065, F1-measure: 0.113\n",
      "\n",
      "Test validation 1:\n",
      "====== Evaluation summary ======\n",
      "Precision: 0.201, recall: 0.065, F1-measure: 0.098\n",
      "\n"
     ]
    }
   ],
   "source": [
    "# PCA\n",
    "import time\n",
    "\n",
    "model = PCA()\n",
    "startTime = time.time()\n",
    "model.fit(x_train)\n",
    "endTime = time.time()\n",
    "\n",
    "print(\"Runtime 1: \", endTime-startTime)\n",
    "\n",
    "print('Train validation 1:')\n",
    "precision, recall, f1 = model.evaluate(x_train, y_train)\n",
    "\n",
    "print('Test validation 1:')\n",
    "precision, recall, f1 = model.evaluate(x_test, y_test)\n",
    "\n",
    "model = PCA()\n",
    "startTime = time.time()\n",
    "model.fit(x_train_1)\n",
    "endTime = time.time()\n",
    "\n",
    "print(\"Runtime 2: \", endTime-startTime)\n",
    "\n",
    "print('Train validation 2:')\n",
    "precision, recall, f1 = model.evaluate(x_train_1, y_train_1)\n",
    "\n",
    "print('Test validation 1:')\n",
    "precision, recall, f1 = model.evaluate(x_test_1, y_test_1)\n",
    "\n"
   ]
  },
  {
   "cell_type": "markdown",
   "metadata": {},
   "source": []
  },
  {
   "cell_type": "code",
   "execution_count": 8,
   "metadata": {},
   "outputs": [
    {
     "name": "stdout",
     "output_type": "stream",
     "text": [
      "====== Model summary ======\n",
      "Invariant space dimension: 40\n",
      "Mined 40 invariants: {(0, 1): [-211.0, 1.0], (0, 7): [-212.0, 1.0], (0, 24): [-741.0, 1.0], (0, 35): [-271.0, 1.0], (0, 38): [-211.0, 1.0], (0, 43): [-534.0, 1.0], (1, 3): [1.0, -1787.0], (1, 4): [1.0, -893.0], (1, 5): [1.0, -196.0], (1, 10): [1.0, -2681.0], (1, 11): [1.0, -1786.0], (1, 13): [1.0, -295.0], (1, 14): [1.0, -8073.0], (1, 15): [1.0, -289.0], (1, 16): [1.0, -1070.0], (1, 17): [1.0, -1340.0], (1, 18): [1.0, -48.0], (1, 20): [1.0, -2681.0], (1, 21): [1.0, -825.0], (1, 23): [1.0, -670.0], (1, 26): [1.0, -3575.0], (1, 28): [1.0, -1787.0], (1, 29): [1.0, -166.0], (1, 31): [1.0, -115.0], (1, 32): [1.0, -714.0], (1, 33): [1.0, -1339.0], (1, 34): [1.0, -156.0], (1, 36): [1.0, -313.0], (1, 39): [1.0, -595.0], (1, 40): [1.0, -2145.0], (1, 41): [1.0, -825.0], (1, 42): [1.0, -323.0], (2, 9): [1.0, -1.0], (2, 19): [-1.0, 1.0], (3, 7): [-1660.0, 1.0], (3, 35): [-5671.0, 1.0], (3, 38): [-1787.0, 1.0], (4, 7): [-683.0, 1.0], (4, 35): [-2832.0, 1.0], (4, 38): [-893.0, 1.0]}\n",
      "\n",
      "Runtime:  274.81189823150635\n",
      "Train validation:\n",
      "====== Evaluation summary ======\n",
      "Precision: 0.843, recall: 0.836, F1-measure: 0.839\n",
      "\n",
      "Test validation:\n",
      "====== Evaluation summary ======\n",
      "Precision: 0.709, recall: 0.724, F1-measure: 0.717\n",
      "\n"
     ]
    }
   ],
   "source": [
    "# Invariants miner\n",
    "import time\n",
    "model = InvariantsMiner(epsilon=0.5)\n",
    "startTime = time.time()\n",
    "model.fit(x_train_1)\n",
    "endTime = time.time()\n",
    "\n",
    "\n",
    "print(\"Runtime: \", endTime-startTime)\n",
    "\n",
    "print('Train validation:')\n",
    "precision, recall, f1 = model.evaluate(x_train_1, y_train_1)\n",
    "\n",
    "print('Test validation:')\n",
    "precision, recall, f1 = model.evaluate(x_test_1, y_test_1)"
   ]
  },
  {
   "cell_type": "code",
   "execution_count": 11,
   "metadata": {},
   "outputs": [
    {
     "name": "stdout",
     "output_type": "stream",
     "text": [
      "====== Model summary ======\n",
      "Invariant space dimension: 40\n",
      "Mined 40 invariants: {(1, 2): [-3.0, 1.0], (1, 3): [-3.0, 1.0], (2, 4): [-1.0, 1.0], (3, 4): [-1.0, 1.0], (5, 6): [-1.0, 1.0], (5, 7): [-1.0, 1.0], (11, 12): [-271.0, 1.0], (11, 14): [-534.0, 1.0], (11, 15): [-211.0, 1.0], (11, 16): [-211.0, 1.0], (11, 17): [-212.0, 1.0], (11, 27): [-741.0, 1.0], (12, 18): [1.0, -1396.0], (12, 19): [1.0, -1858.0], (12, 20): [1.0, -5607.0], (12, 21): [1.0, -1109.0], (12, 22): [1.0, -1111.0], (12, 23): [1.0, -926.0], (12, 24): [1.0, -5661.0], (12, 25): [1.0, -1876.0], (12, 28): [1.0, -704.0], (12, 29): [1.0, -2832.0], (12, 33): [1.0, -5659.0], (12, 35): [1.0, -5666.0], (12, 40): [1.0, -2832.0], (12, 42): [1.0, -5671.0], (12, 43): [1.0, -2829.0], (12, 44): [1.0, -5670.0], (13, 15): [-8073.0, 1.0], (13, 16): [-8073.0, 1.0], (13, 17): [-4485.0, 1.0], (13, 21): [1.0, -1262.0], (13, 22): [1.0, -1268.0], (13, 23): [1.0, -2537.0], (13, 25): [1.0, -1303.0], (13, 42): [1.0, -2650.0], (14, 18): [1.0, -1243.0], (14, 19): [1.0, -1234.0], (14, 20): [1.0, -422.0], (14, 21): [1.0, -401.0]}\n",
      "\n",
      "Runtime:  1006.5813481807709\n",
      "Train validation:\n",
      "====== Evaluation summary ======\n",
      "Precision: 0.868, recall: 1.000, F1-measure: 0.929\n",
      "\n",
      "Test validation:\n",
      "====== Evaluation summary ======\n",
      "Precision: 0.771, recall: 1.000, F1-measure: 0.871\n",
      "\n"
     ]
    }
   ],
   "source": [
    "model = InvariantsMiner(epsilon=epsilon)\n",
    "startTime = time.time()\n",
    "model.fit(x_train_1)\n",
    "endTime = time.time()\n",
    "\n",
    "print(\"Runtime: \", endTime-startTime)\n",
    "\n",
    "print('Train validation:')\n",
    "precision, recall, f1 = model.evaluate(x_train_1, y_train_1)\n",
    "\n",
    "print('Test validation:')\n",
    "precision, recall, f1 = model.evaluate(x_test_1, y_test_1)"
   ]
  },
  {
   "cell_type": "code",
   "execution_count": 9,
   "metadata": {},
   "outputs": [
    {
     "name": "stdout",
     "output_type": "stream",
     "text": [
      "====== Model summary ======\n",
      "Invariant space dimension: 40\n",
      "Mined 40 invariants: {(0, 1): [-211.0, 1.0], (0, 7): [-212.0, 1.0], (0, 24): [-741.0, 1.0], (0, 35): [-271.0, 1.0], (0, 38): [-211.0, 1.0], (0, 43): [-534.0, 1.0], (1, 3): [1.0, -1787.0], (1, 4): [1.0, -893.0], (1, 5): [1.0, -196.0], (1, 10): [1.0, -2681.0], (1, 11): [1.0, -1786.0], (1, 13): [1.0, -295.0], (1, 14): [1.0, -8073.0], (1, 15): [1.0, -289.0], (1, 16): [1.0, -1070.0], (1, 17): [1.0, -1340.0], (1, 18): [1.0, -48.0], (1, 20): [1.0, -2681.0], (1, 21): [1.0, -825.0], (1, 23): [1.0, -670.0], (1, 26): [1.0, -3575.0], (1, 28): [1.0, -1787.0], (1, 29): [1.0, -166.0], (1, 31): [1.0, -115.0], (1, 32): [1.0, -714.0], (1, 33): [1.0, -1339.0], (1, 34): [1.0, -156.0], (1, 36): [1.0, -313.0], (1, 39): [1.0, -595.0], (1, 40): [1.0, -2145.0], (1, 41): [1.0, -825.0], (1, 42): [1.0, -323.0], (2, 9): [1.0, -1.0], (2, 19): [-1.0, 1.0], (3, 7): [-1660.0, 1.0], (3, 35): [-5671.0, 1.0], (3, 38): [-1787.0, 1.0], (4, 7): [-683.0, 1.0], (4, 35): [-2832.0, 1.0], (4, 38): [-893.0, 1.0]}\n",
      "\n",
      "Runtime:  275.73350763320923\n",
      "Train validation:\n",
      "====== Evaluation summary ======\n",
      "Precision: 0.843, recall: 0.836, F1-measure: 0.839\n",
      "\n",
      "Test validation:\n",
      "====== Evaluation summary ======\n",
      "Precision: 0.709, recall: 0.724, F1-measure: 0.717\n",
      "\n"
     ]
    }
   ],
   "source": [
    "# Invariants miner\n",
    "import time\n",
    "model = InvariantsMiner(epsilon=0.5)\n",
    "startTime = time.time()\n",
    "model.fit(x_train_1)\n",
    "endTime = time.time()\n",
    "\n",
    "\n",
    "print(\"Runtime: \", endTime-startTime)\n",
    "\n",
    "print('Train validation:')\n",
    "precision, recall, f1 = model.evaluate(x_train_1, y_train_1)\n",
    "\n",
    "print('Test validation:')\n",
    "precision, recall, f1 = model.evaluate(x_test_1, y_test_1)"
   ]
  },
  {
   "cell_type": "code",
   "execution_count": 10,
   "metadata": {},
   "outputs": [
    {
     "name": "stdout",
     "output_type": "stream",
     "text": [
      "====== Input data summary ======\n",
      "Loading Data/HDFS.log_structured.csv\n",
      "10170 6668\n",
      "Total: 575061 instances, 16838 anomaly, 558223 normal\n",
      "Train: 287530 instances, 10170 anomaly, 277360 normal\n",
      "Test: 287531 instances, 6668 anomaly, 280863 normal\n",
      "\n",
      "====== Transformed train data summary ======\n",
      "Train data shape: 287530-by-42\n",
      "\n",
      "====== Transformed test data summary ======\n",
      "Test data shape: 287531-by-42\n",
      "\n"
     ]
    }
   ],
   "source": [
    "epsilon = 0.5\n",
    "\n",
    "(x_train_2, y_train_2), (x_test_2, y_test_2) = dataloader.load_HDFS(struct_log,\n",
    "                                                                label_file=label_file,\n",
    "                                                                window='session', \n",
    "                                                                train_ratio=0.5,\n",
    "                                                                split_type='sequential')\n",
    "feature_extractor = preprocessing.FeatureExtractor()\n",
    "x_train_1 = feature_extractor.fit_transform(x_train_2)\n",
    "x_test_1 = feature_extractor.transform(x_test_2)"
   ]
  },
  {
   "cell_type": "code",
   "execution_count": 12,
   "metadata": {},
   "outputs": [
    {
     "name": "stdout",
     "output_type": "stream",
     "text": [
      "====== Model summary ======\n",
      "Invariant space dimension: 38\n",
      "Mined 38 invariants: {(0, 1): [-248.0, 1.0], (0, 6): [-249.0, 1.0], (0, 32): [-241.0, 1.0], (0, 35): [-248.0, 1.0], (0, 40): [-765.0, 1.0], (1, 3): [1.0, -4984.0], (1, 4): [1.0, -353.0], (1, 9): [1.0, -1245.0], (1, 10): [1.0, -4977.0], (1, 12): [1.0, -826.0], (1, 14): [1.0, -711.0], (1, 15): [1.0, -2487.0], (1, 16): [1.0, -1245.0], (1, 17): [1.0, -13.0], (1, 19): [1.0, -4984.0], (1, 20): [1.0, -622.0], (1, 22): [1.0, -830.0], (1, 23): [1.0, -136.0], (1, 26): [1.0, -4984.0], (1, 27): [1.0, -225.0], (1, 29): [1.0, -155.0], (1, 30): [1.0, -2492.0], (1, 31): [1.0, -354.0], (1, 33): [1.0, -826.0], (1, 36): [1.0, -996.0], (1, 37): [1.0, -4984.0], (1, 38): [1.0, -622.0], (1, 39): [1.0, -551.0], (2, 8): [1.0, -1.0], (2, 11): [1.0, -1.0], (2, 18): [-1.0, 1.0], (2, 25): [1.0, -1.0], (2, 28): [-1.0, 1.0], (2, 34): [-1.0, 1.0], (3, 6): [-2876.0, 1.0], (3, 35): [-4984.0, 1.0], (4, 6): [-286.0, 1.0], (4, 35): [-353.0, 1.0]}\n",
      "\n",
      "Runtime:  166.65765047073364\n",
      "Train validation:\n",
      "====== Evaluation summary ======\n",
      "Precision: 0.877, recall: 1.000, F1-measure: 0.935\n",
      "\n",
      "Test validation:\n",
      "====== Evaluation summary ======\n",
      "Precision: 0.061, recall: 1.000, F1-measure: 0.114\n",
      "\n"
     ]
    }
   ],
   "source": [
    "# Invariants miner\n",
    "import time\n",
    "model = InvariantsMiner(epsilon=0.5)\n",
    "startTime = time.time()\n",
    "model.fit(x_train_1)\n",
    "endTime = time.time()\n",
    "\n",
    "\n",
    "print(\"Runtime: \", endTime-startTime)\n",
    "\n",
    "print('Train validation:')\n",
    "precision, recall, f1 = model.evaluate(x_train_1, y_train_2)\n",
    "\n",
    "print('Test validation:')\n",
    "precision, recall, f1 = model.evaluate(x_test_1, y_test_2)"
   ]
  },
  {
   "cell_type": "code",
   "execution_count": 13,
   "metadata": {},
   "outputs": [
    {
     "name": "stdout",
     "output_type": "stream",
     "text": [
      "====== Input data summary ======\n",
      "Loading Data/HDFS.log_structured.csv\n",
      "8419 8419\n",
      "Total: 575061 instances, 16838 anomaly, 558223 normal\n",
      "Train: 287530 instances, 8419 anomaly, 279111 normal\n",
      "Test: 287531 instances, 8419 anomaly, 279112 normal\n",
      "\n",
      "====== Transformed train data summary ======\n",
      "Train data shape: 287530-by-40\n",
      "\n",
      "====== Transformed test data summary ======\n",
      "Test data shape: 287531-by-40\n",
      "\n",
      "====== Model summary ======\n",
      "n_components: 7\n",
      "Project matrix shape: 40-by-40\n",
      "SPE threshold: 2.6277340346711267\n",
      "\n",
      "Runtime 1:  0.014801979064941406\n",
      "Train validation 1:\n",
      "====== Evaluation summary ======\n",
      "Precision: 0.981, recall: 0.403, F1-measure: 0.571\n",
      "\n",
      "Test validation 1:\n",
      "====== Evaluation summary ======\n",
      "Precision: 0.993, recall: 0.266, F1-measure: 0.419\n",
      "\n"
     ]
    }
   ],
   "source": [
    "(x_train, y_train), (x_test, y_test) = dataloader.load_HDFS(struct_log,\n",
    "                                                                label_file=label_file,\n",
    "                                                                window='session', \n",
    "                                                                train_ratio=0.5,\n",
    "                                                                split_type='uniform')\n",
    "feature_extractor = preprocessing.FeatureExtractor()\n",
    "x_train = feature_extractor.fit_transform(x_train, term_weighting='tf-idf', \n",
    "                                            normalization='zero-mean')\n",
    "x_test = feature_extractor.transform(x_test)\n",
    "\n",
    "import time\n",
    "\n",
    "model = PCA()\n",
    "startTime = time.time()\n",
    "model.fit(x_train)\n",
    "endTime = time.time()\n",
    "\n",
    "print(\"Runtime 1: \", endTime-startTime)\n",
    "\n",
    "print('Train validation 1:')\n",
    "precision, recall, f1 = model.evaluate(x_train, y_train)\n",
    "\n",
    "print('Test validation 1:')\n",
    "precision, recall, f1 = model.evaluate(x_test, y_test)\n"
   ]
  },
  {
   "cell_type": "code",
   "execution_count": 95,
   "metadata": {},
   "outputs": [],
   "source": [
    "data_train = {'F_score': [0.929,0.761],'Precision':[0.868,0.966], 'Recall':[1.000,0.627], 'Runtime':[1006.5813481807709,0.02712106704711914], 'Algorithm': [\"Invariants Mining\", \"PCA\"]}\n",
    "df_train = pd.DataFrame(data_train, columns=['F_score','Precision', 'Recall', 'Runtime', 'Algorithm'])\n",
    "\n",
    "data_test = {'F_score': [0.871,0.804],'Precision':[0.771,0.998], 'Recall':[1.000,0.673], 'Runtime':[1006.5813481807709,0.02712106704711914], 'Algorithm': [\"Invariants Mining\", \"PCA\"]}\n",
    "df_test = pd.DataFrame(data_test, columns=['F_score','Precision', 'Recall', 'Runtime', 'Algorithm'])"
   ]
  },
  {
   "cell_type": "markdown",
   "metadata": {},
   "source": [
    "HPC, HDFS, Zookeeper, BGL, Proxifier"
   ]
  },
  {
   "cell_type": "code",
   "execution_count": 49,
   "metadata": {},
   "outputs": [
    {
     "data": {
      "text/html": [
       "<div>\n",
       "<style scoped>\n",
       "    .dataframe tbody tr th:only-of-type {\n",
       "        vertical-align: middle;\n",
       "    }\n",
       "\n",
       "    .dataframe tbody tr th {\n",
       "        vertical-align: top;\n",
       "    }\n",
       "\n",
       "    .dataframe thead th {\n",
       "        text-align: right;\n",
       "    }\n",
       "</style>\n",
       "<table border=\"1\" class=\"dataframe\">\n",
       "  <thead>\n",
       "    <tr style=\"text-align: right;\">\n",
       "      <th></th>\n",
       "      <th>F_score</th>\n",
       "      <th>Precision</th>\n",
       "      <th>Recall</th>\n",
       "      <th>Runtime</th>\n",
       "      <th>Algorithm</th>\n",
       "    </tr>\n",
       "  </thead>\n",
       "  <tbody>\n",
       "    <tr>\n",
       "      <th>0</th>\n",
       "      <td>0.929</td>\n",
       "      <td>0.868</td>\n",
       "      <td>1.000</td>\n",
       "      <td>1006.581348</td>\n",
       "      <td>Invariants Mining</td>\n",
       "    </tr>\n",
       "    <tr>\n",
       "      <th>1</th>\n",
       "      <td>0.761</td>\n",
       "      <td>0.966</td>\n",
       "      <td>0.627</td>\n",
       "      <td>0.027121</td>\n",
       "      <td>PCA</td>\n",
       "    </tr>\n",
       "  </tbody>\n",
       "</table>\n",
       "</div>"
      ],
      "text/plain": [
       "   F_score  Precision  Recall      Runtime          Algorithm\n",
       "0    0.929      0.868   1.000  1006.581348  Invariants Mining\n",
       "1    0.761      0.966   0.627     0.027121                PCA"
      ]
     },
     "execution_count": 49,
     "metadata": {},
     "output_type": "execute_result"
    }
   ],
   "source": [
    "df_train"
   ]
  },
  {
   "cell_type": "code",
   "execution_count": 24,
   "metadata": {},
   "outputs": [
    {
     "data": {
      "image/png": "[encoded data removed]",
      "text/plain": [
       "<Figure size 720x720 with 1 Axes>"
      ]
     },
     "metadata": {
      "needs_background": "light"
     },
     "output_type": "display_data"
    }
   ],
   "source": [
    "fig, ax = plt.subplots()\n",
    "df_train.plot(x=\"Algorithm\", y=\"F_score\",kind=\"bar\", figsize= (10, 10), width=0.75, ax=ax)\n",
    "ax.set_title('F-Score on HDFS data')\n",
    "ax.set_xlabel(\"Anomaly detection algorithm\")\n",
    "ax.set_ylabel(\"F-Score\")\n",
    "ax.grid(False)\n",
    "plt.xticks(rotation = 360)\n",
    "plt.show()\n",
    "\n",
    "fig.savefig(\"Figures/F_2\", dpi=300)"
   ]
  },
  {
   "cell_type": "code",
   "execution_count": 62,
   "metadata": {},
   "outputs": [
    {
     "data": {
      "image/png": "[encoded data removed]",
      "text/plain": [
       "<Figure size 720x720 with 1 Axes>"
      ]
     },
     "metadata": {
      "needs_background": "light"
     },
     "output_type": "display_data"
    }
   ],
   "source": [
    "fig, ax = plt.subplots()\n",
    "df_test.plot(x=\"Algorithm\", y=\"F_score\",kind=\"bar\", figsize= (10, 10), width=0.75, ax=ax)\n",
    "ax.set_title('F-Score on HDFS data')\n",
    "ax.set_xlabel(\"Anomaly detection algorithm\")\n",
    "ax.set_ylabel(\"F-Score\")\n",
    "ax.grid(False)\n",
    "plt.xticks(rotation = 360)\n",
    "plt.show()\n",
    "\n",
    "fig.savefig(\"Figures/F_2_test\", dpi=300)"
   ]
  },
  {
   "cell_type": "code",
   "execution_count": 29,
   "metadata": {},
   "outputs": [
    {
     "data": {
      "image/png": "[encoded data removed]",
      "text/plain": [
       "<Figure size 720x720 with 1 Axes>"
      ]
     },
     "metadata": {
      "needs_background": "light"
     },
     "output_type": "display_data"
    }
   ],
   "source": [
    "fig, ax = plt.subplots()\n",
    "df_train.plot(x=\"Algorithm\", y=\"Precision\",kind=\"bar\", figsize= (10, 10), width=0.75, ax=ax)\n",
    "ax.set_title('Precision on HDFS data')\n",
    "ax.set_xlabel(\"Anomaly detection algorithm\")\n",
    "ax.set_ylabel(\"Precision\")\n",
    "ax.grid(False)\n",
    "plt.xticks(rotation = 360)\n",
    "plt.show()\n",
    "\n",
    "fig.savefig(\"Figures/Precision_2\", dpi=300)"
   ]
  },
  {
   "cell_type": "code",
   "execution_count": 63,
   "metadata": {},
   "outputs": [
    {
     "data": {
      "image/png": "[encoded data removed]",
      "text/plain": [
       "<Figure size 720x720 with 1 Axes>"
      ]
     },
     "metadata": {
      "needs_background": "light"
     },
     "output_type": "display_data"
    }
   ],
   "source": [
    "fig, ax = plt.subplots()\n",
    "df_test.plot(x=\"Algorithm\", y=\"Precision\",kind=\"bar\", figsize= (10, 10), width=0.75, ax=ax)\n",
    "ax.set_title('Precision on HDFS data')\n",
    "ax.set_xlabel(\"Anomaly detection algorithm\")\n",
    "ax.set_ylabel(\"Precision\")\n",
    "ax.grid(False)\n",
    "plt.xticks(rotation = 360)\n",
    "plt.show()\n",
    "\n",
    "fig.savefig(\"Figures/Precision_2_test\", dpi=300)"
   ]
  },
  {
   "cell_type": "code",
   "execution_count": 30,
   "metadata": {},
   "outputs": [
    {
     "data": {
      "image/png": "[encoded data removed]",
      "text/plain": [
       "<Figure size 720x720 with 1 Axes>"
      ]
     },
     "metadata": {
      "needs_background": "light"
     },
     "output_type": "display_data"
    }
   ],
   "source": [
    "fig, ax = plt.subplots()\n",
    "df_train.plot(x=\"Algorithm\", y=\"Recall\",kind=\"bar\", figsize= (10, 10), width=0.75, ax=ax)\n",
    "ax.set_title('Recall on HDFS data')\n",
    "ax.set_xlabel(\"Anomaly detection algorithm\")\n",
    "ax.set_ylabel(\"Recall\")\n",
    "ax.grid(False)\n",
    "plt.xticks(rotation = 360)\n",
    "plt.show()\n",
    "\n",
    "fig.savefig(\"Figures/Recall_2\", dpi=300)"
   ]
  },
  {
   "cell_type": "code",
   "execution_count": 64,
   "metadata": {},
   "outputs": [
    {
     "data": {
      "image/png": "[encoded data removed]",
      "text/plain": [
       "<Figure size 720x720 with 1 Axes>"
      ]
     },
     "metadata": {
      "needs_background": "light"
     },
     "output_type": "display_data"
    }
   ],
   "source": [
    "fig, ax = plt.subplots()\n",
    "df_test.plot(x=\"Algorithm\", y=\"Recall\",kind=\"bar\", figsize= (10, 10), width=0.75, ax=ax)\n",
    "ax.set_title('Recall on HDFS data')\n",
    "ax.set_xlabel(\"Anomaly detection algorithm\")\n",
    "ax.set_ylabel(\"Recall\")\n",
    "ax.grid(False)\n",
    "plt.xticks(rotation = 360)\n",
    "plt.show()\n",
    "\n",
    "fig.savefig(\"Figures/Recall_2_test\", dpi=300)"
   ]
  },
  {
   "cell_type": "code",
   "execution_count": 53,
   "metadata": {},
   "outputs": [
    {
     "data": {
      "image/png": "[encoded data removed]",
      "text/plain": [
       "<Figure size 720x720 with 1 Axes>"
      ]
     },
     "metadata": {
      "needs_background": "light"
     },
     "output_type": "display_data"
    }
   ],
   "source": [
    "fig, ax = plt.subplots()\n",
    "df_train.plot(x=\"Algorithm\", y=\"Runtime\",kind=\"bar\", figsize= (10, 10), width=0.75, ax=ax)\n",
    "ax.set_title('Runtime on HDFS data')\n",
    "ax.set_xlabel(\"Anomaly detection algorithm\")\n",
    "ax.set_ylabel(\"Runtime\")\n",
    "ax.grid(False)\n",
    "plt.xticks(rotation = 360)\n",
    "plt.show()\n",
    "\n",
    "fig.savefig(\"Figures/Runtime_2\", dpi=300)"
   ]
  },
  {
   "cell_type": "code",
   "execution_count": 96,
   "metadata": {},
   "outputs": [
    {
     "data": {
      "image/png": "[encoded data removed]",
      "text/plain": [
       "<Figure size 720x720 with 1 Axes>"
      ]
     },
     "metadata": {
      "needs_background": "light"
     },
     "output_type": "display_data"
    }
   ],
   "source": [
    "import matplotlib.ticker as mticker\n",
    "\n",
    "fig, ax = plt.subplots()\n",
    "df_train.plot(x=\"Algorithm\", y=\"Runtime\",kind=\"bar\", figsize= (10, 10), width=0.75, ax=ax)\n",
    "ax.set_title('Runtime on HDFS data')\n",
    "ax.set_xlabel(\"Anomaly detection algorithm\")\n",
    "ax.set_ylabel(\"Runtime (Seconds)\")\n",
    "ax.grid(False)\n",
    "\n",
    "plt.xticks(rotation = 360)\n",
    "plt.ticklabel_format(axis=\"y\", style=\"sci\", scilimits=(-3,3), useMathText=True)\n",
    "plt.yscale('log')\n",
    "plt.show()\n",
    "\n",
    "fig.savefig(\"Figures/Runtime_2\", dpi=300)"
   ]
  },
  {
   "cell_type": "code",
   "execution_count": 93,
   "metadata": {},
   "outputs": [],
   "source": [
    "data = {\n",
    "'HPC':[\n",
    "    '0:01:14.325158', '0:00:00.663235','0:00:05.537960','0:01:10.028777'\n",
    "], 'HDFS':[\n",
    "    '0:00:04.369862', '0:00:00.859690','0:00:01.880703','0:01:23.276417'\n",
    "], 'Zookeeper':[\n",
    "    '0:00:11.534323', '0:00:00.763250','0:00:01.935128','0:01:09.254505'\n",
    "],'BGL':[\n",
    "    '0:03:51.231515', '0:00:00.588315','0:00:02.752650','0:03:23.477097'\n",
    "],'Proxifier':[\n",
    "    '0:00:04.512047', '0:00:00.636653','0:00:01.910701','0:01:03.066665'\n",
    "] ,'Algorithm':[\n",
    "    'LogSig', 'IPLom', 'SLCT','LKE'\n",
    "]}\n",
    "df = pd.DataFrame(data, columns=['HPC', 'HDFS', 'Zookeeper','BGL','Proxifier' ,'Algorithm'])"
   ]
  },
  {
   "cell_type": "code",
   "execution_count": 76,
   "metadata": {},
   "outputs": [
    {
     "data": {
      "text/html": [
       "<div>\n",
       "<style scoped>\n",
       "    .dataframe tbody tr th:only-of-type {\n",
       "        vertical-align: middle;\n",
       "    }\n",
       "\n",
       "    .dataframe tbody tr th {\n",
       "        vertical-align: top;\n",
       "    }\n",
       "\n",
       "    .dataframe thead th {\n",
       "        text-align: right;\n",
       "    }\n",
       "</style>\n",
       "<table border=\"1\" class=\"dataframe\">\n",
       "  <thead>\n",
       "    <tr style=\"text-align: right;\">\n",
       "      <th></th>\n",
       "      <th>HPC</th>\n",
       "      <th>HDFS</th>\n",
       "      <th>Zookeeper</th>\n",
       "      <th>BGL</th>\n",
       "      <th>Proxifier</th>\n",
       "      <th>Algorithm</th>\n",
       "    </tr>\n",
       "  </thead>\n",
       "  <tbody>\n",
       "    <tr>\n",
       "      <th>0</th>\n",
       "      <td>0:01:14.325158</td>\n",
       "      <td>0:00:04.369862</td>\n",
       "      <td>0:00:11.534323</td>\n",
       "      <td>0:03:51.231515</td>\n",
       "      <td>0:00:04.512047</td>\n",
       "      <td>LogSig</td>\n",
       "    </tr>\n",
       "    <tr>\n",
       "      <th>1</th>\n",
       "      <td>0:00:00.663235</td>\n",
       "      <td>0:00:00.859690</td>\n",
       "      <td>0:00:00.763250</td>\n",
       "      <td>0:00:00.588315</td>\n",
       "      <td>0:00:00.636653</td>\n",
       "      <td>IPLom</td>\n",
       "    </tr>\n",
       "    <tr>\n",
       "      <th>2</th>\n",
       "      <td>0:00:05.537960</td>\n",
       "      <td>0:00:01.880703</td>\n",
       "      <td>0:00:01.935128</td>\n",
       "      <td>0:00:02.752650</td>\n",
       "      <td>0:00:01.910701</td>\n",
       "      <td>SLCT</td>\n",
       "    </tr>\n",
       "    <tr>\n",
       "      <th>3</th>\n",
       "      <td>0:01:10.028777</td>\n",
       "      <td>0:01:23.276417</td>\n",
       "      <td>0:01:09.254505</td>\n",
       "      <td>0:03:23.477097</td>\n",
       "      <td>0:01:03.066665</td>\n",
       "      <td>LKE</td>\n",
       "    </tr>\n",
       "  </tbody>\n",
       "</table>\n",
       "</div>"
      ],
      "text/plain": [
       "              HPC            HDFS       Zookeeper             BGL  \\\n",
       "0  0:01:14.325158  0:00:04.369862  0:00:11.534323  0:03:51.231515   \n",
       "1  0:00:00.663235  0:00:00.859690  0:00:00.763250  0:00:00.588315   \n",
       "2  0:00:05.537960  0:00:01.880703  0:00:01.935128  0:00:02.752650   \n",
       "3  0:01:10.028777  0:01:23.276417  0:01:09.254505  0:03:23.477097   \n",
       "\n",
       "        Proxifier Algorithm  \n",
       "0  0:00:04.512047    LogSig  \n",
       "1  0:00:00.636653     IPLom  \n",
       "2  0:00:01.910701      SLCT  \n",
       "3  0:01:03.066665       LKE  "
      ]
     },
     "execution_count": 76,
     "metadata": {},
     "output_type": "execute_result"
    }
   ],
   "source": [
    "df"
   ]
  },
  {
   "cell_type": "code",
   "execution_count": 94,
   "metadata": {},
   "outputs": [
    {
     "data": {
      "image/png": "[encoded data removed]",
      "text/plain": [
       "<Figure size 720x720 with 1 Axes>"
      ]
     },
     "metadata": {
      "needs_background": "light"
     },
     "output_type": "display_data"
    }
   ],
   "source": [
    "fig, ax = plt.subplots()\n",
    "\n",
    "df[\"HPC\"]= pd.to_timedelta(df[\"HPC\"]).dt.total_seconds()\n",
    "df[\"HDFS\"]= pd.to_timedelta(df[\"HDFS\"]).dt.total_seconds()\n",
    "df[\"Zookeeper\"]= pd.to_timedelta(df[\"Zookeeper\"]).dt.total_seconds()\n",
    "df[\"BGL\"]= pd.to_timedelta(df[\"BGL\"]).dt.total_seconds()\n",
    "df[\"Proxifier\"]= pd.to_timedelta(df[\"Proxifier\"]).dt.total_seconds()\n",
    "\n",
    "df.plot(x=\"Algorithm\", y=[\"HPC\", \"HDFS\", \"Zookeeper\", \"BGL\", \"Proxifier\"],kind=\"bar\", figsize= (10, 10), width=0.75, ax=ax)\n",
    "ax.set_title('Runtime on different datasets')\n",
    "ax.set_xlabel(\"Log parsing algorithm\")\n",
    "ax.set_ylabel(\"Runtime (Seconds)\")\n",
    "ax.grid(False)\n",
    "plt.xticks(rotation = 360)\n",
    "plt.ticklabel_format(axis=\"y\", style=\"sci\", scilimits=(-3,3), useMathText=True)\n",
    "plt.yscale('log')\n",
    "plt.show()\n",
    "\n",
    "fig.savefig(\"Runtime_1\", dpi=300)"
   ]
  },
  {
   "cell_type": "code",
   "execution_count": 87,
   "metadata": {},
   "outputs": [
    {
     "data": {
      "text/plain": [
       "0   -69863.822795\n",
       "1   -69937.484718\n",
       "2   -69932.609993\n",
       "3   -69868.119176\n",
       "Name: HPC, dtype: float64"
      ]
     },
     "execution_count": 87,
     "metadata": {},
     "output_type": "execute_result"
    }
   ],
   "source": [
    "df[\"HPC\"] = df[\"HPC\"] - pd.datetime.now()\n",
    "df[\"HPC\"].dt.total_seconds()"
   ]
  },
  {
   "cell_type": "code",
   "execution_count": 98,
   "metadata": {},
   "outputs": [
    {
     "name": "stdout",
     "output_type": "stream",
     "text": [
      "====== Input data summary ======\n",
      "Loading Data/HDFS.log_structured.csv\n"
     ]
    },
    {
     "ename": "KeyboardInterrupt",
     "evalue": "",
     "output_type": "error",
     "traceback": [
      "\u001b[0;31m---------------------------------------------------------------------------\u001b[0m",
      "\u001b[0;31mKeyboardInterrupt\u001b[0m                         Traceback (most recent call last)",
      "\u001b[0;32m<ipython-input-98-723337465591>\u001b[0m in \u001b[0;36m<module>\u001b[0;34m\u001b[0m\n\u001b[1;32m      5\u001b[0m                                                                 \u001b[0mwindow\u001b[0m\u001b[0;34m=\u001b[0m\u001b[0;34m'session'\u001b[0m\u001b[0;34m,\u001b[0m\u001b[0;34m\u001b[0m\u001b[0;34m\u001b[0m\u001b[0m\n\u001b[1;32m      6\u001b[0m                                                                 \u001b[0mtrain_ratio\u001b[0m\u001b[0;34m=\u001b[0m\u001b[0;36m0.8\u001b[0m\u001b[0;34m,\u001b[0m\u001b[0;34m\u001b[0m\u001b[0;34m\u001b[0m\u001b[0m\n\u001b[0;32m----> 7\u001b[0;31m                                                                 split_type='sequential')\n\u001b[0m\u001b[1;32m      8\u001b[0m \u001b[0mfeature_extractor\u001b[0m \u001b[0;34m=\u001b[0m \u001b[0mpreprocessing\u001b[0m\u001b[0;34m.\u001b[0m\u001b[0mFeatureExtractor\u001b[0m\u001b[0;34m(\u001b[0m\u001b[0;34m)\u001b[0m\u001b[0;34m\u001b[0m\u001b[0;34m\u001b[0m\u001b[0m\n\u001b[1;32m      9\u001b[0m \u001b[0mx_train_1\u001b[0m \u001b[0;34m=\u001b[0m \u001b[0mfeature_extractor\u001b[0m\u001b[0;34m.\u001b[0m\u001b[0mfit_transform\u001b[0m\u001b[0;34m(\u001b[0m\u001b[0mx_train_2\u001b[0m\u001b[0;34m)\u001b[0m\u001b[0;34m\u001b[0m\u001b[0;34m\u001b[0m\u001b[0m\n",
      "\u001b[0;32m~/Part 2/loglizer/loglizer/dataloader.py\u001b[0m in \u001b[0;36mload_HDFS\u001b[0;34m(log_file, label_file, window, train_ratio, split_type, save_csv, window_size)\u001b[0m\n\u001b[1;32m     80\u001b[0m                 na_filter=False, memory_map=True)\n\u001b[1;32m     81\u001b[0m         \u001b[0mdata_dict\u001b[0m \u001b[0;34m=\u001b[0m \u001b[0mOrderedDict\u001b[0m\u001b[0;34m(\u001b[0m\u001b[0;34m)\u001b[0m\u001b[0;34m\u001b[0m\u001b[0;34m\u001b[0m\u001b[0m\n\u001b[0;32m---> 82\u001b[0;31m         \u001b[0;32mfor\u001b[0m \u001b[0midx\u001b[0m\u001b[0;34m,\u001b[0m \u001b[0mrow\u001b[0m \u001b[0;32min\u001b[0m \u001b[0mstruct_log\u001b[0m\u001b[0;34m.\u001b[0m\u001b[0miterrows\u001b[0m\u001b[0;34m(\u001b[0m\u001b[0;34m)\u001b[0m\u001b[0;34m:\u001b[0m\u001b[0;34m\u001b[0m\u001b[0;34m\u001b[0m\u001b[0m\n\u001b[0m\u001b[1;32m     83\u001b[0m             \u001b[0mblkId_list\u001b[0m \u001b[0;34m=\u001b[0m \u001b[0mre\u001b[0m\u001b[0;34m.\u001b[0m\u001b[0mfindall\u001b[0m\u001b[0;34m(\u001b[0m\u001b[0;34mr'(blk_-?\\d+)'\u001b[0m\u001b[0;34m,\u001b[0m \u001b[0mrow\u001b[0m\u001b[0;34m[\u001b[0m\u001b[0;34m'Content'\u001b[0m\u001b[0;34m]\u001b[0m\u001b[0;34m)\u001b[0m\u001b[0;34m\u001b[0m\u001b[0;34m\u001b[0m\u001b[0m\n\u001b[1;32m     84\u001b[0m             \u001b[0mblkId_set\u001b[0m \u001b[0;34m=\u001b[0m \u001b[0mset\u001b[0m\u001b[0;34m(\u001b[0m\u001b[0mblkId_list\u001b[0m\u001b[0;34m)\u001b[0m\u001b[0;34m\u001b[0m\u001b[0;34m\u001b[0m\u001b[0m\n",
      "\u001b[0;32m~/anaconda3/lib/python3.7/site-packages/pandas/core/frame.py\u001b[0m in \u001b[0;36miterrows\u001b[0;34m(self)\u001b[0m\n\u001b[1;32m    844\u001b[0m         \u001b[0mklass\u001b[0m \u001b[0;34m=\u001b[0m \u001b[0mself\u001b[0m\u001b[0;34m.\u001b[0m\u001b[0m_constructor_sliced\u001b[0m\u001b[0;34m\u001b[0m\u001b[0;34m\u001b[0m\u001b[0m\n\u001b[1;32m    845\u001b[0m         \u001b[0;32mfor\u001b[0m \u001b[0mk\u001b[0m\u001b[0;34m,\u001b[0m \u001b[0mv\u001b[0m \u001b[0;32min\u001b[0m \u001b[0mzip\u001b[0m\u001b[0;34m(\u001b[0m\u001b[0mself\u001b[0m\u001b[0;34m.\u001b[0m\u001b[0mindex\u001b[0m\u001b[0;34m,\u001b[0m \u001b[0mself\u001b[0m\u001b[0;34m.\u001b[0m\u001b[0mvalues\u001b[0m\u001b[0;34m)\u001b[0m\u001b[0;34m:\u001b[0m\u001b[0;34m\u001b[0m\u001b[0;34m\u001b[0m\u001b[0m\n\u001b[0;32m--> 846\u001b[0;31m             \u001b[0ms\u001b[0m \u001b[0;34m=\u001b[0m \u001b[0mklass\u001b[0m\u001b[0;34m(\u001b[0m\u001b[0mv\u001b[0m\u001b[0;34m,\u001b[0m \u001b[0mindex\u001b[0m\u001b[0;34m=\u001b[0m\u001b[0mcolumns\u001b[0m\u001b[0;34m,\u001b[0m \u001b[0mname\u001b[0m\u001b[0;34m=\u001b[0m\u001b[0mk\u001b[0m\u001b[0;34m)\u001b[0m\u001b[0;34m\u001b[0m\u001b[0;34m\u001b[0m\u001b[0m\n\u001b[0m\u001b[1;32m    847\u001b[0m             \u001b[0;32myield\u001b[0m \u001b[0mk\u001b[0m\u001b[0;34m,\u001b[0m \u001b[0ms\u001b[0m\u001b[0;34m\u001b[0m\u001b[0;34m\u001b[0m\u001b[0m\n\u001b[1;32m    848\u001b[0m \u001b[0;34m\u001b[0m\u001b[0m\n",
      "\u001b[0;32m~/anaconda3/lib/python3.7/site-packages/pandas/core/series.py\u001b[0m in \u001b[0;36m__init__\u001b[0;34m(self, data, index, dtype, name, copy, fastpath)\u001b[0m\n\u001b[1;32m    262\u001b[0m                                       raise_cast_failure=True)\n\u001b[1;32m    263\u001b[0m \u001b[0;34m\u001b[0m\u001b[0m\n\u001b[0;32m--> 264\u001b[0;31m                 \u001b[0mdata\u001b[0m \u001b[0;34m=\u001b[0m \u001b[0mSingleBlockManager\u001b[0m\u001b[0;34m(\u001b[0m\u001b[0mdata\u001b[0m\u001b[0;34m,\u001b[0m \u001b[0mindex\u001b[0m\u001b[0;34m,\u001b[0m \u001b[0mfastpath\u001b[0m\u001b[0;34m=\u001b[0m\u001b[0;32mTrue\u001b[0m\u001b[0;34m)\u001b[0m\u001b[0;34m\u001b[0m\u001b[0;34m\u001b[0m\u001b[0m\n\u001b[0m\u001b[1;32m    265\u001b[0m \u001b[0;34m\u001b[0m\u001b[0m\n\u001b[1;32m    266\u001b[0m         \u001b[0mgeneric\u001b[0m\u001b[0;34m.\u001b[0m\u001b[0mNDFrame\u001b[0m\u001b[0;34m.\u001b[0m\u001b[0m__init__\u001b[0m\u001b[0;34m(\u001b[0m\u001b[0mself\u001b[0m\u001b[0;34m,\u001b[0m \u001b[0mdata\u001b[0m\u001b[0;34m,\u001b[0m \u001b[0mfastpath\u001b[0m\u001b[0;34m=\u001b[0m\u001b[0;32mTrue\u001b[0m\u001b[0;34m)\u001b[0m\u001b[0;34m\u001b[0m\u001b[0;34m\u001b[0m\u001b[0m\n",
      "\u001b[0;32m~/anaconda3/lib/python3.7/site-packages/pandas/core/internals/managers.py\u001b[0m in \u001b[0;36m__init__\u001b[0;34m(self, block, axis, do_integrity_check, fastpath)\u001b[0m\n\u001b[1;32m   1479\u001b[0m \u001b[0;34m\u001b[0m\u001b[0m\n\u001b[1;32m   1480\u001b[0m         \u001b[0;32mif\u001b[0m \u001b[0;32mnot\u001b[0m \u001b[0misinstance\u001b[0m\u001b[0;34m(\u001b[0m\u001b[0mblock\u001b[0m\u001b[0;34m,\u001b[0m \u001b[0mBlock\u001b[0m\u001b[0;34m)\u001b[0m\u001b[0;34m:\u001b[0m\u001b[0;34m\u001b[0m\u001b[0;34m\u001b[0m\u001b[0m\n\u001b[0;32m-> 1481\u001b[0;31m             \u001b[0mblock\u001b[0m \u001b[0;34m=\u001b[0m \u001b[0mmake_block\u001b[0m\u001b[0;34m(\u001b[0m\u001b[0mblock\u001b[0m\u001b[0;34m,\u001b[0m \u001b[0mplacement\u001b[0m\u001b[0;34m=\u001b[0m\u001b[0mslice\u001b[0m\u001b[0;34m(\u001b[0m\u001b[0;36m0\u001b[0m\u001b[0;34m,\u001b[0m \u001b[0mlen\u001b[0m\u001b[0;34m(\u001b[0m\u001b[0maxis\u001b[0m\u001b[0;34m)\u001b[0m\u001b[0;34m)\u001b[0m\u001b[0;34m,\u001b[0m \u001b[0mndim\u001b[0m\u001b[0;34m=\u001b[0m\u001b[0;36m1\u001b[0m\u001b[0;34m)\u001b[0m\u001b[0;34m\u001b[0m\u001b[0;34m\u001b[0m\u001b[0m\n\u001b[0m\u001b[1;32m   1482\u001b[0m \u001b[0;34m\u001b[0m\u001b[0m\n\u001b[1;32m   1483\u001b[0m         \u001b[0mself\u001b[0m\u001b[0;34m.\u001b[0m\u001b[0mblocks\u001b[0m \u001b[0;34m=\u001b[0m \u001b[0;34m[\u001b[0m\u001b[0mblock\u001b[0m\u001b[0;34m]\u001b[0m\u001b[0;34m\u001b[0m\u001b[0;34m\u001b[0m\u001b[0m\n",
      "\u001b[0;32m~/anaconda3/lib/python3.7/site-packages/pandas/core/internals/blocks.py\u001b[0m in \u001b[0;36mmake_block\u001b[0;34m(values, placement, klass, ndim, dtype, fastpath)\u001b[0m\n\u001b[1;32m   3086\u001b[0m     \u001b[0;32mif\u001b[0m \u001b[0mklass\u001b[0m \u001b[0;32mis\u001b[0m \u001b[0;32mNone\u001b[0m\u001b[0;34m:\u001b[0m\u001b[0;34m\u001b[0m\u001b[0;34m\u001b[0m\u001b[0m\n\u001b[1;32m   3087\u001b[0m         \u001b[0mdtype\u001b[0m \u001b[0;34m=\u001b[0m \u001b[0mdtype\u001b[0m \u001b[0;32mor\u001b[0m \u001b[0mvalues\u001b[0m\u001b[0;34m.\u001b[0m\u001b[0mdtype\u001b[0m\u001b[0;34m\u001b[0m\u001b[0;34m\u001b[0m\u001b[0m\n\u001b[0;32m-> 3088\u001b[0;31m         \u001b[0mklass\u001b[0m \u001b[0;34m=\u001b[0m \u001b[0mget_block_type\u001b[0m\u001b[0;34m(\u001b[0m\u001b[0mvalues\u001b[0m\u001b[0;34m,\u001b[0m \u001b[0mdtype\u001b[0m\u001b[0;34m)\u001b[0m\u001b[0;34m\u001b[0m\u001b[0;34m\u001b[0m\u001b[0m\n\u001b[0m\u001b[1;32m   3089\u001b[0m \u001b[0;34m\u001b[0m\u001b[0m\n\u001b[1;32m   3090\u001b[0m     \u001b[0;32melif\u001b[0m \u001b[0mklass\u001b[0m \u001b[0;32mis\u001b[0m \u001b[0mDatetimeTZBlock\u001b[0m \u001b[0;32mand\u001b[0m \u001b[0;32mnot\u001b[0m \u001b[0mis_datetime64tz_dtype\u001b[0m\u001b[0;34m(\u001b[0m\u001b[0mvalues\u001b[0m\u001b[0;34m)\u001b[0m\u001b[0;34m:\u001b[0m\u001b[0;34m\u001b[0m\u001b[0;34m\u001b[0m\u001b[0m\n",
      "\u001b[0;32m~/anaconda3/lib/python3.7/site-packages/pandas/core/internals/blocks.py\u001b[0m in \u001b[0;36mget_block_type\u001b[0;34m(values, dtype)\u001b[0m\n\u001b[1;32m   3056\u001b[0m         \u001b[0;32massert\u001b[0m \u001b[0;32mnot\u001b[0m \u001b[0mis_datetime64tz_dtype\u001b[0m\u001b[0;34m(\u001b[0m\u001b[0mvalues\u001b[0m\u001b[0;34m)\u001b[0m\u001b[0;34m\u001b[0m\u001b[0;34m\u001b[0m\u001b[0m\n\u001b[1;32m   3057\u001b[0m         \u001b[0mcls\u001b[0m \u001b[0;34m=\u001b[0m \u001b[0mDatetimeBlock\u001b[0m\u001b[0;34m\u001b[0m\u001b[0;34m\u001b[0m\u001b[0m\n\u001b[0;32m-> 3058\u001b[0;31m     \u001b[0;32melif\u001b[0m \u001b[0mis_datetime64tz_dtype\u001b[0m\u001b[0;34m(\u001b[0m\u001b[0mvalues\u001b[0m\u001b[0;34m)\u001b[0m\u001b[0;34m:\u001b[0m\u001b[0;34m\u001b[0m\u001b[0;34m\u001b[0m\u001b[0m\n\u001b[0m\u001b[1;32m   3059\u001b[0m         \u001b[0mcls\u001b[0m \u001b[0;34m=\u001b[0m \u001b[0mDatetimeTZBlock\u001b[0m\u001b[0;34m\u001b[0m\u001b[0;34m\u001b[0m\u001b[0m\n\u001b[1;32m   3060\u001b[0m     \u001b[0;32melif\u001b[0m \u001b[0mis_interval_dtype\u001b[0m\u001b[0;34m(\u001b[0m\u001b[0mdtype\u001b[0m\u001b[0;34m)\u001b[0m \u001b[0;32mor\u001b[0m \u001b[0mis_period_dtype\u001b[0m\u001b[0;34m(\u001b[0m\u001b[0mdtype\u001b[0m\u001b[0;34m)\u001b[0m\u001b[0;34m:\u001b[0m\u001b[0;34m\u001b[0m\u001b[0;34m\u001b[0m\u001b[0m\n",
      "\u001b[0;32m~/anaconda3/lib/python3.7/site-packages/pandas/core/dtypes/common.py\u001b[0m in \u001b[0;36mis_datetime64tz_dtype\u001b[0;34m(arr_or_dtype)\u001b[0m\n\u001b[1;32m    467\u001b[0m     \u001b[0;32mif\u001b[0m \u001b[0marr_or_dtype\u001b[0m \u001b[0;32mis\u001b[0m \u001b[0;32mNone\u001b[0m\u001b[0;34m:\u001b[0m\u001b[0;34m\u001b[0m\u001b[0;34m\u001b[0m\u001b[0m\n\u001b[1;32m    468\u001b[0m         \u001b[0;32mreturn\u001b[0m \u001b[0;32mFalse\u001b[0m\u001b[0;34m\u001b[0m\u001b[0;34m\u001b[0m\u001b[0m\n\u001b[0;32m--> 469\u001b[0;31m     \u001b[0;32mreturn\u001b[0m \u001b[0mDatetimeTZDtype\u001b[0m\u001b[0;34m.\u001b[0m\u001b[0mis_dtype\u001b[0m\u001b[0;34m(\u001b[0m\u001b[0marr_or_dtype\u001b[0m\u001b[0;34m)\u001b[0m\u001b[0;34m\u001b[0m\u001b[0;34m\u001b[0m\u001b[0m\n\u001b[0m\u001b[1;32m    470\u001b[0m \u001b[0;34m\u001b[0m\u001b[0m\n\u001b[1;32m    471\u001b[0m \u001b[0;34m\u001b[0m\u001b[0m\n",
      "\u001b[0;32m~/anaconda3/lib/python3.7/site-packages/pandas/core/dtypes/base.py\u001b[0m in \u001b[0;36mis_dtype\u001b[0;34m(cls, dtype)\u001b[0m\n\u001b[1;32m     96\u001b[0m            \u001b[0mconditions\u001b[0m \u001b[0;32mis\u001b[0m \u001b[0mtrue\u001b[0m \u001b[0;32mfor\u001b[0m\u001b[0;31m \u001b[0m\u001b[0;31m`\u001b[0m\u001b[0;31m`\u001b[0m\u001b[0mdtype\u001b[0m\u001b[0;34m.\u001b[0m\u001b[0mdtype\u001b[0m\u001b[0;31m`\u001b[0m\u001b[0;31m`\u001b[0m\u001b[0;34m.\u001b[0m\u001b[0;34m\u001b[0m\u001b[0;34m\u001b[0m\u001b[0m\n\u001b[1;32m     97\u001b[0m         \"\"\"\n\u001b[0;32m---> 98\u001b[0;31m         \u001b[0mdtype\u001b[0m \u001b[0;34m=\u001b[0m \u001b[0mgetattr\u001b[0m\u001b[0;34m(\u001b[0m\u001b[0mdtype\u001b[0m\u001b[0;34m,\u001b[0m \u001b[0;34m'dtype'\u001b[0m\u001b[0;34m,\u001b[0m \u001b[0mdtype\u001b[0m\u001b[0;34m)\u001b[0m\u001b[0;34m\u001b[0m\u001b[0;34m\u001b[0m\u001b[0m\n\u001b[0m\u001b[1;32m     99\u001b[0m \u001b[0;34m\u001b[0m\u001b[0m\n\u001b[1;32m    100\u001b[0m         if isinstance(dtype, (ABCSeries, ABCIndexClass,\n",
      "\u001b[0;31mKeyboardInterrupt\u001b[0m: "
     ]
    }
   ],
   "source": [
    "epsilon = 0.5\n",
    "\n",
    "(x_train_2, y_train_2), (x_test_2, y_test_2) = dataloader.load_HDFS(struct_log,\n",
    "                                                                label_file=label_file,\n",
    "                                                                window='session', \n",
    "                                                                train_ratio=0.8,\n",
    "                                                                split_type='sequential')\n",
    "feature_extractor = preprocessing.FeatureExtractor()\n",
    "x_train_1 = feature_extractor.fit_transform(x_train_2)\n",
    "x_test_1 = feature_extractor.transform(x_test_2)"
   ]
  },
  {
   "cell_type": "code",
   "execution_count": 100,
   "metadata": {},
   "outputs": [],
   "source": [
    "invs = {(0, 1): [-211.0, 1.0], (0, 7): [-212.0, 1.0], (0, 24): [-741.0, 1.0], (0, 35): [-271.0, 1.0], (0, 38): [-211.0, 1.0], (0, 43): [-534.0, 1.0], (1, 3): [1.0, -1787.0], (1, 4): [1.0, -893.0], (1, 5): [1.0, -196.0], (1, 10): [1.0, -2681.0], (1, 11): [1.0, -1786.0], (1, 13): [1.0, -295.0], (1, 14): [1.0, -8073.0], (1, 15): [1.0, -289.0], (1, 16): [1.0, -1070.0], (1, 17): [1.0, -1340.0], (1, 18): [1.0, -48.0], (1, 20): [1.0, -2681.0], (1, 21): [1.0, -825.0], (1, 23): [1.0, -670.0], (1, 26): [1.0, -3575.0], (1, 28): [1.0, -1787.0], (1, 29): [1.0, -166.0], (1, 31): [1.0, -115.0], (1, 32): [1.0, -714.0], (1, 33): [1.0, -1339.0], (1, 34): [1.0, -156.0], (1, 36): [1.0, -313.0], (1, 39): [1.0, -595.0], (1, 40): [1.0, -2145.0], (1, 41): [1.0, -825.0], (1, 42): [1.0, -323.0], (2, 9): [1.0, -1.0], (2, 19): [-1.0, 1.0], (3, 7): [-1660.0, 1.0], (3, 35): [-5671.0, 1.0], (3, 38): [-1787.0, 1.0], (4, 7): [-683.0, 1.0], (4, 35): [-2832.0, 1.0], (4, 38): [-893.0, 1.0]}"
   ]
  },
  {
   "cell_type": "code",
   "execution_count": 102,
   "metadata": {},
   "outputs": [
    {
     "name": "stdout",
     "output_type": "stream",
     "text": [
      "Mined 40 invariants:  {(0, 1): [-211.0, 1.0], (0, 7): [-212.0, 1.0], (0, 24): [-741.0, 1.0], (0, 35): [-271.0, 1.0], (0, 38): [-211.0, 1.0], (0, 43): [-534.0, 1.0], (1, 3): [1.0, -1787.0], (1, 4): [1.0, -893.0], (1, 5): [1.0, -196.0], (1, 10): [1.0, -2681.0], (1, 11): [1.0, -1786.0], (1, 13): [1.0, -295.0], (1, 14): [1.0, -8073.0], (1, 15): [1.0, -289.0], (1, 16): [1.0, -1070.0], (1, 17): [1.0, -1340.0], (1, 18): [1.0, -48.0], (1, 20): [1.0, -2681.0], (1, 21): [1.0, -825.0], (1, 23): [1.0, -670.0], (1, 26): [1.0, -3575.0], (1, 28): [1.0, -1787.0], (1, 29): [1.0, -166.0], (1, 31): [1.0, -115.0], (1, 32): [1.0, -714.0], (1, 33): [1.0, -1339.0], (1, 34): [1.0, -156.0], (1, 36): [1.0, -313.0], (1, 39): [1.0, -595.0], (1, 40): [1.0, -2145.0], (1, 41): [1.0, -825.0], (1, 42): [1.0, -323.0], (2, 9): [1.0, -1.0], (2, 19): [-1.0, 1.0], (3, 7): [-1660.0, 1.0], (3, 35): [-5671.0, 1.0], (3, 38): [-1787.0, 1.0], (4, 7): [-683.0, 1.0], (4, 35): [-2832.0, 1.0], (4, 38): [-893.0, 1.0]}\n"
     ]
    }
   ],
   "source": [
    "print(\"Mined 40 invariants: \", invs)"
   ]
  },
  {
   "cell_type": "code",
   "execution_count": 109,
   "metadata": {},
   "outputs": [
    {
     "data": {
      "text/plain": [
       "460048"
      ]
     },
     "execution_count": 109,
     "metadata": {},
     "output_type": "execute_result"
    }
   ],
   "source": [
    "x_train_1.shape[0]"
   ]
  },
  {
   "cell_type": "code",
   "execution_count": 114,
   "metadata": {},
   "outputs": [
    {
     "data": {
      "text/plain": [
       "Index(['0347627d', '034a4132', '04f18fa6', '06f37069', '0818c970', '13181017',\n",
       "       '14d70ee2', '15c6fa82', '26ae4ce0', '3baf76de', '46bc8330', '5430f26c',\n",
       "       '5f061fc2', '62c1c6e6', '630490af', '70430328', '711b7dc0', '73b51f96',\n",
       "       '8252623e', '83f566ef', '8573c15d', '85d8171c', '8af8295d', '8dee3a4c',\n",
       "       '98200000', '988b204f', '9bfa44ec', '9d7e930c', 'a447c5da', 'ac2e1ea8',\n",
       "       'adb8aa1f', 'b66ec119', 'be480775', 'c031e6fb', 'c6b7a256', 'c7a877e1',\n",
       "       'd1d5e040', 'd4e8dd53', 'd8860e14', 'd9b917dd', 'dbc9ca29', 'de40ee59',\n",
       "       'df7a62ac', 'fdb0c150', 'feb61af9'],\n",
       "      dtype='object')"
      ]
     },
     "execution_count": 114,
     "metadata": {},
     "output_type": "execute_result"
    }
   ],
   "source": [
    "feature_extractor.events"
   ]
  },
  {
   "cell_type": "code",
   "execution_count": 110,
   "metadata": {},
   "outputs": [],
   "source": [
    "templates = pd.read_csv(\"Data/HDFS.log_templates.csv\")"
   ]
  },
  {
   "cell_type": "code",
   "execution_count": 131,
   "metadata": {},
   "outputs": [
    {
     "name": "stdout",
     "output_type": "stream",
     "text": [
      "BLOCK* NameSystem.addStoredBlock Redundant addStoredBlock request received for on size <*> = Starting thread to transfer block to\n",
      "BLOCK* NameSystem.addStoredBlock Redundant addStoredBlock request received for on size <*> = Received block src / dest / of size <*>\n",
      "BLOCK* NameSystem.addStoredBlock Redundant addStoredBlock request received for on size <*> = Receiving empty packet for block\n",
      "BLOCK* NameSystem.addStoredBlock Redundant addStoredBlock request received for on size <*> = Unexpected error trying to delete block . BlockInfo not found in volumeMap.\n",
      "BLOCK* NameSystem.addStoredBlock Redundant addStoredBlock request received for on size <*> = BLOCK* ask to replicate to datanode(s)\n",
      "BLOCK* NameSystem.addStoredBlock Redundant addStoredBlock request received for on size <*> = BLOCK* NameSystem.addStoredBlock addStoredBlock request received for on size <*> But it does not belong to any file.\n",
      "Starting thread to transfer block to = PacketResponder 1 Exception java.net.SocketTimeoutException 60000 millis timeout while waiting for channel to be ready for read. ch java.nio.channels.SocketChannel[connected local / remote /]\n",
      "Starting thread to transfer block to = writeBlock received exception java.io.IOException Interrupted receiveBlock\n",
      "Starting thread to transfer block to = writeBlock received exception <*> <*> <*> <*> <*>\n",
      "Starting thread to transfer block to = BLOCK* Removing block from neededReplications as it does not belong to any file.\n",
      "Starting thread to transfer block to = writeBlock received exception java.net.SocketTimeoutException <*> millis timeout while waiting for channel to be ready for <*> ch java.nio.channels.SocketChannel[connected local / remote /]\n",
      "Starting thread to transfer block to = Exception in receiveBlock for block <*>\n",
      "Starting thread to transfer block to = writeBlock received exception java.io.IOException Could not read from stream\n",
      "Starting thread to transfer block to = Exception writing block to mirror\n",
      "Starting thread to transfer block to = PacketResponder <*> Exception <*>\n",
      "Starting thread to transfer block to = <*> <*> <*> java.io.IOException Broken pipe\n",
      "Starting thread to transfer block to = DataXceiver java.io.IOException Block is not valid.\n",
      "Starting thread to transfer block to = Reopen Block\n",
      "Starting thread to transfer block to = writeBlock received exception java.io.IOException Block is valid and cannot be written to.\n",
      "Starting thread to transfer block to = PacketResponder 2 Exception java.net.SocketTimeoutException 120000 millis timeout while waiting for channel to be ready for read. ch java.nio.channels.SocketChannel[connected local / remote /]\n",
      "Starting thread to transfer block to = Exception in receiveBlock for block java.io.IOException Broken pipe\n",
      "Starting thread to transfer block to = Exception in receiveBlock for block java.net.SocketTimeoutException <*> millis timeout while waiting for channel to be ready for write. ch java.nio.channels.SocketChannel[connected local / remote /]\n",
      "Starting thread to transfer block to = <*> <*> <*> <*> <*> java.io.IOException Connection reset by peer\n",
      "Starting thread to transfer block to = PendingReplicationMonitor timed out block\n",
      "Starting thread to transfer block to = PacketResponder <*> Exception java.io.IOException <*> <*> <*> <*>\n",
      "Starting thread to transfer block to = Adding an already existing block\n",
      "Starting thread to transfer block to = Changing block file offset of block from 0 to <*> meta file offset to <*>\n",
      "Starting thread to transfer block to = writeBlock received exception <*>\n",
      "Starting thread to transfer block to = Exception in receiveBlock for block java.io.InterruptedIOException Interruped while waiting for IO on channel java.nio.channels.SocketChannel[connected local / remote /]. <*> millis timeout left.\n",
      "Starting thread to transfer block to = PacketResponder 1 Exception java.io.InterruptedIOException Interruped while waiting for IO on channel java.nio.channels.SocketChannel[closed]. <*> millis timeout left.\n",
      "Starting thread to transfer block to = DataXceiver java.io.IOException Block is valid and cannot be written to.\n",
      "Starting thread to transfer block to = <*> <*> <*> java.io.InterruptedIOException Interruped while waiting for IO on channel java.nio.channels.SocketChannel[connected local / remote /]. <*> millis timeout left.\n",
      "Deleting block file <*> = BLOCK* NameSystem.delete is added to invalidSet of\n",
      "Deleting block file <*> = BLOCK* ask to delete\n",
      "PacketResponder 1 Exception java.net.SocketTimeoutException 60000 millis timeout while waiting for channel to be ready for read. ch java.nio.channels.SocketChannel[connected local / remote /] = Received block src / dest / of size <*>\n",
      "PacketResponder 1 Exception java.net.SocketTimeoutException 60000 millis timeout while waiting for channel to be ready for read. ch java.nio.channels.SocketChannel[connected local / remote /] = Unexpected error trying to delete block . BlockInfo not found in volumeMap.\n",
      "PacketResponder 1 Exception java.net.SocketTimeoutException 60000 millis timeout while waiting for channel to be ready for read. ch java.nio.channels.SocketChannel[connected local / remote /] = BLOCK* ask to replicate to datanode(s)\n",
      "writeBlock received exception java.io.IOException Interrupted receiveBlock = Received block src / dest / of size <*>\n",
      "writeBlock received exception java.io.IOException Interrupted receiveBlock = Unexpected error trying to delete block . BlockInfo not found in volumeMap.\n",
      "writeBlock received exception java.io.IOException Interrupted receiveBlock = BLOCK* ask to replicate to datanode(s)\n"
     ]
    }
   ],
   "source": [
    "for a, b in invs.keys():\n",
    "    a_id = feature_extractor.events[a]\n",
    "    b_id = feature_extractor.events[b]\n",
    "    na = templates.loc[templates['EventId'] == a_id].EventTemplate.values[0]\n",
    "    nb = templates.loc[templates['EventId'] == b_id].EventTemplate.values[0]\n",
    "    print(na, \"=\", nb)"
   ]
  },
  {
   "cell_type": "code",
   "execution_count": 128,
   "metadata": {},
   "outputs": [
    {
     "data": {
      "text/plain": [
       "'BLOCK* NameSystem.addStoredBlock Redundant addStoredBlock request received for on size <*>'"
      ]
     },
     "execution_count": 128,
     "metadata": {},
     "output_type": "execute_result"
    }
   ],
   "source": [
    "templates.loc[templates['EventId'] == '0347627d'][\"EventTemplate\"].values[0]"
   ]
  },
  {
   "cell_type": "code",
   "execution_count": null,
   "metadata": {},
   "outputs": [],
   "source": []
  }
 ],
 "metadata": {
  "kernelspec": {
   "display_name": "Python 3",
   "language": "python",
   "name": "python3"
  },
  "language_info": {
   "codemirror_mode": {
    "name": "ipython",
    "version": 3
   },
   "file_extension": ".py",
   "mimetype": "text/x-python",
   "name": "python",
   "nbconvert_exporter": "python",
   "pygments_lexer": "ipython3",
   "version": "3.7.3"
  }
 },
 "nbformat": 4,
 "nbformat_minor": 2
}
