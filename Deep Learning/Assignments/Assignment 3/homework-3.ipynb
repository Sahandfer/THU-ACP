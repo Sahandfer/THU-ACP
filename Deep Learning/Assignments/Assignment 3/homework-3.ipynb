{
 "cells": [
  {
   "cell_type": "markdown",
   "metadata": {},
   "source": [
    "## Homework-3: MNIST Classification with ConvNet\n",
    "\n",
    "### **Deadline: 2021.04.06 23:59:00 **\n",
    "\n",
    "### In this homework, you need to\n",
    "- #### implement the forward and backward functions for ConvLayer (`layers/conv_layer.py`)\n",
    "- #### implement the forward and backward functions for PoolingLayer (`layers/pooling_layer.py`)\n",
    "- #### implement the forward and backward functions for DropoutLayer (`layers/dropout_layer.py`)"
   ]
  },
  {
   "cell_type": "code",
   "execution_count": 1,
   "metadata": {},
   "outputs": [],
   "source": [
    "import numpy as np\n",
    "import matplotlib.pyplot as plt\n",
    "%matplotlib inline\n",
    "import tensorflow.compat.v1 as tf\n",
    "tf.disable_eager_execution()\n",
    "\n",
    "from network import Network\n",
    "from solver import train, test\n",
    "from plot import plot_loss_and_acc"
   ]
  },
  {
   "cell_type": "markdown",
   "metadata": {},
   "source": [
    "## Load MNIST Dataset\n",
    "We use tensorflow tools to load dataset for convenience."
   ]
  },
  {
   "cell_type": "code",
   "execution_count": 2,
   "metadata": {},
   "outputs": [],
   "source": [
    "(x_train, y_train), (x_test, y_test) = tf.keras.datasets.mnist.load_data()"
   ]
  },
  {
   "cell_type": "code",
   "execution_count": 3,
   "metadata": {},
   "outputs": [],
   "source": [
    "def decode_image(image):\n",
    "    # Normalize from [0, 255.] to [0., 1.0], and then subtract by the mean value\n",
    "    image = tf.cast(image, tf.float32)\n",
    "    image = tf.reshape(image, [1, 28, 28])\n",
    "    image = image / 255.0\n",
    "    image = image - tf.reduce_mean(image)\n",
    "    return image\n",
    "\n",
    "def decode_label(label):\n",
    "    # Encode label with one-hot encoding\n",
    "    return tf.one_hot(label, depth=10)"
   ]
  },
  {
   "cell_type": "code",
   "execution_count": 4,
   "metadata": {},
   "outputs": [],
   "source": [
    "# Data Preprocessing\n",
    "x_train = tf.data.Dataset.from_tensor_slices(x_train).map(decode_image)\n",
    "y_train = tf.data.Dataset.from_tensor_slices(y_train).map(decode_label)\n",
    "data_train = tf.data.Dataset.zip((x_train, y_train))\n",
    "x_test = tf.data.Dataset.from_tensor_slices(x_test).map(decode_image)\n",
    "y_test = tf.data.Dataset.from_tensor_slices(y_test).map(decode_label)\n",
    "data_test = tf.data.Dataset.zip((x_test, y_test))"
   ]
  },
  {
   "cell_type": "markdown",
   "metadata": {},
   "source": [
    "## Set Hyperparameters\n",
    "You can modify hyperparameters by yourself."
   ]
  },
  {
   "cell_type": "code",
   "execution_count": 6,
   "metadata": {},
   "outputs": [],
   "source": [
    "batch_size = 100\n",
    "max_epoch = 10\n",
    "init_std = 0.1\n",
    "\n",
    "learning_rate = 0.001\n",
    "weight_decay = 0.005\n",
    "\n",
    "disp_freq = 50"
   ]
  },
  {
   "cell_type": "markdown",
   "metadata": {},
   "source": [
    "## Criterion and Optimizer"
   ]
  },
  {
   "cell_type": "code",
   "execution_count": 7,
   "metadata": {},
   "outputs": [],
   "source": [
    "from criterion import SoftmaxCrossEntropyLossLayer\n",
    "from optimizer import SGD\n",
    "\n",
    "criterion = SoftmaxCrossEntropyLossLayer()\n",
    "sgd = SGD(learning_rate, weight_decay)"
   ]
  },
  {
   "cell_type": "markdown",
   "metadata": {},
   "source": [
    "## ConvNet"
   ]
  },
  {
   "cell_type": "code",
   "execution_count": 78,
   "metadata": {},
   "outputs": [],
   "source": [
    "from layers import FCLayer, ReLULayer, ConvLayer, MaxPoolingLayer, ReshapeLayer\n",
    "\n",
    "convNet = Network()\n",
    "convNet.add(ConvLayer(1, 8, 3, 1))\n",
    "convNet.add(ReLULayer())\n",
    "convNet.add(MaxPoolingLayer(2, 0))\n",
    "convNet.add(ConvLayer(8, 16, 3, 1))\n",
    "convNet.add(ReLULayer())\n",
    "convNet.add(MaxPoolingLayer(2, 0))\n",
    "convNet.add(ReshapeLayer((batch_size, 16, 7, 7), (batch_size, 784)))\n",
    "convNet.add(FCLayer(784, 128))\n",
    "convNet.add(ReLULayer())\n",
    "convNet.add(FCLayer(128, 10))"
   ]
  },
  {
   "cell_type": "code",
   "execution_count": 79,
   "metadata": {
    "tags": []
   },
   "outputs": [
    {
     "output_type": "stream",
     "name": "stdout",
     "text": [
      "Epoch [0][10]\t Batch [0][550]\t Training Loss 8.5022\t Accuracy 0.1200\n",
      "Epoch [0][10]\t Batch [50][550]\t Training Loss 2.8374\t Accuracy 0.2557\n",
      "Epoch [0][10]\t Batch [100][550]\t Training Loss 2.1853\t Accuracy 0.3799\n",
      "Epoch [0][10]\t Batch [150][550]\t Training Loss 1.8806\t Accuracy 0.4491\n",
      "Epoch [0][10]\t Batch [200][550]\t Training Loss 1.6830\t Accuracy 0.5039\n",
      "Epoch [0][10]\t Batch [250][550]\t Training Loss 1.5447\t Accuracy 0.5443\n",
      "Epoch [0][10]\t Batch [300][550]\t Training Loss 1.4421\t Accuracy 0.5757\n",
      "Epoch [0][10]\t Batch [350][550]\t Training Loss 1.3708\t Accuracy 0.6007\n",
      "Epoch [0][10]\t Batch [400][550]\t Training Loss 1.3107\t Accuracy 0.6221\n",
      "Epoch [0][10]\t Batch [450][550]\t Training Loss 1.2644\t Accuracy 0.6408\n",
      "Epoch [0][10]\t Batch [500][550]\t Training Loss 1.2278\t Accuracy 0.6559\n",
      "\n",
      "Epoch [0]\t Average training loss 1.1981\t Average training accuracy 0.6695\n",
      "Epoch [0]\t Average validation loss 0.8341\t Average validation accuracy 0.8522\n",
      "\n",
      "Epoch [1][10]\t Batch [0][550]\t Training Loss 0.9138\t Accuracy 0.8200\n",
      "Epoch [1][10]\t Batch [50][550]\t Training Loss 0.9047\t Accuracy 0.8208\n",
      "Epoch [1][10]\t Batch [100][550]\t Training Loss 0.9233\t Accuracy 0.8173\n",
      "Epoch [1][10]\t Batch [150][550]\t Training Loss 0.9465\t Accuracy 0.8132\n",
      "Epoch [1][10]\t Batch [200][550]\t Training Loss 0.9608\t Accuracy 0.8141\n",
      "Epoch [1][10]\t Batch [250][550]\t Training Loss 0.9751\t Accuracy 0.8166\n",
      "Epoch [1][10]\t Batch [300][550]\t Training Loss 0.9890\t Accuracy 0.8185\n",
      "Epoch [1][10]\t Batch [350][550]\t Training Loss 1.0098\t Accuracy 0.8177\n",
      "Epoch [1][10]\t Batch [400][550]\t Training Loss 1.0266\t Accuracy 0.8197\n",
      "Epoch [1][10]\t Batch [450][550]\t Training Loss 1.0453\t Accuracy 0.8209\n",
      "Epoch [1][10]\t Batch [500][550]\t Training Loss 1.0636\t Accuracy 0.8215\n",
      "\n",
      "Epoch [1]\t Average training loss 1.0812\t Average training accuracy 0.8221\n",
      "Epoch [1]\t Average validation loss 1.2387\t Average validation accuracy 0.8742\n",
      "\n",
      "Epoch [2][10]\t Batch [0][550]\t Training Loss 1.2852\t Accuracy 0.8600\n",
      "Epoch [2][10]\t Batch [50][550]\t Training Loss 1.2997\t Accuracy 0.8331\n",
      "Epoch [2][10]\t Batch [100][550]\t Training Loss 1.3268\t Accuracy 0.8286\n",
      "Epoch [2][10]\t Batch [150][550]\t Training Loss 1.3551\t Accuracy 0.8237\n",
      "Epoch [2][10]\t Batch [200][550]\t Training Loss 1.3770\t Accuracy 0.8213\n",
      "Epoch [2][10]\t Batch [250][550]\t Training Loss 1.3978\t Accuracy 0.8206\n",
      "Epoch [2][10]\t Batch [300][550]\t Training Loss 1.4176\t Accuracy 0.8200\n",
      "Epoch [2][10]\t Batch [350][550]\t Training Loss 1.4417\t Accuracy 0.8180\n",
      "Epoch [2][10]\t Batch [400][550]\t Training Loss 1.4627\t Accuracy 0.8175\n",
      "Epoch [2][10]\t Batch [450][550]\t Training Loss 1.4842\t Accuracy 0.8169\n",
      "Epoch [2][10]\t Batch [500][550]\t Training Loss 1.5044\t Accuracy 0.8154\n",
      "\n",
      "Epoch [2]\t Average training loss 1.5239\t Average training accuracy 0.8139\n",
      "Epoch [2]\t Average validation loss 1.7186\t Average validation accuracy 0.8382\n",
      "\n",
      "Epoch [3][10]\t Batch [0][550]\t Training Loss 1.7351\t Accuracy 0.8300\n",
      "Epoch [3][10]\t Batch [50][550]\t Training Loss 1.7565\t Accuracy 0.8012\n",
      "Epoch [3][10]\t Batch [100][550]\t Training Loss 1.7773\t Accuracy 0.7963\n",
      "Epoch [3][10]\t Batch [150][550]\t Training Loss 1.7981\t Accuracy 0.7862\n",
      "Epoch [3][10]\t Batch [200][550]\t Training Loss 1.8153\t Accuracy 0.7798\n",
      "Epoch [3][10]\t Batch [250][550]\t Training Loss 1.8313\t Accuracy 0.7762\n",
      "Epoch [3][10]\t Batch [300][550]\t Training Loss 1.8464\t Accuracy 0.7709\n",
      "Epoch [3][10]\t Batch [350][550]\t Training Loss 1.8634\t Accuracy 0.7656\n",
      "Epoch [3][10]\t Batch [400][550]\t Training Loss 1.8783\t Accuracy 0.7613\n",
      "Epoch [3][10]\t Batch [450][550]\t Training Loss 1.8931\t Accuracy 0.7559\n",
      "Epoch [3][10]\t Batch [500][550]\t Training Loss 1.9069\t Accuracy 0.7493\n",
      "\n",
      "Epoch [3]\t Average training loss 1.9199\t Average training accuracy 0.7421\n",
      "Epoch [3]\t Average validation loss 2.0542\t Average validation accuracy 0.6966\n",
      "\n",
      "Epoch [4][10]\t Batch [0][550]\t Training Loss 2.0519\t Accuracy 0.7600\n",
      "Epoch [4][10]\t Batch [50][550]\t Training Loss 2.0721\t Accuracy 0.6780\n",
      "Epoch [4][10]\t Batch [100][550]\t Training Loss 2.0826\t Accuracy 0.6634\n",
      "Epoch [4][10]\t Batch [150][550]\t Training Loss 2.0933\t Accuracy 0.6415\n",
      "Epoch [4][10]\t Batch [200][550]\t Training Loss 2.1025\t Accuracy 0.6240\n",
      "Epoch [4][10]\t Batch [250][550]\t Training Loss 2.1109\t Accuracy 0.6060\n",
      "Epoch [4][10]\t Batch [300][550]\t Training Loss 2.1187\t Accuracy 0.5883\n",
      "Epoch [4][10]\t Batch [350][550]\t Training Loss 2.1270\t Accuracy 0.5658\n",
      "Epoch [4][10]\t Batch [400][550]\t Training Loss 2.1344\t Accuracy 0.5444\n",
      "Epoch [4][10]\t Batch [450][550]\t Training Loss 2.1415\t Accuracy 0.5175\n",
      "Epoch [4][10]\t Batch [500][550]\t Training Loss 2.1480\t Accuracy 0.4936\n",
      "\n",
      "Epoch [4]\t Average training loss 2.1541\t Average training accuracy 0.4663\n",
      "Epoch [4]\t Average validation loss 2.2183\t Average validation accuracy 0.1462\n",
      "\n",
      "Epoch [5][10]\t Batch [0][550]\t Training Loss 2.2059\t Accuracy 0.1800\n",
      "Epoch [5][10]\t Batch [50][550]\t Training Loss 2.2246\t Accuracy 0.1275\n",
      "Epoch [5][10]\t Batch [100][550]\t Training Loss 2.2281\t Accuracy 0.1209\n",
      "Epoch [5][10]\t Batch [150][550]\t Training Loss 2.2323\t Accuracy 0.1147\n",
      "Epoch [5][10]\t Batch [200][550]\t Training Loss 2.2359\t Accuracy 0.1111\n",
      "Epoch [5][10]\t Batch [250][550]\t Training Loss 2.2394\t Accuracy 0.1081\n",
      "Epoch [5][10]\t Batch [300][550]\t Training Loss 2.2425\t Accuracy 0.1065\n",
      "Epoch [5][10]\t Batch [350][550]\t Training Loss 2.2458\t Accuracy 0.1048\n",
      "Epoch [5][10]\t Batch [400][550]\t Training Loss 2.2487\t Accuracy 0.1040\n",
      "Epoch [5][10]\t Batch [450][550]\t Training Loss 2.2513\t Accuracy 0.1035\n",
      "Epoch [5][10]\t Batch [500][550]\t Training Loss 2.2538\t Accuracy 0.1033\n",
      "\n",
      "Epoch [5]\t Average training loss 2.2561\t Average training accuracy 0.1030\n",
      "Epoch [5]\t Average validation loss 2.2806\t Average validation accuracy 0.0978\n",
      "\n",
      "Epoch [6][10]\t Batch [0][550]\t Training Loss 2.2646\t Accuracy 0.1300\n",
      "Epoch [6][10]\t Batch [50][550]\t Training Loss 2.2823\t Accuracy 0.0963\n",
      "Epoch [6][10]\t Batch [100][550]\t Training Loss 2.2828\t Accuracy 0.1001\n",
      "Epoch [6][10]\t Batch [150][550]\t Training Loss 2.2843\t Accuracy 0.0996\n",
      "Epoch [6][10]\t Batch [200][550]\t Training Loss 2.2856\t Accuracy 0.0996\n",
      "Epoch [6][10]\t Batch [250][550]\t Training Loss 2.2870\t Accuracy 0.0988\n",
      "Epoch [6][10]\t Batch [300][550]\t Training Loss 2.2881\t Accuracy 0.0987\n",
      "Epoch [6][10]\t Batch [350][550]\t Training Loss 2.2894\t Accuracy 0.0981\n",
      "Epoch [6][10]\t Batch [400][550]\t Training Loss 2.2903\t Accuracy 0.0982\n",
      "Epoch [6][10]\t Batch [450][550]\t Training Loss 2.2912\t Accuracy 0.0983\n",
      "Epoch [6][10]\t Batch [500][550]\t Training Loss 2.2920\t Accuracy 0.0986\n",
      "\n",
      "Epoch [6]\t Average training loss 2.2927\t Average training accuracy 0.0988\n",
      "Epoch [6]\t Average validation loss 2.3010\t Average validation accuracy 0.0978\n",
      "\n",
      "Epoch [7][10]\t Batch [0][550]\t Training Loss 2.2841\t Accuracy 0.1300\n",
      "Epoch [7][10]\t Batch [50][550]\t Training Loss 2.3013\t Accuracy 0.0963\n",
      "Epoch [7][10]\t Batch [100][550]\t Training Loss 2.3006\t Accuracy 0.1001\n",
      "Epoch [7][10]\t Batch [150][550]\t Training Loss 2.3011\t Accuracy 0.0996\n",
      "Epoch [7][10]\t Batch [200][550]\t Training Loss 2.3016\t Accuracy 0.0996\n",
      "Epoch [7][10]\t Batch [250][550]\t Training Loss 2.3022\t Accuracy 0.0988\n",
      "Epoch [7][10]\t Batch [300][550]\t Training Loss 2.3027\t Accuracy 0.0987\n",
      "Epoch [7][10]\t Batch [350][550]\t Training Loss 2.3032\t Accuracy 0.0981\n",
      "Epoch [7][10]\t Batch [400][550]\t Training Loss 2.3035\t Accuracy 0.0982\n",
      "Epoch [7][10]\t Batch [450][550]\t Training Loss 2.3037\t Accuracy 0.0983\n",
      "Epoch [7][10]\t Batch [500][550]\t Training Loss 2.3040\t Accuracy 0.0986\n",
      "\n",
      "Epoch [7]\t Average training loss 2.3042\t Average training accuracy 0.0988\n",
      "Epoch [7]\t Average validation loss 2.3071\t Average validation accuracy 0.0978\n",
      "\n",
      "Epoch [8][10]\t Batch [0][550]\t Training Loss 2.2898\t Accuracy 0.1300\n",
      "Epoch [8][10]\t Batch [50][550]\t Training Loss 2.3070\t Accuracy 0.0963\n",
      "Epoch [8][10]\t Batch [100][550]\t Training Loss 2.3059\t Accuracy 0.1001\n",
      "Epoch [8][10]\t Batch [150][550]\t Training Loss 2.3062\t Accuracy 0.0996\n",
      "Epoch [8][10]\t Batch [200][550]\t Training Loss 2.3063\t Accuracy 0.0996\n",
      "Epoch [8][10]\t Batch [250][550]\t Training Loss 2.3068\t Accuracy 0.0988\n",
      "Epoch [8][10]\t Batch [300][550]\t Training Loss 2.3070\t Accuracy 0.0987\n",
      "Epoch [8][10]\t Batch [350][550]\t Training Loss 2.3073\t Accuracy 0.0981\n",
      "Epoch [8][10]\t Batch [400][550]\t Training Loss 2.3074\t Accuracy 0.0982\n",
      "Epoch [8][10]\t Batch [450][550]\t Training Loss 2.3075\t Accuracy 0.0983\n",
      "Epoch [8][10]\t Batch [500][550]\t Training Loss 2.3075\t Accuracy 0.0986\n",
      "\n",
      "Epoch [8]\t Average training loss 2.3076\t Average training accuracy 0.0988\n",
      "Epoch [8]\t Average validation loss 2.3089\t Average validation accuracy 0.0978\n",
      "\n",
      "Epoch [9][10]\t Batch [0][550]\t Training Loss 2.2916\t Accuracy 0.1300\n",
      "Epoch [9][10]\t Batch [50][550]\t Training Loss 2.3087\t Accuracy 0.0963\n",
      "Epoch [9][10]\t Batch [100][550]\t Training Loss 2.3075\t Accuracy 0.1001\n",
      "Epoch [9][10]\t Batch [150][550]\t Training Loss 2.3077\t Accuracy 0.0996\n",
      "Epoch [9][10]\t Batch [200][550]\t Training Loss 2.3078\t Accuracy 0.0996\n",
      "Epoch [9][10]\t Batch [250][550]\t Training Loss 2.3082\t Accuracy 0.0988\n",
      "Epoch [9][10]\t Batch [300][550]\t Training Loss 2.3083\t Accuracy 0.0987\n",
      "Epoch [9][10]\t Batch [350][550]\t Training Loss 2.3086\t Accuracy 0.0981\n",
      "Epoch [9][10]\t Batch [400][550]\t Training Loss 2.3086\t Accuracy 0.0982\n",
      "Epoch [9][10]\t Batch [450][550]\t Training Loss 2.3086\t Accuracy 0.0983\n",
      "Epoch [9][10]\t Batch [500][550]\t Training Loss 2.3086\t Accuracy 0.0986\n",
      "\n",
      "Epoch [9]\t Average training loss 2.3087\t Average training accuracy 0.0988\n",
      "Epoch [9]\t Average validation loss 2.3093\t Average validation accuracy 0.0978\n",
      "\n"
     ]
    }
   ],
   "source": [
    "# Train\n",
    "convNet.is_training = True\n",
    "convNet, conv_loss, conv_acc = train(convNet, criterion, sgd, data_train, max_epoch, batch_size, disp_freq)"
   ]
  },
  {
   "cell_type": "code",
   "execution_count": 80,
   "metadata": {},
   "outputs": [
    {
     "output_type": "stream",
     "name": "stdout",
     "text": [
      "Testing...\n",
      "The test accuracy is 0.0980.\n",
      "\n"
     ]
    }
   ],
   "source": [
    "# Test\n",
    "convNet.is_training = False\n",
    "test(convNet, criterion, data_test, batch_size, disp_freq)"
   ]
  },
  {
   "cell_type": "markdown",
   "metadata": {},
   "source": [
    "## Plot"
   ]
  },
  {
   "cell_type": "code",
   "execution_count": 62,
   "metadata": {},
   "outputs": [
    {
     "output_type": "display_data",
     "data": {
      "text/plain": "<Figure size 432x288 with 1 Axes>",
      "image/svg+xml": "<?xml version=\"1.0\" encoding=\"utf-8\" standalone=\"no\"?>\n<!DOCTYPE svg PUBLIC \"-//W3C//DTD SVG 1.1//EN\"\n  \"http://www.w3.org/Graphics/SVG/1.1/DTD/svg11.dtd\">\n<!-- Created with matplotlib (https://matplotlib.org/) -->\n<svg height=\"262.19625pt\" version=\"1.1\" viewBox=\"0 0 392.14375 262.19625\" width=\"392.14375pt\" xmlns=\"http://www.w3.org/2000/svg\" xmlns:xlink=\"http://www.w3.org/1999/xlink\">\n <metadata>\n  <rdf:RDF xmlns:cc=\"http://creativecommons.org/ns#\" xmlns:dc=\"http://purl.org/dc/elements/1.1/\" xmlns:rdf=\"http://www.w3.org/1999/02/22-rdf-syntax-ns#\">\n   <cc:Work>\n    <dc:type rdf:resource=\"http://purl.org/dc/dcmitype/StillImage\"/>\n    <dc:date>2021-04-04T16:49:11.524702</dc:date>\n    <dc:format>image/svg+xml</dc:format>\n    <dc:creator>\n     <cc:Agent>\n      <dc:title>Matplotlib v3.3.2, https://matplotlib.org/</dc:title>\n     </cc:Agent>\n    </dc:creator>\n   </cc:Work>\n  </rdf:RDF>\n </metadata>\n <defs>\n  <style type=\"text/css\">*{stroke-linecap:butt;stroke-linejoin:round;}</style>\n </defs>\n <g id=\"figure_1\">\n  <g id=\"patch_1\">\n   <path d=\"M 0 262.19625 \nL 392.14375 262.19625 \nL 392.14375 0 \nL 0 0 \nz\n\" style=\"fill:none;\"/>\n  </g>\n  <g id=\"axes_1\">\n   <g id=\"patch_2\">\n    <path d=\"M 43.78125 224.64 \nL 378.58125 224.64 \nL 378.58125 7.2 \nL 43.78125 7.2 \nz\n\" style=\"fill:#ffffff;\"/>\n   </g>\n   <g id=\"matplotlib.axis_1\">\n    <g id=\"xtick_1\">\n     <g id=\"line2d_1\">\n      <defs>\n       <path d=\"M 0 0 \nL 0 3.5 \n\" id=\"m6f658de24b\" style=\"stroke:#000000;stroke-width:0.8;\"/>\n      </defs>\n      <g>\n       <use style=\"stroke:#000000;stroke-width:0.8;\" x=\"43.78125\" xlink:href=\"#m6f658de24b\" y=\"224.64\"/>\n      </g>\n     </g>\n     <g id=\"text_1\">\n      <!-- 0 -->\n      <g transform=\"translate(40.6 239.238438)scale(0.1 -0.1)\">\n       <defs>\n        <path d=\"M 31.78125 66.40625 \nQ 24.171875 66.40625 20.328125 58.90625 \nQ 16.5 51.421875 16.5 36.375 \nQ 16.5 21.390625 20.328125 13.890625 \nQ 24.171875 6.390625 31.78125 6.390625 \nQ 39.453125 6.390625 43.28125 13.890625 \nQ 47.125 21.390625 47.125 36.375 \nQ 47.125 51.421875 43.28125 58.90625 \nQ 39.453125 66.40625 31.78125 66.40625 \nz\nM 31.78125 74.21875 \nQ 44.046875 74.21875 50.515625 64.515625 \nQ 56.984375 54.828125 56.984375 36.375 \nQ 56.984375 17.96875 50.515625 8.265625 \nQ 44.046875 -1.421875 31.78125 -1.421875 \nQ 19.53125 -1.421875 13.0625 8.265625 \nQ 6.59375 17.96875 6.59375 36.375 \nQ 6.59375 54.828125 13.0625 64.515625 \nQ 19.53125 74.21875 31.78125 74.21875 \nz\n\" id=\"DejaVuSans-48\"/>\n       </defs>\n       <use xlink:href=\"#DejaVuSans-48\"/>\n      </g>\n     </g>\n    </g>\n    <g id=\"xtick_2\">\n     <g id=\"line2d_2\">\n      <g>\n       <use style=\"stroke:#000000;stroke-width:0.8;\" x=\"110.74125\" xlink:href=\"#m6f658de24b\" y=\"224.64\"/>\n      </g>\n     </g>\n     <g id=\"text_2\">\n      <!-- 2 -->\n      <g transform=\"translate(107.56 239.238438)scale(0.1 -0.1)\">\n       <defs>\n        <path d=\"M 19.1875 8.296875 \nL 53.609375 8.296875 \nL 53.609375 0 \nL 7.328125 0 \nL 7.328125 8.296875 \nQ 12.9375 14.109375 22.625 23.890625 \nQ 32.328125 33.6875 34.8125 36.53125 \nQ 39.546875 41.84375 41.421875 45.53125 \nQ 43.3125 49.21875 43.3125 52.78125 \nQ 43.3125 58.59375 39.234375 62.25 \nQ 35.15625 65.921875 28.609375 65.921875 \nQ 23.96875 65.921875 18.8125 64.3125 \nQ 13.671875 62.703125 7.8125 59.421875 \nL 7.8125 69.390625 \nQ 13.765625 71.78125 18.9375 73 \nQ 24.125 74.21875 28.421875 74.21875 \nQ 39.75 74.21875 46.484375 68.546875 \nQ 53.21875 62.890625 53.21875 53.421875 \nQ 53.21875 48.921875 51.53125 44.890625 \nQ 49.859375 40.875 45.40625 35.40625 \nQ 44.1875 33.984375 37.640625 27.21875 \nQ 31.109375 20.453125 19.1875 8.296875 \nz\n\" id=\"DejaVuSans-50\"/>\n       </defs>\n       <use xlink:href=\"#DejaVuSans-50\"/>\n      </g>\n     </g>\n    </g>\n    <g id=\"xtick_3\">\n     <g id=\"line2d_3\">\n      <g>\n       <use style=\"stroke:#000000;stroke-width:0.8;\" x=\"177.70125\" xlink:href=\"#m6f658de24b\" y=\"224.64\"/>\n      </g>\n     </g>\n     <g id=\"text_3\">\n      <!-- 4 -->\n      <g transform=\"translate(174.52 239.238438)scale(0.1 -0.1)\">\n       <defs>\n        <path d=\"M 37.796875 64.3125 \nL 12.890625 25.390625 \nL 37.796875 25.390625 \nz\nM 35.203125 72.90625 \nL 47.609375 72.90625 \nL 47.609375 25.390625 \nL 58.015625 25.390625 \nL 58.015625 17.1875 \nL 47.609375 17.1875 \nL 47.609375 0 \nL 37.796875 0 \nL 37.796875 17.1875 \nL 4.890625 17.1875 \nL 4.890625 26.703125 \nz\n\" id=\"DejaVuSans-52\"/>\n       </defs>\n       <use xlink:href=\"#DejaVuSans-52\"/>\n      </g>\n     </g>\n    </g>\n    <g id=\"xtick_4\">\n     <g id=\"line2d_4\">\n      <g>\n       <use style=\"stroke:#000000;stroke-width:0.8;\" x=\"244.66125\" xlink:href=\"#m6f658de24b\" y=\"224.64\"/>\n      </g>\n     </g>\n     <g id=\"text_4\">\n      <!-- 6 -->\n      <g transform=\"translate(241.48 239.238438)scale(0.1 -0.1)\">\n       <defs>\n        <path d=\"M 33.015625 40.375 \nQ 26.375 40.375 22.484375 35.828125 \nQ 18.609375 31.296875 18.609375 23.390625 \nQ 18.609375 15.53125 22.484375 10.953125 \nQ 26.375 6.390625 33.015625 6.390625 \nQ 39.65625 6.390625 43.53125 10.953125 \nQ 47.40625 15.53125 47.40625 23.390625 \nQ 47.40625 31.296875 43.53125 35.828125 \nQ 39.65625 40.375 33.015625 40.375 \nz\nM 52.59375 71.296875 \nL 52.59375 62.3125 \nQ 48.875 64.0625 45.09375 64.984375 \nQ 41.3125 65.921875 37.59375 65.921875 \nQ 27.828125 65.921875 22.671875 59.328125 \nQ 17.53125 52.734375 16.796875 39.40625 \nQ 19.671875 43.65625 24.015625 45.921875 \nQ 28.375 48.1875 33.59375 48.1875 \nQ 44.578125 48.1875 50.953125 41.515625 \nQ 57.328125 34.859375 57.328125 23.390625 \nQ 57.328125 12.15625 50.6875 5.359375 \nQ 44.046875 -1.421875 33.015625 -1.421875 \nQ 20.359375 -1.421875 13.671875 8.265625 \nQ 6.984375 17.96875 6.984375 36.375 \nQ 6.984375 53.65625 15.1875 63.9375 \nQ 23.390625 74.21875 37.203125 74.21875 \nQ 40.921875 74.21875 44.703125 73.484375 \nQ 48.484375 72.75 52.59375 71.296875 \nz\n\" id=\"DejaVuSans-54\"/>\n       </defs>\n       <use xlink:href=\"#DejaVuSans-54\"/>\n      </g>\n     </g>\n    </g>\n    <g id=\"xtick_5\">\n     <g id=\"line2d_5\">\n      <g>\n       <use style=\"stroke:#000000;stroke-width:0.8;\" x=\"311.62125\" xlink:href=\"#m6f658de24b\" y=\"224.64\"/>\n      </g>\n     </g>\n     <g id=\"text_5\">\n      <!-- 8 -->\n      <g transform=\"translate(308.44 239.238438)scale(0.1 -0.1)\">\n       <defs>\n        <path d=\"M 31.78125 34.625 \nQ 24.75 34.625 20.71875 30.859375 \nQ 16.703125 27.09375 16.703125 20.515625 \nQ 16.703125 13.921875 20.71875 10.15625 \nQ 24.75 6.390625 31.78125 6.390625 \nQ 38.8125 6.390625 42.859375 10.171875 \nQ 46.921875 13.96875 46.921875 20.515625 \nQ 46.921875 27.09375 42.890625 30.859375 \nQ 38.875 34.625 31.78125 34.625 \nz\nM 21.921875 38.8125 \nQ 15.578125 40.375 12.03125 44.71875 \nQ 8.5 49.078125 8.5 55.328125 \nQ 8.5 64.0625 14.71875 69.140625 \nQ 20.953125 74.21875 31.78125 74.21875 \nQ 42.671875 74.21875 48.875 69.140625 \nQ 55.078125 64.0625 55.078125 55.328125 \nQ 55.078125 49.078125 51.53125 44.71875 \nQ 48 40.375 41.703125 38.8125 \nQ 48.828125 37.15625 52.796875 32.3125 \nQ 56.78125 27.484375 56.78125 20.515625 \nQ 56.78125 9.90625 50.3125 4.234375 \nQ 43.84375 -1.421875 31.78125 -1.421875 \nQ 19.734375 -1.421875 13.25 4.234375 \nQ 6.78125 9.90625 6.78125 20.515625 \nQ 6.78125 27.484375 10.78125 32.3125 \nQ 14.796875 37.15625 21.921875 38.8125 \nz\nM 18.3125 54.390625 \nQ 18.3125 48.734375 21.84375 45.5625 \nQ 25.390625 42.390625 31.78125 42.390625 \nQ 38.140625 42.390625 41.71875 45.5625 \nQ 45.3125 48.734375 45.3125 54.390625 \nQ 45.3125 60.0625 41.71875 63.234375 \nQ 38.140625 66.40625 31.78125 66.40625 \nQ 25.390625 66.40625 21.84375 63.234375 \nQ 18.3125 60.0625 18.3125 54.390625 \nz\n\" id=\"DejaVuSans-56\"/>\n       </defs>\n       <use xlink:href=\"#DejaVuSans-56\"/>\n      </g>\n     </g>\n    </g>\n    <g id=\"xtick_6\">\n     <g id=\"line2d_6\">\n      <g>\n       <use style=\"stroke:#000000;stroke-width:0.8;\" x=\"378.58125\" xlink:href=\"#m6f658de24b\" y=\"224.64\"/>\n      </g>\n     </g>\n     <g id=\"text_6\">\n      <!-- 10 -->\n      <g transform=\"translate(372.21875 239.238438)scale(0.1 -0.1)\">\n       <defs>\n        <path d=\"M 12.40625 8.296875 \nL 28.515625 8.296875 \nL 28.515625 63.921875 \nL 10.984375 60.40625 \nL 10.984375 69.390625 \nL 28.421875 72.90625 \nL 38.28125 72.90625 \nL 38.28125 8.296875 \nL 54.390625 8.296875 \nL 54.390625 0 \nL 12.40625 0 \nz\n\" id=\"DejaVuSans-49\"/>\n       </defs>\n       <use xlink:href=\"#DejaVuSans-49\"/>\n       <use x=\"63.623047\" xlink:href=\"#DejaVuSans-48\"/>\n      </g>\n     </g>\n    </g>\n    <g id=\"text_7\">\n     <!-- Epoch -->\n     <g transform=\"translate(195.870313 252.916563)scale(0.1 -0.1)\">\n      <defs>\n       <path d=\"M 9.8125 72.90625 \nL 55.90625 72.90625 \nL 55.90625 64.59375 \nL 19.671875 64.59375 \nL 19.671875 43.015625 \nL 54.390625 43.015625 \nL 54.390625 34.71875 \nL 19.671875 34.71875 \nL 19.671875 8.296875 \nL 56.78125 8.296875 \nL 56.78125 0 \nL 9.8125 0 \nz\n\" id=\"DejaVuSans-69\"/>\n       <path d=\"M 18.109375 8.203125 \nL 18.109375 -20.796875 \nL 9.078125 -20.796875 \nL 9.078125 54.6875 \nL 18.109375 54.6875 \nL 18.109375 46.390625 \nQ 20.953125 51.265625 25.265625 53.625 \nQ 29.59375 56 35.59375 56 \nQ 45.5625 56 51.78125 48.09375 \nQ 58.015625 40.1875 58.015625 27.296875 \nQ 58.015625 14.40625 51.78125 6.484375 \nQ 45.5625 -1.421875 35.59375 -1.421875 \nQ 29.59375 -1.421875 25.265625 0.953125 \nQ 20.953125 3.328125 18.109375 8.203125 \nz\nM 48.6875 27.296875 \nQ 48.6875 37.203125 44.609375 42.84375 \nQ 40.53125 48.484375 33.40625 48.484375 \nQ 26.265625 48.484375 22.1875 42.84375 \nQ 18.109375 37.203125 18.109375 27.296875 \nQ 18.109375 17.390625 22.1875 11.75 \nQ 26.265625 6.109375 33.40625 6.109375 \nQ 40.53125 6.109375 44.609375 11.75 \nQ 48.6875 17.390625 48.6875 27.296875 \nz\n\" id=\"DejaVuSans-112\"/>\n       <path d=\"M 30.609375 48.390625 \nQ 23.390625 48.390625 19.1875 42.75 \nQ 14.984375 37.109375 14.984375 27.296875 \nQ 14.984375 17.484375 19.15625 11.84375 \nQ 23.34375 6.203125 30.609375 6.203125 \nQ 37.796875 6.203125 41.984375 11.859375 \nQ 46.1875 17.53125 46.1875 27.296875 \nQ 46.1875 37.015625 41.984375 42.703125 \nQ 37.796875 48.390625 30.609375 48.390625 \nz\nM 30.609375 56 \nQ 42.328125 56 49.015625 48.375 \nQ 55.71875 40.765625 55.71875 27.296875 \nQ 55.71875 13.875 49.015625 6.21875 \nQ 42.328125 -1.421875 30.609375 -1.421875 \nQ 18.84375 -1.421875 12.171875 6.21875 \nQ 5.515625 13.875 5.515625 27.296875 \nQ 5.515625 40.765625 12.171875 48.375 \nQ 18.84375 56 30.609375 56 \nz\n\" id=\"DejaVuSans-111\"/>\n       <path d=\"M 48.78125 52.59375 \nL 48.78125 44.1875 \nQ 44.96875 46.296875 41.140625 47.34375 \nQ 37.3125 48.390625 33.40625 48.390625 \nQ 24.65625 48.390625 19.8125 42.84375 \nQ 14.984375 37.3125 14.984375 27.296875 \nQ 14.984375 17.28125 19.8125 11.734375 \nQ 24.65625 6.203125 33.40625 6.203125 \nQ 37.3125 6.203125 41.140625 7.25 \nQ 44.96875 8.296875 48.78125 10.40625 \nL 48.78125 2.09375 \nQ 45.015625 0.34375 40.984375 -0.53125 \nQ 36.96875 -1.421875 32.421875 -1.421875 \nQ 20.0625 -1.421875 12.78125 6.34375 \nQ 5.515625 14.109375 5.515625 27.296875 \nQ 5.515625 40.671875 12.859375 48.328125 \nQ 20.21875 56 33.015625 56 \nQ 37.15625 56 41.109375 55.140625 \nQ 45.0625 54.296875 48.78125 52.59375 \nz\n\" id=\"DejaVuSans-99\"/>\n       <path d=\"M 54.890625 33.015625 \nL 54.890625 0 \nL 45.90625 0 \nL 45.90625 32.71875 \nQ 45.90625 40.484375 42.875 44.328125 \nQ 39.84375 48.1875 33.796875 48.1875 \nQ 26.515625 48.1875 22.3125 43.546875 \nQ 18.109375 38.921875 18.109375 30.90625 \nL 18.109375 0 \nL 9.078125 0 \nL 9.078125 75.984375 \nL 18.109375 75.984375 \nL 18.109375 46.1875 \nQ 21.34375 51.125 25.703125 53.5625 \nQ 30.078125 56 35.796875 56 \nQ 45.21875 56 50.046875 50.171875 \nQ 54.890625 44.34375 54.890625 33.015625 \nz\n\" id=\"DejaVuSans-104\"/>\n      </defs>\n      <use xlink:href=\"#DejaVuSans-69\"/>\n      <use x=\"63.183594\" xlink:href=\"#DejaVuSans-112\"/>\n      <use x=\"126.660156\" xlink:href=\"#DejaVuSans-111\"/>\n      <use x=\"187.841797\" xlink:href=\"#DejaVuSans-99\"/>\n      <use x=\"242.822266\" xlink:href=\"#DejaVuSans-104\"/>\n     </g>\n    </g>\n   </g>\n   <g id=\"matplotlib.axis_2\">\n    <g id=\"ytick_1\">\n     <g id=\"line2d_7\">\n      <defs>\n       <path d=\"M 0 0 \nL -3.5 0 \n\" id=\"m0aa17a4b57\" style=\"stroke:#000000;stroke-width:0.8;\"/>\n      </defs>\n      <g>\n       <use style=\"stroke:#000000;stroke-width:0.8;\" x=\"43.78125\" xlink:href=\"#m0aa17a4b57\" y=\"214.824907\"/>\n      </g>\n     </g>\n     <g id=\"text_8\">\n      <!-- 0.1 -->\n      <g transform=\"translate(20.878125 218.624126)scale(0.1 -0.1)\">\n       <defs>\n        <path d=\"M 10.6875 12.40625 \nL 21 12.40625 \nL 21 0 \nL 10.6875 0 \nz\n\" id=\"DejaVuSans-46\"/>\n       </defs>\n       <use xlink:href=\"#DejaVuSans-48\"/>\n       <use x=\"63.623047\" xlink:href=\"#DejaVuSans-46\"/>\n       <use x=\"95.410156\" xlink:href=\"#DejaVuSans-49\"/>\n      </g>\n     </g>\n    </g>\n    <g id=\"ytick_2\">\n     <g id=\"line2d_8\">\n      <g>\n       <use style=\"stroke:#000000;stroke-width:0.8;\" x=\"43.78125\" xlink:href=\"#m0aa17a4b57\" y=\"172.058715\"/>\n      </g>\n     </g>\n     <g id=\"text_9\">\n      <!-- 0.2 -->\n      <g transform=\"translate(20.878125 175.857934)scale(0.1 -0.1)\">\n       <use xlink:href=\"#DejaVuSans-48\"/>\n       <use x=\"63.623047\" xlink:href=\"#DejaVuSans-46\"/>\n       <use x=\"95.410156\" xlink:href=\"#DejaVuSans-50\"/>\n      </g>\n     </g>\n    </g>\n    <g id=\"ytick_3\">\n     <g id=\"line2d_9\">\n      <g>\n       <use style=\"stroke:#000000;stroke-width:0.8;\" x=\"43.78125\" xlink:href=\"#m0aa17a4b57\" y=\"129.292523\"/>\n      </g>\n     </g>\n     <g id=\"text_10\">\n      <!-- 0.3 -->\n      <g transform=\"translate(20.878125 133.091741)scale(0.1 -0.1)\">\n       <defs>\n        <path d=\"M 40.578125 39.3125 \nQ 47.65625 37.796875 51.625 33 \nQ 55.609375 28.21875 55.609375 21.1875 \nQ 55.609375 10.40625 48.1875 4.484375 \nQ 40.765625 -1.421875 27.09375 -1.421875 \nQ 22.515625 -1.421875 17.65625 -0.515625 \nQ 12.796875 0.390625 7.625 2.203125 \nL 7.625 11.71875 \nQ 11.71875 9.328125 16.59375 8.109375 \nQ 21.484375 6.890625 26.8125 6.890625 \nQ 36.078125 6.890625 40.9375 10.546875 \nQ 45.796875 14.203125 45.796875 21.1875 \nQ 45.796875 27.640625 41.28125 31.265625 \nQ 36.765625 34.90625 28.71875 34.90625 \nL 20.21875 34.90625 \nL 20.21875 43.015625 \nL 29.109375 43.015625 \nQ 36.375 43.015625 40.234375 45.921875 \nQ 44.09375 48.828125 44.09375 54.296875 \nQ 44.09375 59.90625 40.109375 62.90625 \nQ 36.140625 65.921875 28.71875 65.921875 \nQ 24.65625 65.921875 20.015625 65.03125 \nQ 15.375 64.15625 9.8125 62.3125 \nL 9.8125 71.09375 \nQ 15.4375 72.65625 20.34375 73.4375 \nQ 25.25 74.21875 29.59375 74.21875 \nQ 40.828125 74.21875 47.359375 69.109375 \nQ 53.90625 64.015625 53.90625 55.328125 \nQ 53.90625 49.265625 50.4375 45.09375 \nQ 46.96875 40.921875 40.578125 39.3125 \nz\n\" id=\"DejaVuSans-51\"/>\n       </defs>\n       <use xlink:href=\"#DejaVuSans-48\"/>\n       <use x=\"63.623047\" xlink:href=\"#DejaVuSans-46\"/>\n       <use x=\"95.410156\" xlink:href=\"#DejaVuSans-51\"/>\n      </g>\n     </g>\n    </g>\n    <g id=\"ytick_4\">\n     <g id=\"line2d_10\">\n      <g>\n       <use style=\"stroke:#000000;stroke-width:0.8;\" x=\"43.78125\" xlink:href=\"#m0aa17a4b57\" y=\"86.52633\"/>\n      </g>\n     </g>\n     <g id=\"text_11\">\n      <!-- 0.4 -->\n      <g transform=\"translate(20.878125 90.325549)scale(0.1 -0.1)\">\n       <use xlink:href=\"#DejaVuSans-48\"/>\n       <use x=\"63.623047\" xlink:href=\"#DejaVuSans-46\"/>\n       <use x=\"95.410156\" xlink:href=\"#DejaVuSans-52\"/>\n      </g>\n     </g>\n    </g>\n    <g id=\"ytick_5\">\n     <g id=\"line2d_11\">\n      <g>\n       <use style=\"stroke:#000000;stroke-width:0.8;\" x=\"43.78125\" xlink:href=\"#m0aa17a4b57\" y=\"43.760138\"/>\n      </g>\n     </g>\n     <g id=\"text_12\">\n      <!-- 0.5 -->\n      <g transform=\"translate(20.878125 47.559357)scale(0.1 -0.1)\">\n       <defs>\n        <path d=\"M 10.796875 72.90625 \nL 49.515625 72.90625 \nL 49.515625 64.59375 \nL 19.828125 64.59375 \nL 19.828125 46.734375 \nQ 21.96875 47.46875 24.109375 47.828125 \nQ 26.265625 48.1875 28.421875 48.1875 \nQ 40.625 48.1875 47.75 41.5 \nQ 54.890625 34.8125 54.890625 23.390625 \nQ 54.890625 11.625 47.5625 5.09375 \nQ 40.234375 -1.421875 26.90625 -1.421875 \nQ 22.3125 -1.421875 17.546875 -0.640625 \nQ 12.796875 0.140625 7.71875 1.703125 \nL 7.71875 11.625 \nQ 12.109375 9.234375 16.796875 8.0625 \nQ 21.484375 6.890625 26.703125 6.890625 \nQ 35.15625 6.890625 40.078125 11.328125 \nQ 45.015625 15.765625 45.015625 23.390625 \nQ 45.015625 31 40.078125 35.4375 \nQ 35.15625 39.890625 26.703125 39.890625 \nQ 22.75 39.890625 18.8125 39.015625 \nQ 14.890625 38.140625 10.796875 36.28125 \nz\n\" id=\"DejaVuSans-53\"/>\n       </defs>\n       <use xlink:href=\"#DejaVuSans-48\"/>\n       <use x=\"63.623047\" xlink:href=\"#DejaVuSans-46\"/>\n       <use x=\"95.410156\" xlink:href=\"#DejaVuSans-53\"/>\n      </g>\n     </g>\n    </g>\n    <g id=\"text_13\">\n     <!-- Loss -->\n     <g transform=\"translate(14.798438 126.887188)rotate(-90)scale(0.1 -0.1)\">\n      <defs>\n       <path d=\"M 9.8125 72.90625 \nL 19.671875 72.90625 \nL 19.671875 8.296875 \nL 55.171875 8.296875 \nL 55.171875 0 \nL 9.8125 0 \nz\n\" id=\"DejaVuSans-76\"/>\n       <path d=\"M 44.28125 53.078125 \nL 44.28125 44.578125 \nQ 40.484375 46.53125 36.375 47.5 \nQ 32.28125 48.484375 27.875 48.484375 \nQ 21.1875 48.484375 17.84375 46.4375 \nQ 14.5 44.390625 14.5 40.28125 \nQ 14.5 37.15625 16.890625 35.375 \nQ 19.28125 33.59375 26.515625 31.984375 \nL 29.59375 31.296875 \nQ 39.15625 29.25 43.1875 25.515625 \nQ 47.21875 21.78125 47.21875 15.09375 \nQ 47.21875 7.46875 41.1875 3.015625 \nQ 35.15625 -1.421875 24.609375 -1.421875 \nQ 20.21875 -1.421875 15.453125 -0.5625 \nQ 10.6875 0.296875 5.421875 2 \nL 5.421875 11.28125 \nQ 10.40625 8.6875 15.234375 7.390625 \nQ 20.0625 6.109375 24.8125 6.109375 \nQ 31.15625 6.109375 34.5625 8.28125 \nQ 37.984375 10.453125 37.984375 14.40625 \nQ 37.984375 18.0625 35.515625 20.015625 \nQ 33.0625 21.96875 24.703125 23.78125 \nL 21.578125 24.515625 \nQ 13.234375 26.265625 9.515625 29.90625 \nQ 5.8125 33.546875 5.8125 39.890625 \nQ 5.8125 47.609375 11.28125 51.796875 \nQ 16.75 56 26.8125 56 \nQ 31.78125 56 36.171875 55.265625 \nQ 40.578125 54.546875 44.28125 53.078125 \nz\n\" id=\"DejaVuSans-115\"/>\n      </defs>\n      <use xlink:href=\"#DejaVuSans-76\"/>\n      <use x=\"53.962891\" xlink:href=\"#DejaVuSans-111\"/>\n      <use x=\"115.144531\" xlink:href=\"#DejaVuSans-115\"/>\n      <use x=\"167.244141\" xlink:href=\"#DejaVuSans-115\"/>\n     </g>\n    </g>\n   </g>\n   <g id=\"line2d_12\">\n    <path clip-path=\"url(#pc812dad973)\" d=\"M 77.26125 49.966192 \nL 110.74125 111.480882 \nL 144.22125 135.831391 \nL 177.70125 149.844496 \nL 211.18125 159.166901 \nL 244.66125 165.989705 \nL 278.14125 171.203787 \nL 311.62125 175.487443 \nL 345.10125 178.933443 \nL 378.58125 181.873808 \n\" style=\"fill:none;stroke:#1f77b4;stroke-linecap:square;stroke-width:1.5;\"/>\n    <defs>\n     <path d=\"M -3 3 \nL 3 3 \nL 3 -3 \nL -3 -3 \nz\n\" id=\"mfb89bc1b6b\" style=\"stroke:#1f77b4;stroke-linejoin:miter;\"/>\n    </defs>\n    <g clip-path=\"url(#pc812dad973)\">\n     <use style=\"fill:#1f77b4;stroke:#1f77b4;stroke-linejoin:miter;\" x=\"77.26125\" xlink:href=\"#mfb89bc1b6b\" y=\"49.966192\"/>\n     <use style=\"fill:#1f77b4;stroke:#1f77b4;stroke-linejoin:miter;\" x=\"110.74125\" xlink:href=\"#mfb89bc1b6b\" y=\"111.480882\"/>\n     <use style=\"fill:#1f77b4;stroke:#1f77b4;stroke-linejoin:miter;\" x=\"144.22125\" xlink:href=\"#mfb89bc1b6b\" y=\"135.831391\"/>\n     <use style=\"fill:#1f77b4;stroke:#1f77b4;stroke-linejoin:miter;\" x=\"177.70125\" xlink:href=\"#mfb89bc1b6b\" y=\"149.844496\"/>\n     <use style=\"fill:#1f77b4;stroke:#1f77b4;stroke-linejoin:miter;\" x=\"211.18125\" xlink:href=\"#mfb89bc1b6b\" y=\"159.166901\"/>\n     <use style=\"fill:#1f77b4;stroke:#1f77b4;stroke-linejoin:miter;\" x=\"244.66125\" xlink:href=\"#mfb89bc1b6b\" y=\"165.989705\"/>\n     <use style=\"fill:#1f77b4;stroke:#1f77b4;stroke-linejoin:miter;\" x=\"278.14125\" xlink:href=\"#mfb89bc1b6b\" y=\"171.203787\"/>\n     <use style=\"fill:#1f77b4;stroke:#1f77b4;stroke-linejoin:miter;\" x=\"311.62125\" xlink:href=\"#mfb89bc1b6b\" y=\"175.487443\"/>\n     <use style=\"fill:#1f77b4;stroke:#1f77b4;stroke-linejoin:miter;\" x=\"345.10125\" xlink:href=\"#mfb89bc1b6b\" y=\"178.933443\"/>\n     <use style=\"fill:#1f77b4;stroke:#1f77b4;stroke-linejoin:miter;\" x=\"378.58125\" xlink:href=\"#mfb89bc1b6b\" y=\"181.873808\"/>\n    </g>\n   </g>\n   <g id=\"patch_3\">\n    <path d=\"M 43.78125 224.64 \nL 43.78125 7.2 \n\" style=\"fill:none;stroke:#000000;stroke-linecap:square;stroke-linejoin:miter;stroke-width:0.8;\"/>\n   </g>\n   <g id=\"patch_4\">\n    <path d=\"M 378.58125 224.64 \nL 378.58125 7.2 \n\" style=\"fill:none;stroke:#000000;stroke-linecap:square;stroke-linejoin:miter;stroke-width:0.8;\"/>\n   </g>\n   <g id=\"patch_5\">\n    <path d=\"M 43.78125 224.64 \nL 378.58125 224.64 \n\" style=\"fill:none;stroke:#000000;stroke-linecap:square;stroke-linejoin:miter;stroke-width:0.8;\"/>\n   </g>\n   <g id=\"patch_6\">\n    <path d=\"M 43.78125 7.2 \nL 378.58125 7.2 \n\" style=\"fill:none;stroke:#000000;stroke-linecap:square;stroke-linejoin:miter;stroke-width:0.8;\"/>\n   </g>\n   <g id=\"legend_1\">\n    <g id=\"patch_7\">\n     <path d=\"M 296.66875 29.878125 \nL 371.58125 29.878125 \nQ 373.58125 29.878125 373.58125 27.878125 \nL 373.58125 14.2 \nQ 373.58125 12.2 371.58125 12.2 \nL 296.66875 12.2 \nQ 294.66875 12.2 294.66875 14.2 \nL 294.66875 27.878125 \nQ 294.66875 29.878125 296.66875 29.878125 \nz\n\" style=\"fill:#ffffff;opacity:0.8;stroke:#cccccc;stroke-linejoin:miter;\"/>\n    </g>\n    <g id=\"line2d_13\">\n     <path d=\"M 298.66875 20.298438 \nL 318.66875 20.298438 \n\" style=\"fill:none;stroke:#1f77b4;stroke-linecap:square;stroke-width:1.5;\"/>\n    </g>\n    <g id=\"line2d_14\">\n     <g>\n      <use style=\"fill:#1f77b4;stroke:#1f77b4;stroke-linejoin:miter;\" x=\"308.66875\" xlink:href=\"#mfb89bc1b6b\" y=\"20.298438\"/>\n     </g>\n    </g>\n    <g id=\"text_14\">\n     <!-- ConvNet -->\n     <g transform=\"translate(326.66875 23.798438)scale(0.1 -0.1)\">\n      <defs>\n       <path d=\"M 64.40625 67.28125 \nL 64.40625 56.890625 \nQ 59.421875 61.53125 53.78125 63.8125 \nQ 48.140625 66.109375 41.796875 66.109375 \nQ 29.296875 66.109375 22.65625 58.46875 \nQ 16.015625 50.828125 16.015625 36.375 \nQ 16.015625 21.96875 22.65625 14.328125 \nQ 29.296875 6.6875 41.796875 6.6875 \nQ 48.140625 6.6875 53.78125 8.984375 \nQ 59.421875 11.28125 64.40625 15.921875 \nL 64.40625 5.609375 \nQ 59.234375 2.09375 53.4375 0.328125 \nQ 47.65625 -1.421875 41.21875 -1.421875 \nQ 24.65625 -1.421875 15.125 8.703125 \nQ 5.609375 18.84375 5.609375 36.375 \nQ 5.609375 53.953125 15.125 64.078125 \nQ 24.65625 74.21875 41.21875 74.21875 \nQ 47.75 74.21875 53.53125 72.484375 \nQ 59.328125 70.75 64.40625 67.28125 \nz\n\" id=\"DejaVuSans-67\"/>\n       <path d=\"M 54.890625 33.015625 \nL 54.890625 0 \nL 45.90625 0 \nL 45.90625 32.71875 \nQ 45.90625 40.484375 42.875 44.328125 \nQ 39.84375 48.1875 33.796875 48.1875 \nQ 26.515625 48.1875 22.3125 43.546875 \nQ 18.109375 38.921875 18.109375 30.90625 \nL 18.109375 0 \nL 9.078125 0 \nL 9.078125 54.6875 \nL 18.109375 54.6875 \nL 18.109375 46.1875 \nQ 21.34375 51.125 25.703125 53.5625 \nQ 30.078125 56 35.796875 56 \nQ 45.21875 56 50.046875 50.171875 \nQ 54.890625 44.34375 54.890625 33.015625 \nz\n\" id=\"DejaVuSans-110\"/>\n       <path d=\"M 2.984375 54.6875 \nL 12.5 54.6875 \nL 29.59375 8.796875 \nL 46.6875 54.6875 \nL 56.203125 54.6875 \nL 35.6875 0 \nL 23.484375 0 \nz\n\" id=\"DejaVuSans-118\"/>\n       <path d=\"M 9.8125 72.90625 \nL 23.09375 72.90625 \nL 55.421875 11.921875 \nL 55.421875 72.90625 \nL 64.984375 72.90625 \nL 64.984375 0 \nL 51.703125 0 \nL 19.390625 60.984375 \nL 19.390625 0 \nL 9.8125 0 \nz\n\" id=\"DejaVuSans-78\"/>\n       <path d=\"M 56.203125 29.59375 \nL 56.203125 25.203125 \nL 14.890625 25.203125 \nQ 15.484375 15.921875 20.484375 11.0625 \nQ 25.484375 6.203125 34.421875 6.203125 \nQ 39.59375 6.203125 44.453125 7.46875 \nQ 49.3125 8.734375 54.109375 11.28125 \nL 54.109375 2.78125 \nQ 49.265625 0.734375 44.1875 -0.34375 \nQ 39.109375 -1.421875 33.890625 -1.421875 \nQ 20.796875 -1.421875 13.15625 6.1875 \nQ 5.515625 13.8125 5.515625 26.8125 \nQ 5.515625 40.234375 12.765625 48.109375 \nQ 20.015625 56 32.328125 56 \nQ 43.359375 56 49.78125 48.890625 \nQ 56.203125 41.796875 56.203125 29.59375 \nz\nM 47.21875 32.234375 \nQ 47.125 39.59375 43.09375 43.984375 \nQ 39.0625 48.390625 32.421875 48.390625 \nQ 24.90625 48.390625 20.390625 44.140625 \nQ 15.875 39.890625 15.1875 32.171875 \nz\n\" id=\"DejaVuSans-101\"/>\n       <path d=\"M 18.3125 70.21875 \nL 18.3125 54.6875 \nL 36.8125 54.6875 \nL 36.8125 47.703125 \nL 18.3125 47.703125 \nL 18.3125 18.015625 \nQ 18.3125 11.328125 20.140625 9.421875 \nQ 21.96875 7.515625 27.59375 7.515625 \nL 36.8125 7.515625 \nL 36.8125 0 \nL 27.59375 0 \nQ 17.1875 0 13.234375 3.875 \nQ 9.28125 7.765625 9.28125 18.015625 \nL 9.28125 47.703125 \nL 2.6875 47.703125 \nL 2.6875 54.6875 \nL 9.28125 54.6875 \nL 9.28125 70.21875 \nz\n\" id=\"DejaVuSans-116\"/>\n      </defs>\n      <use xlink:href=\"#DejaVuSans-67\"/>\n      <use x=\"69.824219\" xlink:href=\"#DejaVuSans-111\"/>\n      <use x=\"131.005859\" xlink:href=\"#DejaVuSans-110\"/>\n      <use x=\"194.384766\" xlink:href=\"#DejaVuSans-118\"/>\n      <use x=\"253.564453\" xlink:href=\"#DejaVuSans-78\"/>\n      <use x=\"328.369141\" xlink:href=\"#DejaVuSans-101\"/>\n      <use x=\"389.892578\" xlink:href=\"#DejaVuSans-116\"/>\n     </g>\n    </g>\n   </g>\n  </g>\n </g>\n <defs>\n  <clipPath id=\"pc812dad973\">\n   <rect height=\"217.44\" width=\"334.8\" x=\"43.78125\" y=\"7.2\"/>\n  </clipPath>\n </defs>\n</svg>\n",
      "image/png": "[encoded data removed]"
     },
     "metadata": {
      "needs_background": "light"
     }
    },
    {
     "output_type": "display_data",
     "data": {
      "text/plain": "<Figure size 432x288 with 1 Axes>",
      "image/svg+xml": "<?xml version=\"1.0\" encoding=\"utf-8\" standalone=\"no\"?>\n<!DOCTYPE svg PUBLIC \"-//W3C//DTD SVG 1.1//EN\"\n  \"http://www.w3.org/Graphics/SVG/1.1/DTD/svg11.dtd\">\n<!-- Created with matplotlib (https://matplotlib.org/) -->\n<svg height=\"265.995469pt\" version=\"1.1\" viewBox=\"0 0 398.50625 265.995469\" width=\"398.50625pt\" xmlns=\"http://www.w3.org/2000/svg\" xmlns:xlink=\"http://www.w3.org/1999/xlink\">\n <metadata>\n  <rdf:RDF xmlns:cc=\"http://creativecommons.org/ns#\" xmlns:dc=\"http://purl.org/dc/elements/1.1/\" xmlns:rdf=\"http://www.w3.org/1999/02/22-rdf-syntax-ns#\">\n   <cc:Work>\n    <dc:type rdf:resource=\"http://purl.org/dc/dcmitype/StillImage\"/>\n    <dc:date>2021-04-04T16:49:11.649362</dc:date>\n    <dc:format>image/svg+xml</dc:format>\n    <dc:creator>\n     <cc:Agent>\n      <dc:title>Matplotlib v3.3.2, https://matplotlib.org/</dc:title>\n     </cc:Agent>\n    </dc:creator>\n   </cc:Work>\n  </rdf:RDF>\n </metadata>\n <defs>\n  <style type=\"text/css\">*{stroke-linecap:butt;stroke-linejoin:round;}</style>\n </defs>\n <g id=\"figure_1\">\n  <g id=\"patch_1\">\n   <path d=\"M 0 265.995469 \nL 398.50625 265.995469 \nL 398.50625 0 \nL 0 0 \nz\n\" style=\"fill:none;\"/>\n  </g>\n  <g id=\"axes_1\">\n   <g id=\"patch_2\">\n    <path d=\"M 50.14375 228.439219 \nL 384.94375 228.439219 \nL 384.94375 10.999219 \nL 50.14375 10.999219 \nz\n\" style=\"fill:#ffffff;\"/>\n   </g>\n   <g id=\"matplotlib.axis_1\">\n    <g id=\"xtick_1\">\n     <g id=\"line2d_1\">\n      <defs>\n       <path d=\"M 0 0 \nL 0 3.5 \n\" id=\"m7d6fef4fd6\" style=\"stroke:#000000;stroke-width:0.8;\"/>\n      </defs>\n      <g>\n       <use style=\"stroke:#000000;stroke-width:0.8;\" x=\"50.14375\" xlink:href=\"#m7d6fef4fd6\" y=\"228.439219\"/>\n      </g>\n     </g>\n     <g id=\"text_1\">\n      <!-- 0 -->\n      <g transform=\"translate(46.9625 243.037656)scale(0.1 -0.1)\">\n       <defs>\n        <path d=\"M 31.78125 66.40625 \nQ 24.171875 66.40625 20.328125 58.90625 \nQ 16.5 51.421875 16.5 36.375 \nQ 16.5 21.390625 20.328125 13.890625 \nQ 24.171875 6.390625 31.78125 6.390625 \nQ 39.453125 6.390625 43.28125 13.890625 \nQ 47.125 21.390625 47.125 36.375 \nQ 47.125 51.421875 43.28125 58.90625 \nQ 39.453125 66.40625 31.78125 66.40625 \nz\nM 31.78125 74.21875 \nQ 44.046875 74.21875 50.515625 64.515625 \nQ 56.984375 54.828125 56.984375 36.375 \nQ 56.984375 17.96875 50.515625 8.265625 \nQ 44.046875 -1.421875 31.78125 -1.421875 \nQ 19.53125 -1.421875 13.0625 8.265625 \nQ 6.59375 17.96875 6.59375 36.375 \nQ 6.59375 54.828125 13.0625 64.515625 \nQ 19.53125 74.21875 31.78125 74.21875 \nz\n\" id=\"DejaVuSans-48\"/>\n       </defs>\n       <use xlink:href=\"#DejaVuSans-48\"/>\n      </g>\n     </g>\n    </g>\n    <g id=\"xtick_2\">\n     <g id=\"line2d_2\">\n      <g>\n       <use style=\"stroke:#000000;stroke-width:0.8;\" x=\"117.10375\" xlink:href=\"#m7d6fef4fd6\" y=\"228.439219\"/>\n      </g>\n     </g>\n     <g id=\"text_2\">\n      <!-- 2 -->\n      <g transform=\"translate(113.9225 243.037656)scale(0.1 -0.1)\">\n       <defs>\n        <path d=\"M 19.1875 8.296875 \nL 53.609375 8.296875 \nL 53.609375 0 \nL 7.328125 0 \nL 7.328125 8.296875 \nQ 12.9375 14.109375 22.625 23.890625 \nQ 32.328125 33.6875 34.8125 36.53125 \nQ 39.546875 41.84375 41.421875 45.53125 \nQ 43.3125 49.21875 43.3125 52.78125 \nQ 43.3125 58.59375 39.234375 62.25 \nQ 35.15625 65.921875 28.609375 65.921875 \nQ 23.96875 65.921875 18.8125 64.3125 \nQ 13.671875 62.703125 7.8125 59.421875 \nL 7.8125 69.390625 \nQ 13.765625 71.78125 18.9375 73 \nQ 24.125 74.21875 28.421875 74.21875 \nQ 39.75 74.21875 46.484375 68.546875 \nQ 53.21875 62.890625 53.21875 53.421875 \nQ 53.21875 48.921875 51.53125 44.890625 \nQ 49.859375 40.875 45.40625 35.40625 \nQ 44.1875 33.984375 37.640625 27.21875 \nQ 31.109375 20.453125 19.1875 8.296875 \nz\n\" id=\"DejaVuSans-50\"/>\n       </defs>\n       <use xlink:href=\"#DejaVuSans-50\"/>\n      </g>\n     </g>\n    </g>\n    <g id=\"xtick_3\">\n     <g id=\"line2d_3\">\n      <g>\n       <use style=\"stroke:#000000;stroke-width:0.8;\" x=\"184.06375\" xlink:href=\"#m7d6fef4fd6\" y=\"228.439219\"/>\n      </g>\n     </g>\n     <g id=\"text_3\">\n      <!-- 4 -->\n      <g transform=\"translate(180.8825 243.037656)scale(0.1 -0.1)\">\n       <defs>\n        <path d=\"M 37.796875 64.3125 \nL 12.890625 25.390625 \nL 37.796875 25.390625 \nz\nM 35.203125 72.90625 \nL 47.609375 72.90625 \nL 47.609375 25.390625 \nL 58.015625 25.390625 \nL 58.015625 17.1875 \nL 47.609375 17.1875 \nL 47.609375 0 \nL 37.796875 0 \nL 37.796875 17.1875 \nL 4.890625 17.1875 \nL 4.890625 26.703125 \nz\n\" id=\"DejaVuSans-52\"/>\n       </defs>\n       <use xlink:href=\"#DejaVuSans-52\"/>\n      </g>\n     </g>\n    </g>\n    <g id=\"xtick_4\">\n     <g id=\"line2d_4\">\n      <g>\n       <use style=\"stroke:#000000;stroke-width:0.8;\" x=\"251.02375\" xlink:href=\"#m7d6fef4fd6\" y=\"228.439219\"/>\n      </g>\n     </g>\n     <g id=\"text_4\">\n      <!-- 6 -->\n      <g transform=\"translate(247.8425 243.037656)scale(0.1 -0.1)\">\n       <defs>\n        <path d=\"M 33.015625 40.375 \nQ 26.375 40.375 22.484375 35.828125 \nQ 18.609375 31.296875 18.609375 23.390625 \nQ 18.609375 15.53125 22.484375 10.953125 \nQ 26.375 6.390625 33.015625 6.390625 \nQ 39.65625 6.390625 43.53125 10.953125 \nQ 47.40625 15.53125 47.40625 23.390625 \nQ 47.40625 31.296875 43.53125 35.828125 \nQ 39.65625 40.375 33.015625 40.375 \nz\nM 52.59375 71.296875 \nL 52.59375 62.3125 \nQ 48.875 64.0625 45.09375 64.984375 \nQ 41.3125 65.921875 37.59375 65.921875 \nQ 27.828125 65.921875 22.671875 59.328125 \nQ 17.53125 52.734375 16.796875 39.40625 \nQ 19.671875 43.65625 24.015625 45.921875 \nQ 28.375 48.1875 33.59375 48.1875 \nQ 44.578125 48.1875 50.953125 41.515625 \nQ 57.328125 34.859375 57.328125 23.390625 \nQ 57.328125 12.15625 50.6875 5.359375 \nQ 44.046875 -1.421875 33.015625 -1.421875 \nQ 20.359375 -1.421875 13.671875 8.265625 \nQ 6.984375 17.96875 6.984375 36.375 \nQ 6.984375 53.65625 15.1875 63.9375 \nQ 23.390625 74.21875 37.203125 74.21875 \nQ 40.921875 74.21875 44.703125 73.484375 \nQ 48.484375 72.75 52.59375 71.296875 \nz\n\" id=\"DejaVuSans-54\"/>\n       </defs>\n       <use xlink:href=\"#DejaVuSans-54\"/>\n      </g>\n     </g>\n    </g>\n    <g id=\"xtick_5\">\n     <g id=\"line2d_5\">\n      <g>\n       <use style=\"stroke:#000000;stroke-width:0.8;\" x=\"317.98375\" xlink:href=\"#m7d6fef4fd6\" y=\"228.439219\"/>\n      </g>\n     </g>\n     <g id=\"text_5\">\n      <!-- 8 -->\n      <g transform=\"translate(314.8025 243.037656)scale(0.1 -0.1)\">\n       <defs>\n        <path d=\"M 31.78125 34.625 \nQ 24.75 34.625 20.71875 30.859375 \nQ 16.703125 27.09375 16.703125 20.515625 \nQ 16.703125 13.921875 20.71875 10.15625 \nQ 24.75 6.390625 31.78125 6.390625 \nQ 38.8125 6.390625 42.859375 10.171875 \nQ 46.921875 13.96875 46.921875 20.515625 \nQ 46.921875 27.09375 42.890625 30.859375 \nQ 38.875 34.625 31.78125 34.625 \nz\nM 21.921875 38.8125 \nQ 15.578125 40.375 12.03125 44.71875 \nQ 8.5 49.078125 8.5 55.328125 \nQ 8.5 64.0625 14.71875 69.140625 \nQ 20.953125 74.21875 31.78125 74.21875 \nQ 42.671875 74.21875 48.875 69.140625 \nQ 55.078125 64.0625 55.078125 55.328125 \nQ 55.078125 49.078125 51.53125 44.71875 \nQ 48 40.375 41.703125 38.8125 \nQ 48.828125 37.15625 52.796875 32.3125 \nQ 56.78125 27.484375 56.78125 20.515625 \nQ 56.78125 9.90625 50.3125 4.234375 \nQ 43.84375 -1.421875 31.78125 -1.421875 \nQ 19.734375 -1.421875 13.25 4.234375 \nQ 6.78125 9.90625 6.78125 20.515625 \nQ 6.78125 27.484375 10.78125 32.3125 \nQ 14.796875 37.15625 21.921875 38.8125 \nz\nM 18.3125 54.390625 \nQ 18.3125 48.734375 21.84375 45.5625 \nQ 25.390625 42.390625 31.78125 42.390625 \nQ 38.140625 42.390625 41.71875 45.5625 \nQ 45.3125 48.734375 45.3125 54.390625 \nQ 45.3125 60.0625 41.71875 63.234375 \nQ 38.140625 66.40625 31.78125 66.40625 \nQ 25.390625 66.40625 21.84375 63.234375 \nQ 18.3125 60.0625 18.3125 54.390625 \nz\n\" id=\"DejaVuSans-56\"/>\n       </defs>\n       <use xlink:href=\"#DejaVuSans-56\"/>\n      </g>\n     </g>\n    </g>\n    <g id=\"xtick_6\">\n     <g id=\"line2d_6\">\n      <g>\n       <use style=\"stroke:#000000;stroke-width:0.8;\" x=\"384.94375\" xlink:href=\"#m7d6fef4fd6\" y=\"228.439219\"/>\n      </g>\n     </g>\n     <g id=\"text_6\">\n      <!-- 10 -->\n      <g transform=\"translate(378.58125 243.037656)scale(0.1 -0.1)\">\n       <defs>\n        <path d=\"M 12.40625 8.296875 \nL 28.515625 8.296875 \nL 28.515625 63.921875 \nL 10.984375 60.40625 \nL 10.984375 69.390625 \nL 28.421875 72.90625 \nL 38.28125 72.90625 \nL 38.28125 8.296875 \nL 54.390625 8.296875 \nL 54.390625 0 \nL 12.40625 0 \nz\n\" id=\"DejaVuSans-49\"/>\n       </defs>\n       <use xlink:href=\"#DejaVuSans-49\"/>\n       <use x=\"63.623047\" xlink:href=\"#DejaVuSans-48\"/>\n      </g>\n     </g>\n    </g>\n    <g id=\"text_7\">\n     <!-- Epoch -->\n     <g transform=\"translate(202.232813 256.715781)scale(0.1 -0.1)\">\n      <defs>\n       <path d=\"M 9.8125 72.90625 \nL 55.90625 72.90625 \nL 55.90625 64.59375 \nL 19.671875 64.59375 \nL 19.671875 43.015625 \nL 54.390625 43.015625 \nL 54.390625 34.71875 \nL 19.671875 34.71875 \nL 19.671875 8.296875 \nL 56.78125 8.296875 \nL 56.78125 0 \nL 9.8125 0 \nz\n\" id=\"DejaVuSans-69\"/>\n       <path d=\"M 18.109375 8.203125 \nL 18.109375 -20.796875 \nL 9.078125 -20.796875 \nL 9.078125 54.6875 \nL 18.109375 54.6875 \nL 18.109375 46.390625 \nQ 20.953125 51.265625 25.265625 53.625 \nQ 29.59375 56 35.59375 56 \nQ 45.5625 56 51.78125 48.09375 \nQ 58.015625 40.1875 58.015625 27.296875 \nQ 58.015625 14.40625 51.78125 6.484375 \nQ 45.5625 -1.421875 35.59375 -1.421875 \nQ 29.59375 -1.421875 25.265625 0.953125 \nQ 20.953125 3.328125 18.109375 8.203125 \nz\nM 48.6875 27.296875 \nQ 48.6875 37.203125 44.609375 42.84375 \nQ 40.53125 48.484375 33.40625 48.484375 \nQ 26.265625 48.484375 22.1875 42.84375 \nQ 18.109375 37.203125 18.109375 27.296875 \nQ 18.109375 17.390625 22.1875 11.75 \nQ 26.265625 6.109375 33.40625 6.109375 \nQ 40.53125 6.109375 44.609375 11.75 \nQ 48.6875 17.390625 48.6875 27.296875 \nz\n\" id=\"DejaVuSans-112\"/>\n       <path d=\"M 30.609375 48.390625 \nQ 23.390625 48.390625 19.1875 42.75 \nQ 14.984375 37.109375 14.984375 27.296875 \nQ 14.984375 17.484375 19.15625 11.84375 \nQ 23.34375 6.203125 30.609375 6.203125 \nQ 37.796875 6.203125 41.984375 11.859375 \nQ 46.1875 17.53125 46.1875 27.296875 \nQ 46.1875 37.015625 41.984375 42.703125 \nQ 37.796875 48.390625 30.609375 48.390625 \nz\nM 30.609375 56 \nQ 42.328125 56 49.015625 48.375 \nQ 55.71875 40.765625 55.71875 27.296875 \nQ 55.71875 13.875 49.015625 6.21875 \nQ 42.328125 -1.421875 30.609375 -1.421875 \nQ 18.84375 -1.421875 12.171875 6.21875 \nQ 5.515625 13.875 5.515625 27.296875 \nQ 5.515625 40.765625 12.171875 48.375 \nQ 18.84375 56 30.609375 56 \nz\n\" id=\"DejaVuSans-111\"/>\n       <path d=\"M 48.78125 52.59375 \nL 48.78125 44.1875 \nQ 44.96875 46.296875 41.140625 47.34375 \nQ 37.3125 48.390625 33.40625 48.390625 \nQ 24.65625 48.390625 19.8125 42.84375 \nQ 14.984375 37.3125 14.984375 27.296875 \nQ 14.984375 17.28125 19.8125 11.734375 \nQ 24.65625 6.203125 33.40625 6.203125 \nQ 37.3125 6.203125 41.140625 7.25 \nQ 44.96875 8.296875 48.78125 10.40625 \nL 48.78125 2.09375 \nQ 45.015625 0.34375 40.984375 -0.53125 \nQ 36.96875 -1.421875 32.421875 -1.421875 \nQ 20.0625 -1.421875 12.78125 6.34375 \nQ 5.515625 14.109375 5.515625 27.296875 \nQ 5.515625 40.671875 12.859375 48.328125 \nQ 20.21875 56 33.015625 56 \nQ 37.15625 56 41.109375 55.140625 \nQ 45.0625 54.296875 48.78125 52.59375 \nz\n\" id=\"DejaVuSans-99\"/>\n       <path d=\"M 54.890625 33.015625 \nL 54.890625 0 \nL 45.90625 0 \nL 45.90625 32.71875 \nQ 45.90625 40.484375 42.875 44.328125 \nQ 39.84375 48.1875 33.796875 48.1875 \nQ 26.515625 48.1875 22.3125 43.546875 \nQ 18.109375 38.921875 18.109375 30.90625 \nL 18.109375 0 \nL 9.078125 0 \nL 9.078125 75.984375 \nL 18.109375 75.984375 \nL 18.109375 46.1875 \nQ 21.34375 51.125 25.703125 53.5625 \nQ 30.078125 56 35.796875 56 \nQ 45.21875 56 50.046875 50.171875 \nQ 54.890625 44.34375 54.890625 33.015625 \nz\n\" id=\"DejaVuSans-104\"/>\n      </defs>\n      <use xlink:href=\"#DejaVuSans-69\"/>\n      <use x=\"63.183594\" xlink:href=\"#DejaVuSans-112\"/>\n      <use x=\"126.660156\" xlink:href=\"#DejaVuSans-111\"/>\n      <use x=\"187.841797\" xlink:href=\"#DejaVuSans-99\"/>\n      <use x=\"242.822266\" xlink:href=\"#DejaVuSans-104\"/>\n     </g>\n    </g>\n   </g>\n   <g id=\"matplotlib.axis_2\">\n    <g id=\"ytick_1\">\n     <g id=\"line2d_7\">\n      <defs>\n       <path d=\"M 0 0 \nL -3.5 0 \n\" id=\"m45ea96f9d3\" style=\"stroke:#000000;stroke-width:0.8;\"/>\n      </defs>\n      <g>\n       <use style=\"stroke:#000000;stroke-width:0.8;\" x=\"50.14375\" xlink:href=\"#m45ea96f9d3\" y=\"226.542438\"/>\n      </g>\n     </g>\n     <g id=\"text_8\">\n      <!-- 0.75 -->\n      <g transform=\"translate(20.878125 230.341657)scale(0.1 -0.1)\">\n       <defs>\n        <path d=\"M 10.6875 12.40625 \nL 21 12.40625 \nL 21 0 \nL 10.6875 0 \nz\n\" id=\"DejaVuSans-46\"/>\n        <path d=\"M 8.203125 72.90625 \nL 55.078125 72.90625 \nL 55.078125 68.703125 \nL 28.609375 0 \nL 18.3125 0 \nL 43.21875 64.59375 \nL 8.203125 64.59375 \nz\n\" id=\"DejaVuSans-55\"/>\n        <path d=\"M 10.796875 72.90625 \nL 49.515625 72.90625 \nL 49.515625 64.59375 \nL 19.828125 64.59375 \nL 19.828125 46.734375 \nQ 21.96875 47.46875 24.109375 47.828125 \nQ 26.265625 48.1875 28.421875 48.1875 \nQ 40.625 48.1875 47.75 41.5 \nQ 54.890625 34.8125 54.890625 23.390625 \nQ 54.890625 11.625 47.5625 5.09375 \nQ 40.234375 -1.421875 26.90625 -1.421875 \nQ 22.3125 -1.421875 17.546875 -0.640625 \nQ 12.796875 0.140625 7.71875 1.703125 \nL 7.71875 11.625 \nQ 12.109375 9.234375 16.796875 8.0625 \nQ 21.484375 6.890625 26.703125 6.890625 \nQ 35.15625 6.890625 40.078125 11.328125 \nQ 45.015625 15.765625 45.015625 23.390625 \nQ 45.015625 31 40.078125 35.4375 \nQ 35.15625 39.890625 26.703125 39.890625 \nQ 22.75 39.890625 18.8125 39.015625 \nQ 14.890625 38.140625 10.796875 36.28125 \nz\n\" id=\"DejaVuSans-53\"/>\n       </defs>\n       <use xlink:href=\"#DejaVuSans-48\"/>\n       <use x=\"63.623047\" xlink:href=\"#DejaVuSans-46\"/>\n       <use x=\"95.410156\" xlink:href=\"#DejaVuSans-55\"/>\n       <use x=\"159.033203\" xlink:href=\"#DejaVuSans-53\"/>\n      </g>\n     </g>\n    </g>\n    <g id=\"ytick_2\">\n     <g id=\"line2d_8\">\n      <g>\n       <use style=\"stroke:#000000;stroke-width:0.8;\" x=\"50.14375\" xlink:href=\"#m45ea96f9d3\" y=\"183.433794\"/>\n      </g>\n     </g>\n     <g id=\"text_9\">\n      <!-- 0.80 -->\n      <g transform=\"translate(20.878125 187.233013)scale(0.1 -0.1)\">\n       <use xlink:href=\"#DejaVuSans-48\"/>\n       <use x=\"63.623047\" xlink:href=\"#DejaVuSans-46\"/>\n       <use x=\"95.410156\" xlink:href=\"#DejaVuSans-56\"/>\n       <use x=\"159.033203\" xlink:href=\"#DejaVuSans-48\"/>\n      </g>\n     </g>\n    </g>\n    <g id=\"ytick_3\">\n     <g id=\"line2d_9\">\n      <g>\n       <use style=\"stroke:#000000;stroke-width:0.8;\" x=\"50.14375\" xlink:href=\"#m45ea96f9d3\" y=\"140.325151\"/>\n      </g>\n     </g>\n     <g id=\"text_10\">\n      <!-- 0.85 -->\n      <g transform=\"translate(20.878125 144.124369)scale(0.1 -0.1)\">\n       <use xlink:href=\"#DejaVuSans-48\"/>\n       <use x=\"63.623047\" xlink:href=\"#DejaVuSans-46\"/>\n       <use x=\"95.410156\" xlink:href=\"#DejaVuSans-56\"/>\n       <use x=\"159.033203\" xlink:href=\"#DejaVuSans-53\"/>\n      </g>\n     </g>\n    </g>\n    <g id=\"ytick_4\">\n     <g id=\"line2d_10\">\n      <g>\n       <use style=\"stroke:#000000;stroke-width:0.8;\" x=\"50.14375\" xlink:href=\"#m45ea96f9d3\" y=\"97.216507\"/>\n      </g>\n     </g>\n     <g id=\"text_11\">\n      <!-- 0.90 -->\n      <g transform=\"translate(20.878125 101.015725)scale(0.1 -0.1)\">\n       <defs>\n        <path d=\"M 10.984375 1.515625 \nL 10.984375 10.5 \nQ 14.703125 8.734375 18.5 7.8125 \nQ 22.3125 6.890625 25.984375 6.890625 \nQ 35.75 6.890625 40.890625 13.453125 \nQ 46.046875 20.015625 46.78125 33.40625 \nQ 43.953125 29.203125 39.59375 26.953125 \nQ 35.25 24.703125 29.984375 24.703125 \nQ 19.046875 24.703125 12.671875 31.3125 \nQ 6.296875 37.9375 6.296875 49.421875 \nQ 6.296875 60.640625 12.9375 67.421875 \nQ 19.578125 74.21875 30.609375 74.21875 \nQ 43.265625 74.21875 49.921875 64.515625 \nQ 56.59375 54.828125 56.59375 36.375 \nQ 56.59375 19.140625 48.40625 8.859375 \nQ 40.234375 -1.421875 26.421875 -1.421875 \nQ 22.703125 -1.421875 18.890625 -0.6875 \nQ 15.09375 0.046875 10.984375 1.515625 \nz\nM 30.609375 32.421875 \nQ 37.25 32.421875 41.125 36.953125 \nQ 45.015625 41.5 45.015625 49.421875 \nQ 45.015625 57.28125 41.125 61.84375 \nQ 37.25 66.40625 30.609375 66.40625 \nQ 23.96875 66.40625 20.09375 61.84375 \nQ 16.21875 57.28125 16.21875 49.421875 \nQ 16.21875 41.5 20.09375 36.953125 \nQ 23.96875 32.421875 30.609375 32.421875 \nz\n\" id=\"DejaVuSans-57\"/>\n       </defs>\n       <use xlink:href=\"#DejaVuSans-48\"/>\n       <use x=\"63.623047\" xlink:href=\"#DejaVuSans-46\"/>\n       <use x=\"95.410156\" xlink:href=\"#DejaVuSans-57\"/>\n       <use x=\"159.033203\" xlink:href=\"#DejaVuSans-48\"/>\n      </g>\n     </g>\n    </g>\n    <g id=\"ytick_5\">\n     <g id=\"line2d_11\">\n      <g>\n       <use style=\"stroke:#000000;stroke-width:0.8;\" x=\"50.14375\" xlink:href=\"#m45ea96f9d3\" y=\"54.107863\"/>\n      </g>\n     </g>\n     <g id=\"text_12\">\n      <!-- 0.95 -->\n      <g transform=\"translate(20.878125 57.907081)scale(0.1 -0.1)\">\n       <use xlink:href=\"#DejaVuSans-48\"/>\n       <use x=\"63.623047\" xlink:href=\"#DejaVuSans-46\"/>\n       <use x=\"95.410156\" xlink:href=\"#DejaVuSans-57\"/>\n       <use x=\"159.033203\" xlink:href=\"#DejaVuSans-53\"/>\n      </g>\n     </g>\n    </g>\n    <g id=\"ytick_6\">\n     <g id=\"line2d_12\">\n      <g>\n       <use style=\"stroke:#000000;stroke-width:0.8;\" x=\"50.14375\" xlink:href=\"#m45ea96f9d3\" y=\"10.999219\"/>\n      </g>\n     </g>\n     <g id=\"text_13\">\n      <!-- 1.00 -->\n      <g transform=\"translate(20.878125 14.798438)scale(0.1 -0.1)\">\n       <use xlink:href=\"#DejaVuSans-49\"/>\n       <use x=\"63.623047\" xlink:href=\"#DejaVuSans-46\"/>\n       <use x=\"95.410156\" xlink:href=\"#DejaVuSans-48\"/>\n       <use x=\"159.033203\" xlink:href=\"#DejaVuSans-48\"/>\n      </g>\n     </g>\n    </g>\n    <g id=\"text_14\">\n     <!-- Accuracy -->\n     <g transform=\"translate(14.798438 142.547344)rotate(-90)scale(0.1 -0.1)\">\n      <defs>\n       <path d=\"M 34.1875 63.1875 \nL 20.796875 26.90625 \nL 47.609375 26.90625 \nz\nM 28.609375 72.90625 \nL 39.796875 72.90625 \nL 67.578125 0 \nL 57.328125 0 \nL 50.6875 18.703125 \nL 17.828125 18.703125 \nL 11.1875 0 \nL 0.78125 0 \nz\n\" id=\"DejaVuSans-65\"/>\n       <path d=\"M 8.5 21.578125 \nL 8.5 54.6875 \nL 17.484375 54.6875 \nL 17.484375 21.921875 \nQ 17.484375 14.15625 20.5 10.265625 \nQ 23.53125 6.390625 29.59375 6.390625 \nQ 36.859375 6.390625 41.078125 11.03125 \nQ 45.3125 15.671875 45.3125 23.6875 \nL 45.3125 54.6875 \nL 54.296875 54.6875 \nL 54.296875 0 \nL 45.3125 0 \nL 45.3125 8.40625 \nQ 42.046875 3.421875 37.71875 1 \nQ 33.40625 -1.421875 27.6875 -1.421875 \nQ 18.265625 -1.421875 13.375 4.4375 \nQ 8.5 10.296875 8.5 21.578125 \nz\nM 31.109375 56 \nz\n\" id=\"DejaVuSans-117\"/>\n       <path d=\"M 41.109375 46.296875 \nQ 39.59375 47.171875 37.8125 47.578125 \nQ 36.03125 48 33.890625 48 \nQ 26.265625 48 22.1875 43.046875 \nQ 18.109375 38.09375 18.109375 28.8125 \nL 18.109375 0 \nL 9.078125 0 \nL 9.078125 54.6875 \nL 18.109375 54.6875 \nL 18.109375 46.1875 \nQ 20.953125 51.171875 25.484375 53.578125 \nQ 30.03125 56 36.53125 56 \nQ 37.453125 56 38.578125 55.875 \nQ 39.703125 55.765625 41.0625 55.515625 \nz\n\" id=\"DejaVuSans-114\"/>\n       <path d=\"M 34.28125 27.484375 \nQ 23.390625 27.484375 19.1875 25 \nQ 14.984375 22.515625 14.984375 16.5 \nQ 14.984375 11.71875 18.140625 8.90625 \nQ 21.296875 6.109375 26.703125 6.109375 \nQ 34.1875 6.109375 38.703125 11.40625 \nQ 43.21875 16.703125 43.21875 25.484375 \nL 43.21875 27.484375 \nz\nM 52.203125 31.203125 \nL 52.203125 0 \nL 43.21875 0 \nL 43.21875 8.296875 \nQ 40.140625 3.328125 35.546875 0.953125 \nQ 30.953125 -1.421875 24.3125 -1.421875 \nQ 15.921875 -1.421875 10.953125 3.296875 \nQ 6 8.015625 6 15.921875 \nQ 6 25.140625 12.171875 29.828125 \nQ 18.359375 34.515625 30.609375 34.515625 \nL 43.21875 34.515625 \nL 43.21875 35.40625 \nQ 43.21875 41.609375 39.140625 45 \nQ 35.0625 48.390625 27.6875 48.390625 \nQ 23 48.390625 18.546875 47.265625 \nQ 14.109375 46.140625 10.015625 43.890625 \nL 10.015625 52.203125 \nQ 14.9375 54.109375 19.578125 55.046875 \nQ 24.21875 56 28.609375 56 \nQ 40.484375 56 46.34375 49.84375 \nQ 52.203125 43.703125 52.203125 31.203125 \nz\n\" id=\"DejaVuSans-97\"/>\n       <path d=\"M 32.171875 -5.078125 \nQ 28.375 -14.84375 24.75 -17.8125 \nQ 21.140625 -20.796875 15.09375 -20.796875 \nL 7.90625 -20.796875 \nL 7.90625 -13.28125 \nL 13.1875 -13.28125 \nQ 16.890625 -13.28125 18.9375 -11.515625 \nQ 21 -9.765625 23.484375 -3.21875 \nL 25.09375 0.875 \nL 2.984375 54.6875 \nL 12.5 54.6875 \nL 29.59375 11.921875 \nL 46.6875 54.6875 \nL 56.203125 54.6875 \nz\n\" id=\"DejaVuSans-121\"/>\n      </defs>\n      <use xlink:href=\"#DejaVuSans-65\"/>\n      <use x=\"66.658203\" xlink:href=\"#DejaVuSans-99\"/>\n      <use x=\"121.638672\" xlink:href=\"#DejaVuSans-99\"/>\n      <use x=\"176.619141\" xlink:href=\"#DejaVuSans-117\"/>\n      <use x=\"239.998047\" xlink:href=\"#DejaVuSans-114\"/>\n      <use x=\"281.111328\" xlink:href=\"#DejaVuSans-97\"/>\n      <use x=\"342.390625\" xlink:href=\"#DejaVuSans-99\"/>\n      <use x=\"397.371094\" xlink:href=\"#DejaVuSans-121\"/>\n     </g>\n    </g>\n   </g>\n   <g id=\"line2d_13\">\n    <path clip-path=\"url(#pcd68027b7f)\" d=\"M 83.62375 142.221931 \nL 117.10375 98.423549 \nL 150.58375 81.52496 \nL 184.06375 72.903231 \nL 217.54375 69.109671 \nL 251.02375 63.591764 \nL 284.50375 61.867419 \nL 317.98375 59.2809 \nL 351.46375 57.03925 \nL 384.94375 54.970036 \n\" style=\"fill:none;stroke:#1f77b4;stroke-linecap:square;stroke-width:1.5;\"/>\n    <defs>\n     <path d=\"M -3 3 \nL 3 3 \nL 3 -3 \nL -3 -3 \nz\n\" id=\"m0fcb09cc4b\" style=\"stroke:#1f77b4;stroke-linejoin:miter;\"/>\n    </defs>\n    <g clip-path=\"url(#pcd68027b7f)\">\n     <use style=\"fill:#1f77b4;stroke:#1f77b4;stroke-linejoin:miter;\" x=\"83.62375\" xlink:href=\"#m0fcb09cc4b\" y=\"142.221931\"/>\n     <use style=\"fill:#1f77b4;stroke:#1f77b4;stroke-linejoin:miter;\" x=\"117.10375\" xlink:href=\"#m0fcb09cc4b\" y=\"98.423549\"/>\n     <use style=\"fill:#1f77b4;stroke:#1f77b4;stroke-linejoin:miter;\" x=\"150.58375\" xlink:href=\"#m0fcb09cc4b\" y=\"81.52496\"/>\n     <use style=\"fill:#1f77b4;stroke:#1f77b4;stroke-linejoin:miter;\" x=\"184.06375\" xlink:href=\"#m0fcb09cc4b\" y=\"72.903231\"/>\n     <use style=\"fill:#1f77b4;stroke:#1f77b4;stroke-linejoin:miter;\" x=\"217.54375\" xlink:href=\"#m0fcb09cc4b\" y=\"69.109671\"/>\n     <use style=\"fill:#1f77b4;stroke:#1f77b4;stroke-linejoin:miter;\" x=\"251.02375\" xlink:href=\"#m0fcb09cc4b\" y=\"63.591764\"/>\n     <use style=\"fill:#1f77b4;stroke:#1f77b4;stroke-linejoin:miter;\" x=\"284.50375\" xlink:href=\"#m0fcb09cc4b\" y=\"61.867419\"/>\n     <use style=\"fill:#1f77b4;stroke:#1f77b4;stroke-linejoin:miter;\" x=\"317.98375\" xlink:href=\"#m0fcb09cc4b\" y=\"59.2809\"/>\n     <use style=\"fill:#1f77b4;stroke:#1f77b4;stroke-linejoin:miter;\" x=\"351.46375\" xlink:href=\"#m0fcb09cc4b\" y=\"57.03925\"/>\n     <use style=\"fill:#1f77b4;stroke:#1f77b4;stroke-linejoin:miter;\" x=\"384.94375\" xlink:href=\"#m0fcb09cc4b\" y=\"54.970036\"/>\n    </g>\n   </g>\n   <g id=\"patch_3\">\n    <path d=\"M 50.14375 228.439219 \nL 50.14375 10.999219 \n\" style=\"fill:none;stroke:#000000;stroke-linecap:square;stroke-linejoin:miter;stroke-width:0.8;\"/>\n   </g>\n   <g id=\"patch_4\">\n    <path d=\"M 384.94375 228.439219 \nL 384.94375 10.999219 \n\" style=\"fill:none;stroke:#000000;stroke-linecap:square;stroke-linejoin:miter;stroke-width:0.8;\"/>\n   </g>\n   <g id=\"patch_5\">\n    <path d=\"M 50.14375 228.439219 \nL 384.94375 228.439219 \n\" style=\"fill:none;stroke:#000000;stroke-linecap:square;stroke-linejoin:miter;stroke-width:0.8;\"/>\n   </g>\n   <g id=\"patch_6\">\n    <path d=\"M 50.14375 10.999219 \nL 384.94375 10.999219 \n\" style=\"fill:none;stroke:#000000;stroke-linecap:square;stroke-linejoin:miter;stroke-width:0.8;\"/>\n   </g>\n   <g id=\"legend_1\">\n    <g id=\"patch_7\">\n     <path d=\"M 303.03125 33.677344 \nL 377.94375 33.677344 \nQ 379.94375 33.677344 379.94375 31.677344 \nL 379.94375 17.999219 \nQ 379.94375 15.999219 377.94375 15.999219 \nL 303.03125 15.999219 \nQ 301.03125 15.999219 301.03125 17.999219 \nL 301.03125 31.677344 \nQ 301.03125 33.677344 303.03125 33.677344 \nz\n\" style=\"fill:#ffffff;opacity:0.8;stroke:#cccccc;stroke-linejoin:miter;\"/>\n    </g>\n    <g id=\"line2d_14\">\n     <path d=\"M 305.03125 24.097656 \nL 325.03125 24.097656 \n\" style=\"fill:none;stroke:#1f77b4;stroke-linecap:square;stroke-width:1.5;\"/>\n    </g>\n    <g id=\"line2d_15\">\n     <g>\n      <use style=\"fill:#1f77b4;stroke:#1f77b4;stroke-linejoin:miter;\" x=\"315.03125\" xlink:href=\"#m0fcb09cc4b\" y=\"24.097656\"/>\n     </g>\n    </g>\n    <g id=\"text_15\">\n     <!-- ConvNet -->\n     <g transform=\"translate(333.03125 27.597656)scale(0.1 -0.1)\">\n      <defs>\n       <path d=\"M 64.40625 67.28125 \nL 64.40625 56.890625 \nQ 59.421875 61.53125 53.78125 63.8125 \nQ 48.140625 66.109375 41.796875 66.109375 \nQ 29.296875 66.109375 22.65625 58.46875 \nQ 16.015625 50.828125 16.015625 36.375 \nQ 16.015625 21.96875 22.65625 14.328125 \nQ 29.296875 6.6875 41.796875 6.6875 \nQ 48.140625 6.6875 53.78125 8.984375 \nQ 59.421875 11.28125 64.40625 15.921875 \nL 64.40625 5.609375 \nQ 59.234375 2.09375 53.4375 0.328125 \nQ 47.65625 -1.421875 41.21875 -1.421875 \nQ 24.65625 -1.421875 15.125 8.703125 \nQ 5.609375 18.84375 5.609375 36.375 \nQ 5.609375 53.953125 15.125 64.078125 \nQ 24.65625 74.21875 41.21875 74.21875 \nQ 47.75 74.21875 53.53125 72.484375 \nQ 59.328125 70.75 64.40625 67.28125 \nz\n\" id=\"DejaVuSans-67\"/>\n       <path d=\"M 54.890625 33.015625 \nL 54.890625 0 \nL 45.90625 0 \nL 45.90625 32.71875 \nQ 45.90625 40.484375 42.875 44.328125 \nQ 39.84375 48.1875 33.796875 48.1875 \nQ 26.515625 48.1875 22.3125 43.546875 \nQ 18.109375 38.921875 18.109375 30.90625 \nL 18.109375 0 \nL 9.078125 0 \nL 9.078125 54.6875 \nL 18.109375 54.6875 \nL 18.109375 46.1875 \nQ 21.34375 51.125 25.703125 53.5625 \nQ 30.078125 56 35.796875 56 \nQ 45.21875 56 50.046875 50.171875 \nQ 54.890625 44.34375 54.890625 33.015625 \nz\n\" id=\"DejaVuSans-110\"/>\n       <path d=\"M 2.984375 54.6875 \nL 12.5 54.6875 \nL 29.59375 8.796875 \nL 46.6875 54.6875 \nL 56.203125 54.6875 \nL 35.6875 0 \nL 23.484375 0 \nz\n\" id=\"DejaVuSans-118\"/>\n       <path d=\"M 9.8125 72.90625 \nL 23.09375 72.90625 \nL 55.421875 11.921875 \nL 55.421875 72.90625 \nL 64.984375 72.90625 \nL 64.984375 0 \nL 51.703125 0 \nL 19.390625 60.984375 \nL 19.390625 0 \nL 9.8125 0 \nz\n\" id=\"DejaVuSans-78\"/>\n       <path d=\"M 56.203125 29.59375 \nL 56.203125 25.203125 \nL 14.890625 25.203125 \nQ 15.484375 15.921875 20.484375 11.0625 \nQ 25.484375 6.203125 34.421875 6.203125 \nQ 39.59375 6.203125 44.453125 7.46875 \nQ 49.3125 8.734375 54.109375 11.28125 \nL 54.109375 2.78125 \nQ 49.265625 0.734375 44.1875 -0.34375 \nQ 39.109375 -1.421875 33.890625 -1.421875 \nQ 20.796875 -1.421875 13.15625 6.1875 \nQ 5.515625 13.8125 5.515625 26.8125 \nQ 5.515625 40.234375 12.765625 48.109375 \nQ 20.015625 56 32.328125 56 \nQ 43.359375 56 49.78125 48.890625 \nQ 56.203125 41.796875 56.203125 29.59375 \nz\nM 47.21875 32.234375 \nQ 47.125 39.59375 43.09375 43.984375 \nQ 39.0625 48.390625 32.421875 48.390625 \nQ 24.90625 48.390625 20.390625 44.140625 \nQ 15.875 39.890625 15.1875 32.171875 \nz\n\" id=\"DejaVuSans-101\"/>\n       <path d=\"M 18.3125 70.21875 \nL 18.3125 54.6875 \nL 36.8125 54.6875 \nL 36.8125 47.703125 \nL 18.3125 47.703125 \nL 18.3125 18.015625 \nQ 18.3125 11.328125 20.140625 9.421875 \nQ 21.96875 7.515625 27.59375 7.515625 \nL 36.8125 7.515625 \nL 36.8125 0 \nL 27.59375 0 \nQ 17.1875 0 13.234375 3.875 \nQ 9.28125 7.765625 9.28125 18.015625 \nL 9.28125 47.703125 \nL 2.6875 47.703125 \nL 2.6875 54.6875 \nL 9.28125 54.6875 \nL 9.28125 70.21875 \nz\n\" id=\"DejaVuSans-116\"/>\n      </defs>\n      <use xlink:href=\"#DejaVuSans-67\"/>\n      <use x=\"69.824219\" xlink:href=\"#DejaVuSans-111\"/>\n      <use x=\"131.005859\" xlink:href=\"#DejaVuSans-110\"/>\n      <use x=\"194.384766\" xlink:href=\"#DejaVuSans-118\"/>\n      <use x=\"253.564453\" xlink:href=\"#DejaVuSans-78\"/>\n      <use x=\"328.369141\" xlink:href=\"#DejaVuSans-101\"/>\n      <use x=\"389.892578\" xlink:href=\"#DejaVuSans-116\"/>\n     </g>\n    </g>\n   </g>\n  </g>\n </g>\n <defs>\n  <clipPath id=\"pcd68027b7f\">\n   <rect height=\"217.44\" width=\"334.8\" x=\"50.14375\" y=\"10.999219\"/>\n  </clipPath>\n </defs>\n</svg>\n",
      "image/png": "[encoded data removed]"
     },
     "metadata": {
      "needs_background": "light"
     }
    }
   ],
   "source": [
    "plot_loss_and_acc({'ConvNet': [conv_loss, conv_acc]})"
   ]
  },
  {
   "cell_type": "markdown",
   "metadata": {},
   "source": [
    "### ~~You have finished homework3, congratulations!~~  \n",
    "\n",
    "**Next, according to the requirements (4):**\n",
    "### **You need to implement the Dropout layer and train the network again.**"
   ]
  },
  {
   "cell_type": "code",
   "execution_count": 12,
   "metadata": {},
   "outputs": [
    {
     "output_type": "stream",
     "name": "stdout",
     "text": [
      "Epoch [0][10]\t Batch [0][550]\t Training Loss 10.4167\t Accuracy 0.0600\n",
      "Epoch [0][10]\t Batch [50][550]\t Training Loss 3.3828\t Accuracy 0.1806\n",
      "Epoch [0][10]\t Batch [100][550]\t Training Loss 2.8150\t Accuracy 0.2557\n",
      "Epoch [0][10]\t Batch [150][550]\t Training Loss 2.5142\t Accuracy 0.3018\n",
      "Epoch [0][10]\t Batch [200][550]\t Training Loss 2.3091\t Accuracy 0.3426\n",
      "Epoch [0][10]\t Batch [250][550]\t Training Loss 2.1413\t Accuracy 0.3786\n",
      "Epoch [0][10]\t Batch [300][550]\t Training Loss 2.0102\t Accuracy 0.4078\n",
      "Epoch [0][10]\t Batch [350][550]\t Training Loss 1.9100\t Accuracy 0.4304\n",
      "Epoch [0][10]\t Batch [400][550]\t Training Loss 1.8222\t Accuracy 0.4512\n",
      "Epoch [0][10]\t Batch [450][550]\t Training Loss 1.7481\t Accuracy 0.4705\n",
      "Epoch [0][10]\t Batch [500][550]\t Training Loss 1.6842\t Accuracy 0.4869\n",
      "\n",
      "Epoch [0]\t Average training loss 1.6231\t Average training accuracy 0.5041\n",
      "Epoch [0]\t Average validation loss 0.8876\t Average validation accuracy 0.7158\n",
      "\n",
      "Epoch [1][10]\t Batch [0][550]\t Training Loss 0.7424\t Accuracy 0.7400\n",
      "Epoch [1][10]\t Batch [50][550]\t Training Loss 0.9523\t Accuracy 0.6847\n",
      "Epoch [1][10]\t Batch [100][550]\t Training Loss 0.9494\t Accuracy 0.6854\n",
      "Epoch [1][10]\t Batch [150][550]\t Training Loss 0.9569\t Accuracy 0.6855\n",
      "Epoch [1][10]\t Batch [200][550]\t Training Loss 0.9407\t Accuracy 0.6921\n",
      "Epoch [1][10]\t Batch [250][550]\t Training Loss 0.9254\t Accuracy 0.6975\n",
      "Epoch [1][10]\t Batch [300][550]\t Training Loss 0.9104\t Accuracy 0.7031\n",
      "Epoch [1][10]\t Batch [350][550]\t Training Loss 0.9001\t Accuracy 0.7059\n",
      "Epoch [1][10]\t Batch [400][550]\t Training Loss 0.8866\t Accuracy 0.7094\n",
      "Epoch [1][10]\t Batch [450][550]\t Training Loss 0.8747\t Accuracy 0.7132\n",
      "Epoch [1][10]\t Batch [500][550]\t Training Loss 0.8660\t Accuracy 0.7164\n",
      "\n",
      "Epoch [1]\t Average training loss 0.8539\t Average training accuracy 0.7204\n",
      "Epoch [1]\t Average validation loss 0.6359\t Average validation accuracy 0.7998\n",
      "\n",
      "Epoch [2][10]\t Batch [0][550]\t Training Loss 0.7225\t Accuracy 0.7100\n",
      "Epoch [2][10]\t Batch [50][550]\t Training Loss 0.6887\t Accuracy 0.7827\n",
      "Epoch [2][10]\t Batch [100][550]\t Training Loss 0.6988\t Accuracy 0.7790\n",
      "Epoch [2][10]\t Batch [150][550]\t Training Loss 0.7104\t Accuracy 0.7726\n",
      "Epoch [2][10]\t Batch [200][550]\t Training Loss 0.7016\t Accuracy 0.7756\n",
      "Epoch [2][10]\t Batch [250][550]\t Training Loss 0.6919\t Accuracy 0.7778\n",
      "Epoch [2][10]\t Batch [300][550]\t Training Loss 0.6896\t Accuracy 0.7797\n",
      "Epoch [2][10]\t Batch [350][550]\t Training Loss 0.6883\t Accuracy 0.7801\n",
      "Epoch [2][10]\t Batch [400][550]\t Training Loss 0.6814\t Accuracy 0.7819\n",
      "Epoch [2][10]\t Batch [450][550]\t Training Loss 0.6761\t Accuracy 0.7842\n",
      "Epoch [2][10]\t Batch [500][550]\t Training Loss 0.6739\t Accuracy 0.7845\n",
      "\n",
      "Epoch [2]\t Average training loss 0.6700\t Average training accuracy 0.7860\n",
      "Epoch [2]\t Average validation loss 0.5146\t Average validation accuracy 0.8388\n",
      "\n",
      "Epoch [3][10]\t Batch [0][550]\t Training Loss 0.5002\t Accuracy 0.8700\n",
      "Epoch [3][10]\t Batch [50][550]\t Training Loss 0.5923\t Accuracy 0.8167\n",
      "Epoch [3][10]\t Batch [100][550]\t Training Loss 0.6064\t Accuracy 0.8123\n",
      "Epoch [3][10]\t Batch [150][550]\t Training Loss 0.6113\t Accuracy 0.8072\n",
      "Epoch [3][10]\t Batch [200][550]\t Training Loss 0.6009\t Accuracy 0.8101\n",
      "Epoch [3][10]\t Batch [250][550]\t Training Loss 0.5919\t Accuracy 0.8127\n",
      "Epoch [3][10]\t Batch [300][550]\t Training Loss 0.5932\t Accuracy 0.8123\n",
      "Epoch [3][10]\t Batch [350][550]\t Training Loss 0.5924\t Accuracy 0.8118\n",
      "Epoch [3][10]\t Batch [400][550]\t Training Loss 0.5862\t Accuracy 0.8129\n",
      "Epoch [3][10]\t Batch [450][550]\t Training Loss 0.5823\t Accuracy 0.8138\n",
      "Epoch [3][10]\t Batch [500][550]\t Training Loss 0.5815\t Accuracy 0.8141\n",
      "\n",
      "Epoch [3]\t Average training loss 0.5791\t Average training accuracy 0.8153\n",
      "Epoch [3]\t Average validation loss 0.4495\t Average validation accuracy 0.8600\n",
      "\n",
      "Epoch [4][10]\t Batch [0][550]\t Training Loss 0.5805\t Accuracy 0.8400\n",
      "Epoch [4][10]\t Batch [50][550]\t Training Loss 0.5230\t Accuracy 0.8394\n",
      "Epoch [4][10]\t Batch [100][550]\t Training Loss 0.5319\t Accuracy 0.8341\n",
      "Epoch [4][10]\t Batch [150][550]\t Training Loss 0.5415\t Accuracy 0.8293\n",
      "Epoch [4][10]\t Batch [200][550]\t Training Loss 0.5360\t Accuracy 0.8299\n",
      "Epoch [4][10]\t Batch [250][550]\t Training Loss 0.5306\t Accuracy 0.8309\n",
      "Epoch [4][10]\t Batch [300][550]\t Training Loss 0.5293\t Accuracy 0.8315\n",
      "Epoch [4][10]\t Batch [350][550]\t Training Loss 0.5294\t Accuracy 0.8310\n",
      "Epoch [4][10]\t Batch [400][550]\t Training Loss 0.5263\t Accuracy 0.8320\n",
      "Epoch [4][10]\t Batch [450][550]\t Training Loss 0.5249\t Accuracy 0.8323\n",
      "Epoch [4][10]\t Batch [500][550]\t Training Loss 0.5257\t Accuracy 0.8319\n",
      "\n",
      "Epoch [4]\t Average training loss 0.5241\t Average training accuracy 0.8331\n",
      "Epoch [4]\t Average validation loss 0.4057\t Average validation accuracy 0.8734\n",
      "\n",
      "Epoch [5][10]\t Batch [0][550]\t Training Loss 0.4687\t Accuracy 0.9000\n",
      "Epoch [5][10]\t Batch [50][550]\t Training Loss 0.4731\t Accuracy 0.8610\n",
      "Epoch [5][10]\t Batch [100][550]\t Training Loss 0.4852\t Accuracy 0.8542\n",
      "Epoch [5][10]\t Batch [150][550]\t Training Loss 0.4932\t Accuracy 0.8484\n",
      "Epoch [5][10]\t Batch [200][550]\t Training Loss 0.4888\t Accuracy 0.8493\n",
      "Epoch [5][10]\t Batch [250][550]\t Training Loss 0.4859\t Accuracy 0.8503\n",
      "Epoch [5][10]\t Batch [300][550]\t Training Loss 0.4861\t Accuracy 0.8496\n",
      "Epoch [5][10]\t Batch [350][550]\t Training Loss 0.4860\t Accuracy 0.8491\n",
      "Epoch [5][10]\t Batch [400][550]\t Training Loss 0.4840\t Accuracy 0.8494\n",
      "Epoch [5][10]\t Batch [450][550]\t Training Loss 0.4832\t Accuracy 0.8489\n",
      "Epoch [5][10]\t Batch [500][550]\t Training Loss 0.4841\t Accuracy 0.8479\n",
      "\n",
      "Epoch [5]\t Average training loss 0.4830\t Average training accuracy 0.8483\n",
      "Epoch [5]\t Average validation loss 0.3771\t Average validation accuracy 0.8792\n",
      "\n",
      "Epoch [6][10]\t Batch [0][550]\t Training Loss 0.4780\t Accuracy 0.8700\n",
      "Epoch [6][10]\t Batch [50][550]\t Training Loss 0.4317\t Accuracy 0.8629\n",
      "Epoch [6][10]\t Batch [100][550]\t Training Loss 0.4558\t Accuracy 0.8587\n",
      "Epoch [6][10]\t Batch [150][550]\t Training Loss 0.4616\t Accuracy 0.8564\n",
      "Epoch [6][10]\t Batch [200][550]\t Training Loss 0.4564\t Accuracy 0.8571\n",
      "Epoch [6][10]\t Batch [250][550]\t Training Loss 0.4506\t Accuracy 0.8582\n",
      "Epoch [6][10]\t Batch [300][550]\t Training Loss 0.4523\t Accuracy 0.8582\n",
      "Epoch [6][10]\t Batch [350][550]\t Training Loss 0.4540\t Accuracy 0.8574\n",
      "Epoch [6][10]\t Batch [400][550]\t Training Loss 0.4512\t Accuracy 0.8584\n",
      "Epoch [6][10]\t Batch [450][550]\t Training Loss 0.4492\t Accuracy 0.8587\n",
      "Epoch [6][10]\t Batch [500][550]\t Training Loss 0.4515\t Accuracy 0.8577\n",
      "\n",
      "Epoch [6]\t Average training loss 0.4507\t Average training accuracy 0.8582\n",
      "Epoch [6]\t Average validation loss 0.3609\t Average validation accuracy 0.8930\n",
      "\n",
      "Epoch [7][10]\t Batch [0][550]\t Training Loss 0.4165\t Accuracy 0.8900\n",
      "Epoch [7][10]\t Batch [50][550]\t Training Loss 0.4092\t Accuracy 0.8749\n",
      "Epoch [7][10]\t Batch [100][550]\t Training Loss 0.4262\t Accuracy 0.8676\n",
      "Epoch [7][10]\t Batch [150][550]\t Training Loss 0.4374\t Accuracy 0.8617\n",
      "Epoch [7][10]\t Batch [200][550]\t Training Loss 0.4363\t Accuracy 0.8624\n",
      "Epoch [7][10]\t Batch [250][550]\t Training Loss 0.4313\t Accuracy 0.8644\n",
      "Epoch [7][10]\t Batch [300][550]\t Training Loss 0.4325\t Accuracy 0.8641\n",
      "Epoch [7][10]\t Batch [350][550]\t Training Loss 0.4326\t Accuracy 0.8637\n",
      "Epoch [7][10]\t Batch [400][550]\t Training Loss 0.4301\t Accuracy 0.8642\n",
      "Epoch [7][10]\t Batch [450][550]\t Training Loss 0.4276\t Accuracy 0.8652\n",
      "Epoch [7][10]\t Batch [500][550]\t Training Loss 0.4299\t Accuracy 0.8644\n",
      "\n",
      "Epoch [7]\t Average training loss 0.4291\t Average training accuracy 0.8647\n",
      "Epoch [7]\t Average validation loss 0.3421\t Average validation accuracy 0.8932\n",
      "\n",
      "Epoch [8][10]\t Batch [0][550]\t Training Loss 0.3141\t Accuracy 0.9200\n",
      "Epoch [8][10]\t Batch [50][550]\t Training Loss 0.4068\t Accuracy 0.8731\n",
      "Epoch [8][10]\t Batch [100][550]\t Training Loss 0.4169\t Accuracy 0.8706\n",
      "Epoch [8][10]\t Batch [150][550]\t Training Loss 0.4211\t Accuracy 0.8699\n",
      "Epoch [8][10]\t Batch [200][550]\t Training Loss 0.4171\t Accuracy 0.8715\n",
      "Epoch [8][10]\t Batch [250][550]\t Training Loss 0.4119\t Accuracy 0.8738\n",
      "Epoch [8][10]\t Batch [300][550]\t Training Loss 0.4130\t Accuracy 0.8735\n",
      "Epoch [8][10]\t Batch [350][550]\t Training Loss 0.4134\t Accuracy 0.8727\n",
      "Epoch [8][10]\t Batch [400][550]\t Training Loss 0.4117\t Accuracy 0.8733\n",
      "Epoch [8][10]\t Batch [450][550]\t Training Loss 0.4105\t Accuracy 0.8735\n",
      "Epoch [8][10]\t Batch [500][550]\t Training Loss 0.4114\t Accuracy 0.8730\n",
      "\n",
      "Epoch [8]\t Average training loss 0.4119\t Average training accuracy 0.8728\n",
      "Epoch [8]\t Average validation loss 0.3189\t Average validation accuracy 0.9024\n",
      "\n",
      "Epoch [9][10]\t Batch [0][550]\t Training Loss 0.4119\t Accuracy 0.9100\n",
      "Epoch [9][10]\t Batch [50][550]\t Training Loss 0.3758\t Accuracy 0.8847\n",
      "Epoch [9][10]\t Batch [100][550]\t Training Loss 0.3901\t Accuracy 0.8793\n",
      "Epoch [9][10]\t Batch [150][550]\t Training Loss 0.4023\t Accuracy 0.8733\n",
      "Epoch [9][10]\t Batch [200][550]\t Training Loss 0.3963\t Accuracy 0.8762\n",
      "Epoch [9][10]\t Batch [250][550]\t Training Loss 0.3944\t Accuracy 0.8766\n",
      "Epoch [9][10]\t Batch [300][550]\t Training Loss 0.3950\t Accuracy 0.8762\n",
      "Epoch [9][10]\t Batch [350][550]\t Training Loss 0.3959\t Accuracy 0.8763\n",
      "Epoch [9][10]\t Batch [400][550]\t Training Loss 0.3944\t Accuracy 0.8763\n",
      "Epoch [9][10]\t Batch [450][550]\t Training Loss 0.3931\t Accuracy 0.8767\n",
      "Epoch [9][10]\t Batch [500][550]\t Training Loss 0.3951\t Accuracy 0.8758\n",
      "\n",
      "Epoch [9]\t Average training loss 0.3946\t Average training accuracy 0.8765\n",
      "Epoch [9]\t Average validation loss 0.3089\t Average validation accuracy 0.9006\n",
      "\n",
      "Testing...\n",
      "The test accuracy is 0.9088.\n",
      "\n"
     ]
    }
   ],
   "source": [
    "from layers import DropoutLayer\n",
    "from layers import FCLayer, ReLULayer, ConvLayer, MaxPoolingLayer, ReshapeLayer, DropoutLayer\n",
    "\n",
    "# build your network\n",
    "convNet = Network()\n",
    "convNet.add(ConvLayer(1, 8, 3, 1))\n",
    "convNet.add(ReLULayer())\n",
    "convNet.add(DropoutLayer(0.5))\n",
    "convNet.add(MaxPoolingLayer(2, 0))\n",
    "convNet.add(ConvLayer(8, 16, 3, 1))\n",
    "convNet.add(ReLULayer())\n",
    "convNet.add(MaxPoolingLayer(2, 0))\n",
    "convNet.add(ReshapeLayer((batch_size, 16, 7, 7), (batch_size, 784)))\n",
    "convNet.add(FCLayer(784, 128))\n",
    "convNet.add(ReLULayer())\n",
    "convNet.add(FCLayer(128, 10))\n",
    "\n",
    "\n",
    "\n",
    "# training\n",
    "convNet.is_training = True\n",
    "convNet, conv_loss, conv_acc = train(convNet, criterion, sgd, data_train, max_epoch, batch_size, disp_freq)\n",
    "\n",
    "# testing\n",
    "convNet.is_training = False\n",
    "test(convNet, criterion, data_test, batch_size, disp_freq)"
   ]
  },
  {
   "cell_type": "code",
   "execution_count": null,
   "metadata": {},
   "outputs": [],
   "source": [
    "plot_loss_and_acc({'ConvNet': [conv_loss, conv_acc]})"
   ]
  },
  {
   "cell_type": "code",
   "execution_count": null,
   "metadata": {},
   "outputs": [],
   "source": []
  }
 ],
 "metadata": {
  "kernelspec": {
   "name": "python361264bitpy36condab15cfc676c924d3bb5d13a94d0f7deaa",
   "display_name": "Python 3.8.5 64-bit ('base': conda)"
  },
  "language_info": {
   "codemirror_mode": {
    "name": "ipython",
    "version": 3
   },
   "file_extension": ".py",
   "mimetype": "text/x-python",
   "name": "python",
   "nbconvert_exporter": "python",
   "pygments_lexer": "ipython3",
   "version": "3.8.5-final"
  },
  "metadata": {
   "interpreter": {
    "hash": "43a47cbf8391b3ad19eb6e4412e9a0df564a28f628205ac6247f55929365ed7c"
   }
  }
 },
 "nbformat": 4,
 "nbformat_minor": 2
}