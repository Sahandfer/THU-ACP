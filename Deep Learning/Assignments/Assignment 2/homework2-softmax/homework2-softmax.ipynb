{
 "cells": [
  {
   "cell_type": "markdown",
   "metadata": {},
   "source": [
    "# Homework-2: Softmax for MNIST Classification\n",
    "\n",
    "### In this homework, you need to\n",
    "- ### implement and apply a softmax classifier to perform digits classification."
   ]
  },
  {
   "cell_type": "code",
   "execution_count": null,
   "metadata": {},
   "outputs": [],
   "source": [
    "import os,sys\n",
    "import numpy as np\n",
    "import matplotlib.pyplot as plt\n",
    "%matplotlib inline"
   ]
  },
  {
   "cell_type": "markdown",
   "metadata": {},
   "source": [
    "## Load MNIST Dataset\n",
    "The **mnist_data_loader.py** is a script to load mnist dataset, which is included in [TensorFlow tutorial](https://github.com/tensorflow/tensorflow/blob/r0.7/tensorflow/examples/tutorials/mnist/input_data.py)."
   ]
  },
  {
   "cell_type": "code",
   "execution_count": null,
   "metadata": {},
   "outputs": [],
   "source": [
    "import mnist_data_loader\n",
    "\n",
    "mnist_dataset = mnist_data_loader.read_data_sets(\"./MNIST_data/\", one_hot=True)\n",
    "\n",
    "# training dataset\n",
    "train_set = mnist_dataset.train \n",
    "# test dataset\n",
    "test_set = mnist_dataset.test   \n",
    "\n",
    "train_size = train_set.num_examples\n",
    "test_size = test_set.num_examples\n",
    "print()\n",
    "print('Training dataset size: ', train_size)\n",
    "print('Test dataset size: ', test_size)"
   ]
  },
  {
   "cell_type": "markdown",
   "metadata": {},
   "source": [
    "## Data Example\n",
    "To have a better understand of MNIST dataset, we can visualize some examples in MNIST."
   ]
  },
  {
   "cell_type": "code",
   "execution_count": null,
   "metadata": {},
   "outputs": [],
   "source": [
    "# You can choose any image in training set to visualize, example_id ∈ [0,60000)\n",
    "example_id = 0 \n",
    "\n",
    "image = train_set.images[example_id] # shape = 784 (28*28)\n",
    "label = train_set.labels[example_id] # shape = 10\n",
    "#print(image)\n",
    "print(label)\n",
    "plt.imshow(np.reshape(image,[28,28]))"
   ]
  },
  {
   "cell_type": "markdown",
   "metadata": {},
   "source": [
    "## Set Hyerparameters\n",
    "You can modify hyerparameters by yourself."
   ]
  },
  {
   "cell_type": "code",
   "execution_count": null,
   "metadata": {},
   "outputs": [],
   "source": [
    "batch_size = 100\n",
    "max_epoch = 10\n",
    "learning_rate = 0.01\n",
    "\n",
    "# For regularization\n",
    "lamda = 0.5"
   ]
  },
  {
   "cell_type": "markdown",
   "metadata": {},
   "source": [
    "### TODO\n",
    "Before executing the following code, you should accomplish **./softmax_classifier.py**."
   ]
  },
  {
   "cell_type": "code",
   "execution_count": null,
   "metadata": {},
   "outputs": [],
   "source": [
    "from softmax_classifier import softmax_classifier"
   ]
  },
  {
   "cell_type": "markdown",
   "metadata": {},
   "source": [
    "## Train"
   ]
  },
  {
   "cell_type": "code",
   "execution_count": null,
   "metadata": {
    "scrolled": true
   },
   "outputs": [],
   "source": [
    "# Weight Initialization\n",
    "W = np.random.randn(28*28, 10) * 0.001\n",
    "\n",
    "loss_set = []\n",
    "accu_set = []\n",
    "disp_freq = 100\n",
    "\n",
    "# Training process\n",
    "for epoch in range(0, max_epoch):\n",
    "    iter_per_batch = train_size // batch_size\n",
    "    for batch_id in range(0, iter_per_batch):\n",
    "        batch = train_set.next_batch(batch_size) # get data of next batch\n",
    "        input, label = batch\n",
    "        \n",
    "        # softmax_classifier\n",
    "        loss, gradient, prediction = softmax_classifier(W, input , label, lamda)\n",
    "        \n",
    "        # Calculate accuracy\n",
    "        label = np.argmax(label, axis=1) # scalar representation\n",
    "        accuracy = sum(prediction == label) / float(len(label))\n",
    "        \n",
    "        loss_set.append(loss)\n",
    "        accu_set.append(accuracy)\n",
    "        \n",
    "        # Update weights\n",
    "        W = W - (learning_rate * gradient)\n",
    "        if batch_id % disp_freq == 0:\n",
    "            print(\"Epoch [{}][{}]\\t Batch [{}][{}]\\t Training Loss {:.4f}\\t Accuracy {:.4f}\".format(\n",
    "                epoch, max_epoch, batch_id, iter_per_batch, \n",
    "                loss, accuracy))\n",
    "    print()"
   ]
  },
  {
   "cell_type": "markdown",
   "metadata": {},
   "source": [
    "## Test"
   ]
  },
  {
   "cell_type": "code",
   "execution_count": null,
   "metadata": {
    "scrolled": true
   },
   "outputs": [],
   "source": [
    "correct = 0\n",
    "iter_per_batch = test_size // batch_size\n",
    "\n",
    "# Test process\n",
    "for batch_id in range(0, iter_per_batch):\n",
    "    batch = test_set.next_batch(batch_size)\n",
    "    data, label = batch\n",
    "    \n",
    "    # We only need prediction results in testing\n",
    "    _,_, prediction = softmax_classifier(W, data , label, lamda)\n",
    "    label = np.argmax(label, axis=1)\n",
    "    \n",
    "    correct += sum(prediction == label)\n",
    "    \n",
    "accuracy = correct * 1.0 / test_size\n",
    "print('Test Accuracy: ', accuracy)"
   ]
  },
  {
   "cell_type": "markdown",
   "metadata": {},
   "source": [
    "## Plot"
   ]
  },
  {
   "cell_type": "code",
   "execution_count": null,
   "metadata": {
    "scrolled": false
   },
   "outputs": [],
   "source": [
    "# training loss curve\n",
    "plt.figure()\n",
    "plt.plot(loss_set, 'b--')\n",
    "plt.xlabel('iteration')\n",
    "plt.ylabel('loss')\n",
    "# training accuracy curve\n",
    "plt.figure()\n",
    "plt.plot(accu_set, 'r--')\n",
    "plt.xlabel('iteration')\n",
    "plt.ylabel('accuracy');"
   ]
  },
  {
   "cell_type": "markdown",
   "metadata": {},
   "source": [
    "### You have finished homework2-softmax, congratulations!"
   ]
  }
 ],
 "metadata": {
  "kernelspec": {
   "display_name": "Python 3",
   "language": "python",
   "name": "python3"
  },
  "language_info": {
   "codemirror_mode": {
    "name": "ipython",
    "version": 3
   },
   "file_extension": ".py",
   "mimetype": "text/x-python",
   "name": "python",
   "nbconvert_exporter": "python",
   "pygments_lexer": "ipython3",
   "version": "3.6.7"
  }
 },
 "nbformat": 4,
 "nbformat_minor": 2
}
