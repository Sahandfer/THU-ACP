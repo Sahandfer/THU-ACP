{
 "cells": [
  {
   "cell_type": "code",
   "execution_count": null,
   "metadata": {
    "collapsed": true
   },
   "outputs": [],
   "source": [
    "from __future__ import absolute_import\n",
    "from __future__ import division\n",
    "from __future__ import print_function\n",
    "\n",
    "import numpy as np\n",
    "import six\n",
    "from six.moves import range"
   ]
  },
  {
   "cell_type": "code",
   "execution_count": null,
   "metadata": {
    "collapsed": true
   },
   "outputs": [],
   "source": [
    "from matplotlib import pyplot as plt\n",
    "%matplotlib inline"
   ]
  },
  {
   "cell_type": "code",
   "execution_count": null,
   "metadata": {
    "collapsed": true
   },
   "outputs": [],
   "source": [
    "X = np.loadtxt('iris.data', dtype='object', delimiter=',')\n",
    "Y = X[:,-1]\n",
    "X = X[:, :-1].astype('f')\n",
    "X.shape, Y.shape, Y.dtype"
   ]
  },
  {
   "cell_type": "markdown",
   "metadata": {},
   "source": [
    "`X` is a `NxK` float matrix where each row (`X[i]`) corresponds to a data point."
   ]
  },
  {
   "cell_type": "code",
   "execution_count": null,
   "metadata": {
    "collapsed": true
   },
   "outputs": [],
   "source": [
    "def gmm(X, n_classes, n_iter):\n",
    "    # TODO fill in your code here\n",
    "    return class_assignments, mean, cov"
   ]
  },
  {
   "cell_type": "code",
   "execution_count": null,
   "metadata": {
    "collapsed": true
   },
   "outputs": [],
   "source": [
    "class_assignments, mean, cov = gmm(X, 3, 500)  # You may want to tune the number of iterations"
   ]
  },
  {
   "cell_type": "markdown",
   "metadata": {},
   "source": [
    "## Visualization: a Cross Section"
   ]
  },
  {
   "cell_type": "code",
   "execution_count": null,
   "metadata": {
    "collapsed": true
   },
   "outputs": [],
   "source": [
    "plt.figure(figsize=(9,4))\n",
    "plt.subplot(121)\n",
    "for k in range(3):\n",
    "    plt.scatter(X[class_assignments==k, 2], X[class_assignments==k, 1], s=2)\n",
    "plt.subplot(122)\n",
    "for k, class_name in enumerate(np.unique(Y)):\n",
    "    plt.scatter(X[Y==class_name, 2], X[Y==class_name, 1], s=2)"
   ]
  },
  {
   "cell_type": "markdown",
   "metadata": {},
   "source": [
    "## Visualization: PCA Projection"
   ]
  },
  {
   "cell_type": "code",
   "execution_count": null,
   "metadata": {
    "collapsed": true
   },
   "outputs": [],
   "source": [
    "evals, evecs = np.linalg.eigh(np.cov(X.T))\n",
    "to_crd = lambda x: ((x-x.mean(axis=0))@evecs)[:,-2:]\n",
    "crds = to_crd(X)"
   ]
  },
  {
   "cell_type": "code",
   "execution_count": null,
   "metadata": {
    "collapsed": true
   },
   "outputs": [],
   "source": [
    "plt.figure(figsize=(9,4))\n",
    "plt.subplot(121)\n",
    "for k in range(3):\n",
    "    plt.scatter(crds[class_assignments==k, 0], crds[class_assignments==k, 1], s=2)\n",
    "plt.scatter(to_crd(mean)[:,0], to_crd(mean)[:,1], s=30, marker='+')\n",
    "plt.subplot(122)\n",
    "for k in np.unique(Y):\n",
    "    plt.scatter(crds[Y==k, 0], crds[Y==k, 1], s=2)"
   ]
  }
 ],
 "metadata": {
  "kernelspec": {
   "display_name": "Python 3",
   "language": "python",
   "name": "python3"
  },
  "language_info": {
   "codemirror_mode": {
    "name": "ipython",
    "version": 3
   },
   "file_extension": ".py",
   "mimetype": "text/x-python",
   "name": "python",
   "nbconvert_exporter": "python",
   "pygments_lexer": "ipython3",
   "version": "3.6.3"
  }
 },
 "nbformat": 4,
 "nbformat_minor": 2
}
