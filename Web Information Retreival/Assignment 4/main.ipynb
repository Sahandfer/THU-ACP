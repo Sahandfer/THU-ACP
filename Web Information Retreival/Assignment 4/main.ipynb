{
 "cells": [
  {
   "cell_type": "code",
   "execution_count": 1,
   "metadata": {},
   "outputs": [],
   "source": [
    "import pandas as pd\n",
    "import numpy as np"
   ]
  },
  {
   "cell_type": "code",
   "execution_count": 2,
   "metadata": {},
   "outputs": [],
   "source": [
    "for i in range(5):\n",
    "    dft = pd.read_csv(f\"../Assignment 3/query{i+1}/rank.csv\")\n",
    "    df = pd.read_csv(f\"query{i+1}/rank.csv\")\n",
    "\n",
    "    df[[\"vsm_rank\",\"vsm_score\",\"bm25_rank\",\"bm25_score\"]] = dft[[\"vsm_rank\",\"vsm_score\",\"bm25_rank\",\"bm25_score\"]] \n",
    "    df.to_csv(f\"query{i+1}/rank.csv\", index=False)"
   ]
  },
  {
   "cell_type": "code",
   "execution_count": 63,
   "metadata": {},
   "outputs": [],
   "source": [
    "idx = 5"
   ]
  },
  {
   "cell_type": "code",
   "execution_count": 67,
   "metadata": {},
   "outputs": [],
   "source": [
    "df = pd.read_csv(f\"query{idx}/rank.csv\", encoding_errors='ignore')"
   ]
  },
  {
   "cell_type": "code",
   "execution_count": 68,
   "metadata": {},
   "outputs": [],
   "source": [
    "def change_val(row):\n",
    "    return 0 if row in [-1, -2] else 1\n",
    "    \n",
    "\n",
    "def calc_kappa(df, num_way = 5):\n",
    "    if num_way == 2:\n",
    "        df[\"annotation1\"] = df[\"annotation1\"].apply(lambda x: change_val(x))\n",
    "        df[\"annotation2\"] = df[\"annotation2\"].apply(lambda x: change_val(x))\n",
    "\n",
    "    p_a = len(df[df[\"annotation1\"] == df[\"annotation2\"]]) / len(df)\n",
    "    p_e = 0\n",
    "    for v in df[\"annotation1\"].unique():\n",
    "        p_e += (df[\"annotation1\"].value_counts().get(v,0) / len(df)) * (df[\"annotation2\"].value_counts().get(v,0) / len(df))\n",
    "\n",
    "    kappa = (p_a - p_e) / (1 - p_e)\n",
    "    \n",
    "    return kappa\n",
    "\n",
    "kappa_5 = calc_kappa(df)\n",
    "kappa_2 = calc_kappa(df, 2)"
   ]
  },
  {
   "cell_type": "code",
   "execution_count": 70,
   "metadata": {},
   "outputs": [
    {
     "data": {
      "text/plain": [
       "0.07766990291262138"
      ]
     },
     "execution_count": 70,
     "metadata": {},
     "output_type": "execute_result"
    }
   ],
   "source": [
    "kappa_5"
   ]
  },
  {
   "cell_type": "code",
   "execution_count": 54,
   "metadata": {},
   "outputs": [],
   "source": [
    "df = pd.read_csv(f\"query{idx}/rank.csv\",encoding_errors='ignore')"
   ]
  },
  {
   "cell_type": "code",
   "execution_count": 55,
   "metadata": {},
   "outputs": [],
   "source": [
    "df[\"annotation\"] = df[[\"annotation1\", \"annotation2\"]].mean(axis=1)\n",
    "df[\"relevance\"] = df[\"annotation\"].apply(lambda x: 1 if x > 0 else 0)"
   ]
  },
  {
   "cell_type": "code",
   "execution_count": 56,
   "metadata": {},
   "outputs": [],
   "source": [
    "map_list = [\"vsm\", \"bm25\"] + df[\"SE\"].unique().tolist()\n",
    "map_res = {}\n",
    "for i, item in enumerate(map_list):\n",
    "    map_val = 1\n",
    "    recalls = []\n",
    "    precisions = []\n",
    "    if i > 1:\n",
    "        dft = df[df[\"SE\"] == item]\n",
    "    else:\n",
    "        dft = df.sort_values(by=[f\"{item}_rank\"], ascending=True)\n",
    "\n",
    "    num_total_rel = len(dft[dft[\"relevance\"] == 1])\n",
    "\n",
    "    for j in range(len(dft)):\n",
    "        dftt = dft.head(j+1)\n",
    "        num_rel = len(dftt[dftt[\"relevance\"] == 1])\n",
    "        recalls.append(num_rel / num_total_rel)\n",
    "        precisions.append(num_rel / (j+1))\n",
    "\n",
    "    max_precisions = [0] * 11\n",
    "    for j in range(11):\n",
    "        p_cur = max([p for p, r in zip(precisions, recalls) if r >= j/10]+ [0])\n",
    "        max_precisions[j] = max(max_precisions[j], p_cur)\n",
    "\n",
    "    map_res[f\"MAP-{item}\"] = sum(max_precisions) / 11 "
   ]
  },
  {
   "cell_type": "code",
   "execution_count": 57,
   "metadata": {},
   "outputs": [
    {
     "data": {
      "text/plain": [
       "{'MAP-vsm': 0.9339712918660287,\n",
       " 'MAP-bm25': 0.9518341307814993,\n",
       " 'MAP-Bing': 0.7474747474747475,\n",
       " 'MAP-Google': 1.0}"
      ]
     },
     "execution_count": 57,
     "metadata": {},
     "output_type": "execute_result"
    }
   ],
   "source": [
    "map_res"
   ]
  },
  {
   "cell_type": "code",
   "execution_count": 58,
   "metadata": {},
   "outputs": [],
   "source": [
    "def change_values_ndcg(val):\n",
    "    if val >= 2:\n",
    "        return 3\n",
    "    elif val > 0:\n",
    "        return 2\n",
    "    elif val > -1:\n",
    "        return 1\n",
    "    else:\n",
    "        return 0\n",
    "\n",
    "df[\"annotation\"] = df[\"annotation\"] = df[[\"annotation1\", \"annotation2\"]].mean(axis=1)\n",
    "df[\"annotation\"] = df[\"annotation\"].apply(lambda x: change_values_ndcg(x))"
   ]
  },
  {
   "cell_type": "code",
   "execution_count": 59,
   "metadata": {},
   "outputs": [],
   "source": [
    "ndcg_list = [\"vsm\", \"bm25\"] + df[\"SE\"].unique().tolist()\n",
    "ndcg_res = {}\n",
    "for i in [5, 10]:\n",
    "    for j, item in enumerate(ndcg_list):\n",
    "        if j > 1:\n",
    "            dft = df[df[\"SE\"] == item].sort_values(by=[\"rank\"], ascending=True).head(i)\n",
    "        else:\n",
    "            dft = dft.sort_values(by=[f\"{item}_rank\"], ascending=True).head(i)\n",
    "\n",
    "        annots = dft[\"annotation\"].to_list()\n",
    "        ranks = dft[\"rank\"].to_list()\n",
    "        dcg = sum([annots[k] / (np.log2(ranks[k]) if ranks[k] > 1 else 1) for k in range(len(dft))])\n",
    "        \n",
    "        df_perfect = dft.sort_values(by=[\"annotation\"], ascending=False)[:i]\n",
    "        p_score = sum([df_perfect[\"annotation\"].iloc[k] / (np.log2(k+1) if k > 0 else 1) for k in range(len(df_perfect))])\n",
    "\n",
    "        ndcg = dcg / p_score\n",
    "\n",
    "        ndcg_res[f\"NDGC@{i}-{item}\"] = ndcg"
   ]
  },
  {
   "cell_type": "code",
   "execution_count": 60,
   "metadata": {},
   "outputs": [
    {
     "data": {
      "text/plain": [
       "{'NDGC@5-vsm': 0.7786245500245952,\n",
       " 'NDGC@5-bm25': 0.7786245500245952,\n",
       " 'NDGC@5-Bing': 1.0,\n",
       " 'NDGC@5-Google': 1.0,\n",
       " 'NDGC@10-vsm': 0.9999999999999998,\n",
       " 'NDGC@10-bm25': 1.0,\n",
       " 'NDGC@10-Bing': 0.8934961773206895,\n",
       " 'NDGC@10-Google': 0.9916153951844069}"
      ]
     },
     "execution_count": 60,
     "metadata": {},
     "output_type": "execute_result"
    }
   ],
   "source": [
    "ndcg_res"
   ]
  },
  {
   "cell_type": "code",
   "execution_count": 61,
   "metadata": {},
   "outputs": [],
   "source": [
    "measures = [\"kappa2\", \"kappa5\"] + list(map_res.keys()) + list(ndcg_res.keys())\n",
    "scores = [kappa_2, kappa_5] + list(map_res.values()) + list(ndcg_res.values())\n",
    "\n",
    "df = pd.DataFrame({\"Measure\": measures, \"Score\": scores})\n",
    "df.to_csv(f\"query{idx}/evaluation.csv\", index=False)"
   ]
  },
  {
   "cell_type": "code",
   "execution_count": 62,
   "metadata": {},
   "outputs": [
    {
     "data": {
      "text/html": [
       "<div>\n",
       "<style scoped>\n",
       "    .dataframe tbody tr th:only-of-type {\n",
       "        vertical-align: middle;\n",
       "    }\n",
       "\n",
       "    .dataframe tbody tr th {\n",
       "        vertical-align: top;\n",
       "    }\n",
       "\n",
       "    .dataframe thead th {\n",
       "        text-align: right;\n",
       "    }\n",
       "</style>\n",
       "<table border=\"1\" class=\"dataframe\">\n",
       "  <thead>\n",
       "    <tr style=\"text-align: right;\">\n",
       "      <th></th>\n",
       "      <th>Measure</th>\n",
       "      <th>Score</th>\n",
       "    </tr>\n",
       "  </thead>\n",
       "  <tbody>\n",
       "    <tr>\n",
       "      <th>0</th>\n",
       "      <td>kappa2</td>\n",
       "      <td>0.875000</td>\n",
       "    </tr>\n",
       "    <tr>\n",
       "      <th>1</th>\n",
       "      <td>kappa5</td>\n",
       "      <td>0.503546</td>\n",
       "    </tr>\n",
       "    <tr>\n",
       "      <th>2</th>\n",
       "      <td>MAP-vsm</td>\n",
       "      <td>0.933971</td>\n",
       "    </tr>\n",
       "    <tr>\n",
       "      <th>3</th>\n",
       "      <td>MAP-bm25</td>\n",
       "      <td>0.951834</td>\n",
       "    </tr>\n",
       "    <tr>\n",
       "      <th>4</th>\n",
       "      <td>MAP-Bing</td>\n",
       "      <td>0.747475</td>\n",
       "    </tr>\n",
       "    <tr>\n",
       "      <th>5</th>\n",
       "      <td>MAP-Google</td>\n",
       "      <td>1.000000</td>\n",
       "    </tr>\n",
       "    <tr>\n",
       "      <th>6</th>\n",
       "      <td>NDGC@5-vsm</td>\n",
       "      <td>0.778625</td>\n",
       "    </tr>\n",
       "    <tr>\n",
       "      <th>7</th>\n",
       "      <td>NDGC@5-bm25</td>\n",
       "      <td>0.778625</td>\n",
       "    </tr>\n",
       "    <tr>\n",
       "      <th>8</th>\n",
       "      <td>NDGC@5-Bing</td>\n",
       "      <td>1.000000</td>\n",
       "    </tr>\n",
       "    <tr>\n",
       "      <th>9</th>\n",
       "      <td>NDGC@5-Google</td>\n",
       "      <td>1.000000</td>\n",
       "    </tr>\n",
       "    <tr>\n",
       "      <th>10</th>\n",
       "      <td>NDGC@10-vsm</td>\n",
       "      <td>1.000000</td>\n",
       "    </tr>\n",
       "    <tr>\n",
       "      <th>11</th>\n",
       "      <td>NDGC@10-bm25</td>\n",
       "      <td>1.000000</td>\n",
       "    </tr>\n",
       "    <tr>\n",
       "      <th>12</th>\n",
       "      <td>NDGC@10-Bing</td>\n",
       "      <td>0.893496</td>\n",
       "    </tr>\n",
       "    <tr>\n",
       "      <th>13</th>\n",
       "      <td>NDGC@10-Google</td>\n",
       "      <td>0.991615</td>\n",
       "    </tr>\n",
       "  </tbody>\n",
       "</table>\n",
       "</div>"
      ],
      "text/plain": [
       "           Measure     Score\n",
       "0           kappa2  0.875000\n",
       "1           kappa5  0.503546\n",
       "2          MAP-vsm  0.933971\n",
       "3         MAP-bm25  0.951834\n",
       "4         MAP-Bing  0.747475\n",
       "5       MAP-Google  1.000000\n",
       "6       NDGC@5-vsm  0.778625\n",
       "7      NDGC@5-bm25  0.778625\n",
       "8      NDGC@5-Bing  1.000000\n",
       "9    NDGC@5-Google  1.000000\n",
       "10     NDGC@10-vsm  1.000000\n",
       "11    NDGC@10-bm25  1.000000\n",
       "12    NDGC@10-Bing  0.893496\n",
       "13  NDGC@10-Google  0.991615"
      ]
     },
     "execution_count": 62,
     "metadata": {},
     "output_type": "execute_result"
    }
   ],
   "source": [
    "df"
   ]
  },
  {
   "cell_type": "code",
   "execution_count": 74,
   "metadata": {},
   "outputs": [],
   "source": [
    "res = {}\n",
    "for i in range(5):\n",
    "    df = pd.read_csv(f\"query{i+1}/evaluation.csv\")\n",
    "    r = dict(zip(df.Measure, df.Score))\n",
    "    for k,v in r.items():\n",
    "        res[k] = (res.get(k, 0) + v) /2"
   ]
  },
  {
   "cell_type": "code",
   "execution_count": 75,
   "metadata": {},
   "outputs": [
    {
     "data": {
      "text/plain": [
       "{'kappa2': 0.6402660472972974,\n",
       " 'kappa5': 0.3232419171060195,\n",
       " 'MAP-vsm': 0.8723175230020238,\n",
       " 'MAP-bm25': 0.8975141551696577,\n",
       " 'MAP-Google': 0.8446969696969697,\n",
       " 'MAP-Bing': 0.8205176767676768,\n",
       " 'NDGC@5-vsm': 0.712693967913187,\n",
       " 'NDGC@5-bm25': 0.712693967913187,\n",
       " 'NDGC@5-Google': 0.8693688034527621,\n",
       " 'NDGC@5-Bing': 0.9505956073983777,\n",
       " 'NDGC@10-vsm': 0.960439396428318,\n",
       " 'NDGC@10-bm25': 0.9604393964283181,\n",
       " 'NDGC@10-Google': 0.859836631642539,\n",
       " 'NDGC@10-Bing': 0.892955345302622,\n",
       " 'MAP-Baidu': 0.5,\n",
       " 'NDGC@5-Baidu': 0.5,\n",
       " 'NDGC@10-Baidu': 0.4934556873605576,\n",
       " 'MAP-Ecosia': 0.4636363636363637,\n",
       " 'NDGC@5-Ecosia': 0.4796148122065969,\n",
       " 'NDGC@10-Ecosia': 0.4782408454621405}"
      ]
     },
     "execution_count": 75,
     "metadata": {},
     "output_type": "execute_result"
    }
   ],
   "source": [
    "res"
   ]
  },
  {
   "cell_type": "code",
   "execution_count": null,
   "metadata": {},
   "outputs": [],
   "source": []
  }
 ],
 "metadata": {
  "kernelspec": {
   "display_name": "base",
   "language": "python",
   "name": "python3"
  },
  "language_info": {
   "codemirror_mode": {
    "name": "ipython",
    "version": 3
   },
   "file_extension": ".py",
   "mimetype": "text/x-python",
   "name": "python",
   "nbconvert_exporter": "python",
   "pygments_lexer": "ipython3",
   "version": "3.9.10"
  },
  "orig_nbformat": 4,
  "vscode": {
   "interpreter": {
    "hash": "bb3f2114c670f5bec2d926b665f3e281beb9796a7e9b7268de55810a8060f8f6"
   }
  }
 },
 "nbformat": 4,
 "nbformat_minor": 2
}
